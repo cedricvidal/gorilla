{
 "cells": [
  {
   "cell_type": "code",
   "execution_count": 3,
   "metadata": {},
   "outputs": [],
   "source": [
    "import tiktoken\n",
    "import pandas as pd"
   ]
  },
  {
   "cell_type": "code",
   "execution_count": 4,
   "metadata": {},
   "outputs": [],
   "source": [
    "dataset_path_hf_full=\"dataset/vampire-bats-6-files/vampire-bats-6-ft.eval.jsonl\""
   ]
  },
  {
   "cell_type": "code",
   "execution_count": 5,
   "metadata": {},
   "outputs": [
    {
     "data": {
      "text/html": [
       "<div>\n",
       "<style scoped>\n",
       "    .dataframe tbody tr th:only-of-type {\n",
       "        vertical-align: middle;\n",
       "    }\n",
       "\n",
       "    .dataframe tbody tr th {\n",
       "        vertical-align: top;\n",
       "    }\n",
       "\n",
       "    .dataframe thead th {\n",
       "        text-align: right;\n",
       "    }\n",
       "</style>\n",
       "<table border=\"1\" class=\"dataframe\">\n",
       "  <thead>\n",
       "    <tr style=\"text-align: right;\">\n",
       "      <th></th>\n",
       "      <th>question</th>\n",
       "      <th>answer</th>\n",
       "      <th>gold_final_answer</th>\n",
       "      <th>final_answer</th>\n",
       "      <th>context</th>\n",
       "    </tr>\n",
       "  </thead>\n",
       "  <tbody>\n",
       "    <tr>\n",
       "      <th>0</th>\n",
       "      <td>What kind of vision do most microbats have?</td>\n",
       "      <td>To answer the question, we need to identify th...</td>\n",
       "      <td>Mesopic vision</td>\n",
       "      <td>Mesopic vision</td>\n",
       "      <td>&lt;DOCUMENT&gt;These bats must dealwith changes in ...</td>\n",
       "    </tr>\n",
       "    <tr>\n",
       "      <th>1</th>\n",
       "      <td>What year was Anne Rice's Vampire Chronicles p...</td>\n",
       "      <td>To answer the question, we need to identify th...</td>\n",
       "      <td>1976</td>\n",
       "      <td>1976</td>\n",
       "      <td>&lt;DOCUMENT&gt;Huntingtonbrought surfing to the Cal...</td>\n",
       "    </tr>\n",
       "    <tr>\n",
       "      <th>2</th>\n",
       "      <td>In how many films has Dracula appeared?</td>\n",
       "      <td>To answer the question, we need to identify th...</td>\n",
       "      <td>The exact number of films is not specified in ...</td>\n",
       "      <td>More than one</td>\n",
       "      <td>&lt;DOCUMENT&gt;This formula was followed in novelis...</td>\n",
       "    </tr>\n",
       "    <tr>\n",
       "      <th>3</th>\n",
       "      <td>Who is the character that appears in more film...</td>\n",
       "      <td>To answer the question, we need to identify th...</td>\n",
       "      <td>Sherlock Holmes</td>\n",
       "      <td>Sherlock Holmes</td>\n",
       "      <td>&lt;DOCUMENT&gt;At rest, theymay wrap their wings ar...</td>\n",
       "    </tr>\n",
       "    <tr>\n",
       "      <th>4</th>\n",
       "      <td>What was the time period of Stephenie Meyer's ...</td>\n",
       "      <td>To answer the question, we need to identify th...</td>\n",
       "      <td>2005-2008</td>\n",
       "      <td>Modern</td>\n",
       "      <td>&lt;DOCUMENT&gt;.&lt;/DOCUMENT&gt;\\n&lt;DOCUMENT&gt;This formula...</td>\n",
       "    </tr>\n",
       "  </tbody>\n",
       "</table>\n",
       "</div>"
      ],
      "text/plain": [
       "                                            question  \\\n",
       "0        What kind of vision do most microbats have?   \n",
       "1  What year was Anne Rice's Vampire Chronicles p...   \n",
       "2            In how many films has Dracula appeared?   \n",
       "3  Who is the character that appears in more film...   \n",
       "4  What was the time period of Stephenie Meyer's ...   \n",
       "\n",
       "                                              answer  \\\n",
       "0  To answer the question, we need to identify th...   \n",
       "1  To answer the question, we need to identify th...   \n",
       "2  To answer the question, we need to identify th...   \n",
       "3  To answer the question, we need to identify th...   \n",
       "4  To answer the question, we need to identify th...   \n",
       "\n",
       "                                   gold_final_answer     final_answer  \\\n",
       "0                                     Mesopic vision   Mesopic vision   \n",
       "1                                               1976             1976   \n",
       "2  The exact number of films is not specified in ...    More than one   \n",
       "3                                    Sherlock Holmes  Sherlock Holmes   \n",
       "4                                          2005-2008           Modern   \n",
       "\n",
       "                                             context  \n",
       "0  <DOCUMENT>These bats must dealwith changes in ...  \n",
       "1  <DOCUMENT>Huntingtonbrought surfing to the Cal...  \n",
       "2  <DOCUMENT>This formula was followed in novelis...  \n",
       "3  <DOCUMENT>At rest, theymay wrap their wings ar...  \n",
       "4  <DOCUMENT>.</DOCUMENT>\\n<DOCUMENT>This formula...  "
      ]
     },
     "execution_count": 5,
     "metadata": {},
     "output_type": "execute_result"
    }
   ],
   "source": [
    "df = pd.read_json(dataset_path_hf_full, lines=True)\n",
    "df.head()"
   ]
  },
  {
   "cell_type": "code",
   "execution_count": 6,
   "metadata": {},
   "outputs": [],
   "source": [
    "def num_tokens_from_string(string: str, encoding_name: str = \"cl100k_base\") -> int:\n",
    "    if not string:\n",
    "        return 0\n",
    "    encoding = tiktoken.get_encoding(encoding_name)\n",
    "    num_tokens = len(encoding.encode(string))\n",
    "    return num_tokens"
   ]
  },
  {
   "cell_type": "code",
   "execution_count": 7,
   "metadata": {},
   "outputs": [
    {
     "data": {
      "text/plain": [
       "5"
      ]
     },
     "execution_count": 7,
     "metadata": {},
     "output_type": "execute_result"
    }
   ],
   "source": [
    "num_tokens_from_string(\"hello world aaaaaaaaaaaa\")"
   ]
  },
  {
   "cell_type": "code",
   "execution_count": 8,
   "metadata": {},
   "outputs": [
    {
     "data": {
      "text/html": [
       "<div>\n",
       "<style scoped>\n",
       "    .dataframe tbody tr th:only-of-type {\n",
       "        vertical-align: middle;\n",
       "    }\n",
       "\n",
       "    .dataframe tbody tr th {\n",
       "        vertical-align: top;\n",
       "    }\n",
       "\n",
       "    .dataframe thead th {\n",
       "        text-align: right;\n",
       "    }\n",
       "</style>\n",
       "<table border=\"1\" class=\"dataframe\">\n",
       "  <thead>\n",
       "    <tr style=\"text-align: right;\">\n",
       "      <th></th>\n",
       "      <th>question</th>\n",
       "      <th>answer</th>\n",
       "      <th>gold_final_answer</th>\n",
       "      <th>final_answer</th>\n",
       "      <th>context</th>\n",
       "      <th>tokens_question</th>\n",
       "      <th>tokens_context</th>\n",
       "      <th>tokens_in</th>\n",
       "      <th>tokens_answer</th>\n",
       "      <th>tokens_out</th>\n",
       "      <th>tokens_total</th>\n",
       "    </tr>\n",
       "  </thead>\n",
       "  <tbody>\n",
       "    <tr>\n",
       "      <th>0</th>\n",
       "      <td>What kind of vision do most microbats have?</td>\n",
       "      <td>To answer the question, we need to identify th...</td>\n",
       "      <td>Mesopic vision</td>\n",
       "      <td>Mesopic vision</td>\n",
       "      <td>&lt;DOCUMENT&gt;These bats must dealwith changes in ...</td>\n",
       "      <td>11</td>\n",
       "      <td>823</td>\n",
       "      <td>834</td>\n",
       "      <td>188</td>\n",
       "      <td>188</td>\n",
       "      <td>1022</td>\n",
       "    </tr>\n",
       "    <tr>\n",
       "      <th>1</th>\n",
       "      <td>What year was Anne Rice's Vampire Chronicles p...</td>\n",
       "      <td>To answer the question, we need to identify th...</td>\n",
       "      <td>1976</td>\n",
       "      <td>1976</td>\n",
       "      <td>&lt;DOCUMENT&gt;Huntingtonbrought surfing to the Cal...</td>\n",
       "      <td>10</td>\n",
       "      <td>183</td>\n",
       "      <td>193</td>\n",
       "      <td>166</td>\n",
       "      <td>166</td>\n",
       "      <td>359</td>\n",
       "    </tr>\n",
       "    <tr>\n",
       "      <th>2</th>\n",
       "      <td>In how many films has Dracula appeared?</td>\n",
       "      <td>To answer the question, we need to identify th...</td>\n",
       "      <td>The exact number of films is not specified in ...</td>\n",
       "      <td>More than one</td>\n",
       "      <td>&lt;DOCUMENT&gt;This formula was followed in novelis...</td>\n",
       "      <td>9</td>\n",
       "      <td>258</td>\n",
       "      <td>267</td>\n",
       "      <td>231</td>\n",
       "      <td>231</td>\n",
       "      <td>498</td>\n",
       "    </tr>\n",
       "    <tr>\n",
       "      <th>3</th>\n",
       "      <td>Who is the character that appears in more film...</td>\n",
       "      <td>To answer the question, we need to identify th...</td>\n",
       "      <td>Sherlock Holmes</td>\n",
       "      <td>Sherlock Holmes</td>\n",
       "      <td>&lt;DOCUMENT&gt;At rest, theymay wrap their wings ar...</td>\n",
       "      <td>13</td>\n",
       "      <td>607</td>\n",
       "      <td>620</td>\n",
       "      <td>180</td>\n",
       "      <td>180</td>\n",
       "      <td>800</td>\n",
       "    </tr>\n",
       "    <tr>\n",
       "      <th>4</th>\n",
       "      <td>What was the time period of Stephenie Meyer's ...</td>\n",
       "      <td>To answer the question, we need to identify th...</td>\n",
       "      <td>2005-2008</td>\n",
       "      <td>Modern</td>\n",
       "      <td>&lt;DOCUMENT&gt;.&lt;/DOCUMENT&gt;\\n&lt;DOCUMENT&gt;This formula...</td>\n",
       "      <td>13</td>\n",
       "      <td>193</td>\n",
       "      <td>206</td>\n",
       "      <td>249</td>\n",
       "      <td>249</td>\n",
       "      <td>455</td>\n",
       "    </tr>\n",
       "  </tbody>\n",
       "</table>\n",
       "</div>"
      ],
      "text/plain": [
       "                                            question  \\\n",
       "0        What kind of vision do most microbats have?   \n",
       "1  What year was Anne Rice's Vampire Chronicles p...   \n",
       "2            In how many films has Dracula appeared?   \n",
       "3  Who is the character that appears in more film...   \n",
       "4  What was the time period of Stephenie Meyer's ...   \n",
       "\n",
       "                                              answer  \\\n",
       "0  To answer the question, we need to identify th...   \n",
       "1  To answer the question, we need to identify th...   \n",
       "2  To answer the question, we need to identify th...   \n",
       "3  To answer the question, we need to identify th...   \n",
       "4  To answer the question, we need to identify th...   \n",
       "\n",
       "                                   gold_final_answer     final_answer  \\\n",
       "0                                     Mesopic vision   Mesopic vision   \n",
       "1                                               1976             1976   \n",
       "2  The exact number of films is not specified in ...    More than one   \n",
       "3                                    Sherlock Holmes  Sherlock Holmes   \n",
       "4                                          2005-2008           Modern   \n",
       "\n",
       "                                             context  tokens_question  \\\n",
       "0  <DOCUMENT>These bats must dealwith changes in ...               11   \n",
       "1  <DOCUMENT>Huntingtonbrought surfing to the Cal...               10   \n",
       "2  <DOCUMENT>This formula was followed in novelis...                9   \n",
       "3  <DOCUMENT>At rest, theymay wrap their wings ar...               13   \n",
       "4  <DOCUMENT>.</DOCUMENT>\\n<DOCUMENT>This formula...               13   \n",
       "\n",
       "   tokens_context  tokens_in  tokens_answer  tokens_out  tokens_total  \n",
       "0             823        834            188         188          1022  \n",
       "1             183        193            166         166           359  \n",
       "2             258        267            231         231           498  \n",
       "3             607        620            180         180           800  \n",
       "4             193        206            249         249           455  "
      ]
     },
     "execution_count": 8,
     "metadata": {},
     "output_type": "execute_result"
    }
   ],
   "source": [
    "df['tokens_question'] = df['question'].apply(num_tokens_from_string)\n",
    "df['tokens_context'] = df['context'].apply(num_tokens_from_string)\n",
    "df['tokens_in'] = df['tokens_context'] + df['tokens_question']\n",
    "df['tokens_answer'] = df['answer'].apply(num_tokens_from_string)\n",
    "df['tokens_out'] = df['tokens_answer']\n",
    "df['tokens_total'] = df['tokens_in'] + df['tokens_out']\n",
    "df.head()"
   ]
  },
  {
   "cell_type": "code",
   "execution_count": 9,
   "metadata": {},
   "outputs": [
    {
     "data": {
      "text/plain": [
       "tokens_in       50532\n",
       "tokens_out      16990\n",
       "tokens_total    67522\n",
       "dtype: int64"
      ]
     },
     "execution_count": 9,
     "metadata": {},
     "output_type": "execute_result"
    }
   ],
   "source": [
    "df[['tokens_in', 'tokens_out', 'tokens_total']].sum()"
   ]
  },
  {
   "cell_type": "code",
   "execution_count": 19,
   "metadata": {},
   "outputs": [
    {
     "data": {
      "text/plain": [
       "18666"
      ]
     },
     "execution_count": 19,
     "metadata": {},
     "output_type": "execute_result"
    }
   ],
   "source": [
    "len(df)"
   ]
  },
  {
   "cell_type": "code",
   "execution_count": null,
   "metadata": {},
   "outputs": [],
   "source": []
  }
 ],
 "metadata": {
  "kernelspec": {
   "display_name": ".venv",
   "language": "python",
   "name": "python3"
  },
  "language_info": {
   "codemirror_mode": {
    "name": "ipython",
    "version": 3
   },
   "file_extension": ".py",
   "mimetype": "text/x-python",
   "name": "python",
   "nbconvert_exporter": "python",
   "pygments_lexer": "ipython3",
   "version": "3.10.14"
  }
 },
 "nbformat": 4,
 "nbformat_minor": 2
}
