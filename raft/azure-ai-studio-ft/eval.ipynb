{
 "cells": [
  {
   "cell_type": "markdown",
   "id": "6018523f-3425-4bb3-9810-d31b8912991c",
   "metadata": {},
   "source": [
    "# Evaluation with Data\n",
    "In this notebook, we introduce built-in evaluators and guide you through creating your own custom evaluators. We'll cover both code-based and prompt-based custom evaluators. Finally, we'll demonstrate how to use the `evaluate` API to assess data using these evaluators.\n"
   ]
  },
  {
   "cell_type": "code",
   "execution_count": 3,
   "id": "31e99e68",
   "metadata": {},
   "outputs": [
    {
     "name": "stdout",
     "output_type": "stream",
     "text": [
      "\u001b[33mWARNING: Skipping promptflow as it is not installed.\u001b[0m\u001b[33m\n",
      "\u001b[0m\u001b[33mWARNING: Skipping promptflow-cli as it is not installed.\u001b[0m\u001b[33m\n",
      "\u001b[0mFound existing installation: promptflow-azure 1.10.1\n",
      "Uninstalling promptflow-azure-1.10.1:\n",
      "  Successfully uninstalled promptflow-azure-1.10.1\n",
      "Found existing installation: promptflow-core 1.10.1\n",
      "Uninstalling promptflow-core-1.10.1:\n",
      "  Successfully uninstalled promptflow-core-1.10.1\n",
      "Found existing installation: promptflow-devkit 1.10.1\n",
      "Uninstalling promptflow-devkit-1.10.1:\n",
      "  Successfully uninstalled promptflow-devkit-1.10.1\n",
      "\u001b[33mWARNING: Skipping promptflow-tools as it is not installed.\u001b[0m\u001b[33m\n",
      "\u001b[0mFound existing installation: promptflow-evals 0.2.0.dev0\n",
      "Uninstalling promptflow-evals-0.2.0.dev0:\n",
      "  Successfully uninstalled promptflow-evals-0.2.0.dev0\n",
      "Collecting promptflow-evals\n",
      "  Using cached promptflow_evals-0.2.0.dev0-py3-none-any.whl (53 kB)\n",
      "Requirement already satisfied: azureml-mlflow<2.0.0 in /workspaces/gorilla/raft/.venv/lib/python3.10/site-packages (from promptflow-evals) (1.56.0)\n",
      "Collecting promptflow-core<2.0.0\n",
      "  Using cached promptflow_core-1.10.1-py3-none-any.whl (966 kB)\n",
      "Collecting promptflow-azure<2.0.0\n",
      "  Using cached promptflow_azure-1.10.1-py3-none-any.whl (704 kB)\n",
      "Requirement already satisfied: azure-ai-ml>=1.14.0 in /workspaces/gorilla/raft/.venv/lib/python3.10/site-packages (from promptflow-evals) (1.16.0a20240501006)\n",
      "Collecting promptflow-devkit<2.0.0\n",
      "  Using cached promptflow_devkit-1.10.1-py3-none-any.whl (2.2 MB)\n",
      "Requirement already satisfied: mlflow<3.0.0 in /workspaces/gorilla/raft/.venv/lib/python3.10/site-packages (from promptflow-evals) (2.12.2)\n",
      "Requirement already satisfied: pydash>=6.0.0 in /workspaces/gorilla/raft/.venv/lib/python3.10/site-packages (from azure-ai-ml>=1.14.0->promptflow-evals) (7.0.7)\n",
      "Requirement already satisfied: azure-storage-blob>=12.10.0 in /workspaces/gorilla/raft/.venv/lib/python3.10/site-packages (from azure-ai-ml>=1.14.0->promptflow-evals) (12.19.0)\n",
      "Requirement already satisfied: typing-extensions in /workspaces/gorilla/raft/.venv/lib/python3.10/site-packages (from azure-ai-ml>=1.14.0->promptflow-evals) (4.11.0)\n",
      "Requirement already satisfied: colorama in /workspaces/gorilla/raft/.venv/lib/python3.10/site-packages (from azure-ai-ml>=1.14.0->promptflow-evals) (0.4.6)\n",
      "Requirement already satisfied: azure-common>=1.1 in /workspaces/gorilla/raft/.venv/lib/python3.10/site-packages (from azure-ai-ml>=1.14.0->promptflow-evals) (1.1.28)\n",
      "Requirement already satisfied: azure-core>=1.23.0 in /workspaces/gorilla/raft/.venv/lib/python3.10/site-packages (from azure-ai-ml>=1.14.0->promptflow-evals) (1.30.1)\n",
      "Requirement already satisfied: jsonschema>=4.0.0 in /workspaces/gorilla/raft/.venv/lib/python3.10/site-packages (from azure-ai-ml>=1.14.0->promptflow-evals) (4.22.0)\n",
      "Requirement already satisfied: pyjwt in /workspaces/gorilla/raft/.venv/lib/python3.10/site-packages (from azure-ai-ml>=1.14.0->promptflow-evals) (2.8.0)\n",
      "Requirement already satisfied: marshmallow>=3.5 in /workspaces/gorilla/raft/.venv/lib/python3.10/site-packages (from azure-ai-ml>=1.14.0->promptflow-evals) (3.21.2)\n",
      "Requirement already satisfied: strictyaml in /workspaces/gorilla/raft/.venv/lib/python3.10/site-packages (from azure-ai-ml>=1.14.0->promptflow-evals) (1.7.3)\n",
      "Requirement already satisfied: opencensus-ext-logging in /workspaces/gorilla/raft/.venv/lib/python3.10/site-packages (from azure-ai-ml>=1.14.0->promptflow-evals) (0.1.1)\n",
      "Requirement already satisfied: opencensus-ext-azure in /workspaces/gorilla/raft/.venv/lib/python3.10/site-packages (from azure-ai-ml>=1.14.0->promptflow-evals) (1.1.13)\n",
      "Requirement already satisfied: pyyaml>=5.1.0 in /workspaces/gorilla/raft/.venv/lib/python3.10/site-packages (from azure-ai-ml>=1.14.0->promptflow-evals) (6.0.1)\n",
      "Requirement already satisfied: azure-mgmt-core>=1.3.0 in /workspaces/gorilla/raft/.venv/lib/python3.10/site-packages (from azure-ai-ml>=1.14.0->promptflow-evals) (1.4.0)\n",
      "Requirement already satisfied: azure-storage-file-share in /workspaces/gorilla/raft/.venv/lib/python3.10/site-packages (from azure-ai-ml>=1.14.0->promptflow-evals) (12.16.0)\n",
      "Requirement already satisfied: tqdm in /workspaces/gorilla/raft/.venv/lib/python3.10/site-packages (from azure-ai-ml>=1.14.0->promptflow-evals) (4.66.4)\n",
      "Requirement already satisfied: isodate in /workspaces/gorilla/raft/.venv/lib/python3.10/site-packages (from azure-ai-ml>=1.14.0->promptflow-evals) (0.6.1)\n",
      "Requirement already satisfied: msrest>=0.6.18 in /workspaces/gorilla/raft/.venv/lib/python3.10/site-packages (from azure-ai-ml>=1.14.0->promptflow-evals) (0.7.1)\n",
      "Requirement already satisfied: azure-storage-file-datalake>=12.2.0 in /workspaces/gorilla/raft/.venv/lib/python3.10/site-packages (from azure-ai-ml>=1.14.0->promptflow-evals) (12.14.0)\n",
      "Requirement already satisfied: cryptography in /workspaces/gorilla/raft/.venv/lib/python3.10/site-packages (from azureml-mlflow<2.0.0->promptflow-evals) (42.0.7)\n",
      "Requirement already satisfied: azure-identity in /workspaces/gorilla/raft/.venv/lib/python3.10/site-packages (from azureml-mlflow<2.0.0->promptflow-evals) (1.16.0)\n",
      "Requirement already satisfied: mlflow-skinny in /workspaces/gorilla/raft/.venv/lib/python3.10/site-packages (from azureml-mlflow<2.0.0->promptflow-evals) (2.12.2)\n",
      "Requirement already satisfied: python-dateutil<3.0.0,>=2.7.3 in /workspaces/gorilla/raft/.venv/lib/python3.10/site-packages (from azureml-mlflow<2.0.0->promptflow-evals) (2.9.0.post0)\n",
      "Requirement already satisfied: jsonpickle in /workspaces/gorilla/raft/.venv/lib/python3.10/site-packages (from azureml-mlflow<2.0.0->promptflow-evals) (3.0.4)\n",
      "Requirement already satisfied: pyarrow<16,>=4.0.0 in /workspaces/gorilla/raft/.venv/lib/python3.10/site-packages (from mlflow<3.0.0->promptflow-evals) (15.0.2)\n",
      "Requirement already satisfied: packaging<25 in /workspaces/gorilla/raft/.venv/lib/python3.10/site-packages (from mlflow<3.0.0->promptflow-evals) (23.2)\n",
      "Requirement already satisfied: cloudpickle<4 in /workspaces/gorilla/raft/.venv/lib/python3.10/site-packages (from mlflow<3.0.0->promptflow-evals) (3.0.0)\n",
      "Requirement already satisfied: matplotlib<4 in /workspaces/gorilla/raft/.venv/lib/python3.10/site-packages (from mlflow<3.0.0->promptflow-evals) (3.8.4)\n",
      "Requirement already satisfied: click<9,>=7.0 in /workspaces/gorilla/raft/.venv/lib/python3.10/site-packages (from mlflow<3.0.0->promptflow-evals) (8.1.7)\n",
      "Requirement already satisfied: alembic!=1.10.0,<2 in /workspaces/gorilla/raft/.venv/lib/python3.10/site-packages (from mlflow<3.0.0->promptflow-evals) (1.13.1)\n",
      "Requirement already satisfied: requests<3,>=2.17.3 in /workspaces/gorilla/raft/.venv/lib/python3.10/site-packages (from mlflow<3.0.0->promptflow-evals) (2.31.0)\n",
      "Requirement already satisfied: Jinja2<4,>=2.11 in /workspaces/gorilla/raft/.venv/lib/python3.10/site-packages (from mlflow<3.0.0->promptflow-evals) (3.1.4)\n",
      "Requirement already satisfied: numpy<2 in /workspaces/gorilla/raft/.venv/lib/python3.10/site-packages (from mlflow<3.0.0->promptflow-evals) (1.26.4)\n",
      "Requirement already satisfied: scipy<2 in /workspaces/gorilla/raft/.venv/lib/python3.10/site-packages (from mlflow<3.0.0->promptflow-evals) (1.13.0)\n",
      "Requirement already satisfied: Flask<4 in /workspaces/gorilla/raft/.venv/lib/python3.10/site-packages (from mlflow<3.0.0->promptflow-evals) (3.0.3)\n",
      "Requirement already satisfied: querystring-parser<2 in /workspaces/gorilla/raft/.venv/lib/python3.10/site-packages (from mlflow<3.0.0->promptflow-evals) (1.2.4)\n",
      "Requirement already satisfied: graphene<4 in /workspaces/gorilla/raft/.venv/lib/python3.10/site-packages (from mlflow<3.0.0->promptflow-evals) (3.3)\n",
      "Requirement already satisfied: protobuf<5,>=3.12.0 in /workspaces/gorilla/raft/.venv/lib/python3.10/site-packages (from mlflow<3.0.0->promptflow-evals) (4.25.3)\n",
      "Requirement already satisfied: markdown<4,>=3.3 in /workspaces/gorilla/raft/.venv/lib/python3.10/site-packages (from mlflow<3.0.0->promptflow-evals) (3.6)\n",
      "Requirement already satisfied: importlib-metadata!=4.7.0,<8,>=3.7.0 in /workspaces/gorilla/raft/.venv/lib/python3.10/site-packages (from mlflow<3.0.0->promptflow-evals) (7.0.0)\n",
      "Requirement already satisfied: entrypoints<1 in /workspaces/gorilla/raft/.venv/lib/python3.10/site-packages (from mlflow<3.0.0->promptflow-evals) (0.4)\n",
      "Requirement already satisfied: docker<8,>=4.0.0 in /workspaces/gorilla/raft/.venv/lib/python3.10/site-packages (from mlflow<3.0.0->promptflow-evals) (7.0.0)\n",
      "Requirement already satisfied: sqlparse<1,>=0.4.0 in /workspaces/gorilla/raft/.venv/lib/python3.10/site-packages (from mlflow<3.0.0->promptflow-evals) (0.5.0)\n",
      "Requirement already satisfied: gunicorn<23 in /workspaces/gorilla/raft/.venv/lib/python3.10/site-packages (from mlflow<3.0.0->promptflow-evals) (22.0.0)\n",
      "Requirement already satisfied: pytz<2025 in /workspaces/gorilla/raft/.venv/lib/python3.10/site-packages (from mlflow<3.0.0->promptflow-evals) (2024.1)\n",
      "Requirement already satisfied: pandas<3 in /workspaces/gorilla/raft/.venv/lib/python3.10/site-packages (from mlflow<3.0.0->promptflow-evals) (2.2.2)\n",
      "Requirement already satisfied: scikit-learn<2 in /workspaces/gorilla/raft/.venv/lib/python3.10/site-packages (from mlflow<3.0.0->promptflow-evals) (1.4.2)\n",
      "Requirement already satisfied: gitpython<4,>=3.1.9 in /workspaces/gorilla/raft/.venv/lib/python3.10/site-packages (from mlflow<3.0.0->promptflow-evals) (3.1.43)\n",
      "Requirement already satisfied: sqlalchemy<3,>=1.4.0 in /workspaces/gorilla/raft/.venv/lib/python3.10/site-packages (from mlflow<3.0.0->promptflow-evals) (2.0.30)\n",
      "Requirement already satisfied: azure-cosmos<5.0.0,>=4.5.1 in /workspaces/gorilla/raft/.venv/lib/python3.10/site-packages (from promptflow-azure<2.0.0->promptflow-evals) (4.6.0)\n",
      "Requirement already satisfied: promptflow-tracing==1.10.1 in /workspaces/gorilla/raft/.venv/lib/python3.10/site-packages (from promptflow-core<2.0.0->promptflow-evals) (1.10.1)\n",
      "Requirement already satisfied: fastapi<1.0.0,>=0.109.0 in /workspaces/gorilla/raft/.venv/lib/python3.10/site-packages (from promptflow-core<2.0.0->promptflow-evals) (0.111.0)\n",
      "Requirement already satisfied: ruamel.yaml<1.0.0,>=0.17.10 in /workspaces/gorilla/raft/.venv/lib/python3.10/site-packages (from promptflow-core<2.0.0->promptflow-evals) (0.18.6)\n",
      "Requirement already satisfied: filetype>=1.2.0 in /workspaces/gorilla/raft/.venv/lib/python3.10/site-packages (from promptflow-core<2.0.0->promptflow-evals) (1.2.0)\n",
      "Requirement already satisfied: docutils!=0.21.post1 in /workspaces/gorilla/raft/.venv/lib/python3.10/site-packages (from promptflow-core<2.0.0->promptflow-evals) (0.21.2)\n",
      "Requirement already satisfied: psutil in /workspaces/gorilla/raft/.venv/lib/python3.10/site-packages (from promptflow-core<2.0.0->promptflow-evals) (5.9.8)\n",
      "Requirement already satisfied: tiktoken>=0.4.0 in /workspaces/gorilla/raft/.venv/lib/python3.10/site-packages (from promptflow-tracing==1.10.1->promptflow-core<2.0.0->promptflow-evals) (0.6.0)\n",
      "Requirement already satisfied: openai in /workspaces/gorilla/raft/.venv/lib/python3.10/site-packages (from promptflow-tracing==1.10.1->promptflow-core<2.0.0->promptflow-evals) (1.10.0)\n",
      "Requirement already satisfied: opentelemetry-sdk<2.0.0,>=1.22.0 in /workspaces/gorilla/raft/.venv/lib/python3.10/site-packages (from promptflow-tracing==1.10.1->promptflow-core<2.0.0->promptflow-evals) (1.24.0)\n",
      "Requirement already satisfied: keyring<25.0.0,>=24.2.0 in /workspaces/gorilla/raft/.venv/lib/python3.10/site-packages (from promptflow-devkit<2.0.0->promptflow-evals) (24.3.1)\n",
      "Requirement already satisfied: tabulate<1.0.0,>=0.9.0 in /workspaces/gorilla/raft/.venv/lib/python3.10/site-packages (from promptflow-devkit<2.0.0->promptflow-evals) (0.9.0)\n",
      "Requirement already satisfied: argcomplete>=3.2.3 in /workspaces/gorilla/raft/.venv/lib/python3.10/site-packages (from promptflow-devkit<2.0.0->promptflow-evals) (3.3.0)\n",
      "Requirement already satisfied: flask-cors<5.0.0,>=4.0.0 in /workspaces/gorilla/raft/.venv/lib/python3.10/site-packages (from promptflow-devkit<2.0.0->promptflow-evals) (4.0.1)\n",
      "Requirement already satisfied: httpx>=0.25.1 in /workspaces/gorilla/raft/.venv/lib/python3.10/site-packages (from promptflow-devkit<2.0.0->promptflow-evals) (0.27.0)\n",
      "Requirement already satisfied: python-dotenv<2.0.0,>=1.0.0 in /workspaces/gorilla/raft/.venv/lib/python3.10/site-packages (from promptflow-devkit<2.0.0->promptflow-evals) (1.0.1)\n",
      "Requirement already satisfied: flask-restx<2.0.0,>=1.2.0 in /workspaces/gorilla/raft/.venv/lib/python3.10/site-packages (from promptflow-devkit<2.0.0->promptflow-evals) (1.3.0)\n",
      "Requirement already satisfied: opentelemetry-exporter-otlp-proto-http<2.0.0,>=1.22.0 in /workspaces/gorilla/raft/.venv/lib/python3.10/site-packages (from promptflow-devkit<2.0.0->promptflow-evals) (1.24.0)\n",
      "Requirement already satisfied: pillow<11.0.0,>=10.1.0 in /workspaces/gorilla/raft/.venv/lib/python3.10/site-packages (from promptflow-devkit<2.0.0->promptflow-evals) (10.3.0)\n",
      "Requirement already satisfied: filelock<4.0.0,>=3.4.0 in /workspaces/gorilla/raft/.venv/lib/python3.10/site-packages (from promptflow-devkit<2.0.0->promptflow-evals) (3.14.0)\n",
      "Requirement already satisfied: azure-monitor-opentelemetry-exporter<2.0.0,>=1.0.0b21 in /workspaces/gorilla/raft/.venv/lib/python3.10/site-packages (from promptflow-devkit<2.0.0->promptflow-evals) (1.0.0b25)\n",
      "Requirement already satisfied: waitress<3.0.0,>=2.1.2 in /workspaces/gorilla/raft/.venv/lib/python3.10/site-packages (from promptflow-devkit<2.0.0->promptflow-evals) (2.1.2)\n",
      "Requirement already satisfied: Mako in /workspaces/gorilla/raft/.venv/lib/python3.10/site-packages (from alembic!=1.10.0,<2->mlflow<3.0.0->promptflow-evals) (1.3.3)\n",
      "Requirement already satisfied: six>=1.11.0 in /workspaces/gorilla/raft/.venv/lib/python3.10/site-packages (from azure-core>=1.23.0->azure-ai-ml>=1.14.0->promptflow-evals) (1.16.0)\n",
      "Requirement already satisfied: msal-extensions>=0.3.0 in /workspaces/gorilla/raft/.venv/lib/python3.10/site-packages (from azure-identity->azureml-mlflow<2.0.0->promptflow-evals) (1.1.0)\n",
      "Requirement already satisfied: msal>=1.24.0 in /workspaces/gorilla/raft/.venv/lib/python3.10/site-packages (from azure-identity->azureml-mlflow<2.0.0->promptflow-evals) (1.28.0)\n",
      "Requirement already satisfied: fixedint==0.1.6 in /workspaces/gorilla/raft/.venv/lib/python3.10/site-packages (from azure-monitor-opentelemetry-exporter<2.0.0,>=1.0.0b21->promptflow-devkit<2.0.0->promptflow-evals) (0.1.6)\n",
      "Requirement already satisfied: opentelemetry-api~=1.21 in /workspaces/gorilla/raft/.venv/lib/python3.10/site-packages (from azure-monitor-opentelemetry-exporter<2.0.0,>=1.0.0b21->promptflow-devkit<2.0.0->promptflow-evals) (1.24.0)\n",
      "Requirement already satisfied: cffi>=1.12 in /workspaces/gorilla/raft/.venv/lib/python3.10/site-packages (from cryptography->azureml-mlflow<2.0.0->promptflow-evals) (1.16.0)\n",
      "Requirement already satisfied: urllib3>=1.26.0 in /workspaces/gorilla/raft/.venv/lib/python3.10/site-packages (from docker<8,>=4.0.0->mlflow<3.0.0->promptflow-evals) (2.2.1)\n",
      "Requirement already satisfied: uvicorn[standard]>=0.12.0 in /workspaces/gorilla/raft/.venv/lib/python3.10/site-packages (from fastapi<1.0.0,>=0.109.0->promptflow-core<2.0.0->promptflow-evals) (0.29.0)\n",
      "Requirement already satisfied: python-multipart>=0.0.7 in /workspaces/gorilla/raft/.venv/lib/python3.10/site-packages (from fastapi<1.0.0,>=0.109.0->promptflow-core<2.0.0->promptflow-evals) (0.0.9)\n",
      "Requirement already satisfied: orjson>=3.2.1 in /workspaces/gorilla/raft/.venv/lib/python3.10/site-packages (from fastapi<1.0.0,>=0.109.0->promptflow-core<2.0.0->promptflow-evals) (3.10.3)\n",
      "Requirement already satisfied: ujson!=4.0.2,!=4.1.0,!=4.2.0,!=4.3.0,!=5.0.0,!=5.1.0,>=4.0.1 in /workspaces/gorilla/raft/.venv/lib/python3.10/site-packages (from fastapi<1.0.0,>=0.109.0->promptflow-core<2.0.0->promptflow-evals) (5.9.0)\n",
      "Requirement already satisfied: email_validator>=2.0.0 in /workspaces/gorilla/raft/.venv/lib/python3.10/site-packages (from fastapi<1.0.0,>=0.109.0->promptflow-core<2.0.0->promptflow-evals) (2.1.1)\n",
      "Requirement already satisfied: pydantic!=1.8,!=1.8.1,!=2.0.0,!=2.0.1,!=2.1.0,<3.0.0,>=1.7.4 in /workspaces/gorilla/raft/.venv/lib/python3.10/site-packages (from fastapi<1.0.0,>=0.109.0->promptflow-core<2.0.0->promptflow-evals) (2.7.1)\n",
      "Requirement already satisfied: fastapi-cli>=0.0.2 in /workspaces/gorilla/raft/.venv/lib/python3.10/site-packages (from fastapi<1.0.0,>=0.109.0->promptflow-core<2.0.0->promptflow-evals) (0.0.3)\n",
      "Requirement already satisfied: starlette<0.38.0,>=0.37.2 in /workspaces/gorilla/raft/.venv/lib/python3.10/site-packages (from fastapi<1.0.0,>=0.109.0->promptflow-core<2.0.0->promptflow-evals) (0.37.2)\n",
      "Requirement already satisfied: blinker>=1.6.2 in /workspaces/gorilla/raft/.venv/lib/python3.10/site-packages (from Flask<4->mlflow<3.0.0->promptflow-evals) (1.8.2)\n",
      "Requirement already satisfied: itsdangerous>=2.1.2 in /workspaces/gorilla/raft/.venv/lib/python3.10/site-packages (from Flask<4->mlflow<3.0.0->promptflow-evals) (2.2.0)\n",
      "Requirement already satisfied: Werkzeug>=3.0.0 in /workspaces/gorilla/raft/.venv/lib/python3.10/site-packages (from Flask<4->mlflow<3.0.0->promptflow-evals) (3.0.3)\n",
      "Requirement already satisfied: importlib-resources in /workspaces/gorilla/raft/.venv/lib/python3.10/site-packages (from flask-restx<2.0.0,>=1.2.0->promptflow-devkit<2.0.0->promptflow-evals) (6.4.0)\n",
      "Requirement already satisfied: aniso8601>=0.82 in /workspaces/gorilla/raft/.venv/lib/python3.10/site-packages (from flask-restx<2.0.0,>=1.2.0->promptflow-devkit<2.0.0->promptflow-evals) (9.0.1)\n",
      "Requirement already satisfied: gitdb<5,>=4.0.1 in /workspaces/gorilla/raft/.venv/lib/python3.10/site-packages (from gitpython<4,>=3.1.9->mlflow<3.0.0->promptflow-evals) (4.0.11)\n",
      "Requirement already satisfied: graphql-relay<3.3,>=3.1 in /workspaces/gorilla/raft/.venv/lib/python3.10/site-packages (from graphene<4->mlflow<3.0.0->promptflow-evals) (3.2.0)\n",
      "Requirement already satisfied: graphql-core<3.3,>=3.1 in /workspaces/gorilla/raft/.venv/lib/python3.10/site-packages (from graphene<4->mlflow<3.0.0->promptflow-evals) (3.2.3)\n",
      "Requirement already satisfied: sniffio in /workspaces/gorilla/raft/.venv/lib/python3.10/site-packages (from httpx>=0.25.1->promptflow-devkit<2.0.0->promptflow-evals) (1.3.1)\n",
      "Requirement already satisfied: anyio in /workspaces/gorilla/raft/.venv/lib/python3.10/site-packages (from httpx>=0.25.1->promptflow-devkit<2.0.0->promptflow-evals) (4.3.0)\n",
      "Requirement already satisfied: idna in /workspaces/gorilla/raft/.venv/lib/python3.10/site-packages (from httpx>=0.25.1->promptflow-devkit<2.0.0->promptflow-evals) (3.7)\n",
      "Requirement already satisfied: certifi in /workspaces/gorilla/raft/.venv/lib/python3.10/site-packages (from httpx>=0.25.1->promptflow-devkit<2.0.0->promptflow-evals) (2024.2.2)\n",
      "Requirement already satisfied: httpcore==1.* in /workspaces/gorilla/raft/.venv/lib/python3.10/site-packages (from httpx>=0.25.1->promptflow-devkit<2.0.0->promptflow-evals) (1.0.5)\n",
      "Requirement already satisfied: h11<0.15,>=0.13 in /workspaces/gorilla/raft/.venv/lib/python3.10/site-packages (from httpcore==1.*->httpx>=0.25.1->promptflow-devkit<2.0.0->promptflow-evals) (0.14.0)\n",
      "Requirement already satisfied: zipp>=0.5 in /workspaces/gorilla/raft/.venv/lib/python3.10/site-packages (from importlib-metadata!=4.7.0,<8,>=3.7.0->mlflow<3.0.0->promptflow-evals) (3.18.1)\n",
      "Requirement already satisfied: MarkupSafe>=2.0 in /workspaces/gorilla/raft/.venv/lib/python3.10/site-packages (from Jinja2<4,>=2.11->mlflow<3.0.0->promptflow-evals) (2.1.5)\n",
      "Requirement already satisfied: referencing>=0.28.4 in /workspaces/gorilla/raft/.venv/lib/python3.10/site-packages (from jsonschema>=4.0.0->azure-ai-ml>=1.14.0->promptflow-evals) (0.35.1)\n",
      "Requirement already satisfied: rpds-py>=0.7.1 in /workspaces/gorilla/raft/.venv/lib/python3.10/site-packages (from jsonschema>=4.0.0->azure-ai-ml>=1.14.0->promptflow-evals) (0.18.1)\n",
      "Requirement already satisfied: jsonschema-specifications>=2023.03.6 in /workspaces/gorilla/raft/.venv/lib/python3.10/site-packages (from jsonschema>=4.0.0->azure-ai-ml>=1.14.0->promptflow-evals) (2023.12.1)\n",
      "Requirement already satisfied: attrs>=22.2.0 in /workspaces/gorilla/raft/.venv/lib/python3.10/site-packages (from jsonschema>=4.0.0->azure-ai-ml>=1.14.0->promptflow-evals) (23.2.0)\n",
      "Requirement already satisfied: jeepney>=0.4.2 in /workspaces/gorilla/raft/.venv/lib/python3.10/site-packages (from keyring<25.0.0,>=24.2.0->promptflow-devkit<2.0.0->promptflow-evals) (0.8.0)\n",
      "Requirement already satisfied: jaraco.classes in /workspaces/gorilla/raft/.venv/lib/python3.10/site-packages (from keyring<25.0.0,>=24.2.0->promptflow-devkit<2.0.0->promptflow-evals) (3.4.0)\n",
      "Requirement already satisfied: SecretStorage>=3.2 in /workspaces/gorilla/raft/.venv/lib/python3.10/site-packages (from keyring<25.0.0,>=24.2.0->promptflow-devkit<2.0.0->promptflow-evals) (3.3.3)\n",
      "Requirement already satisfied: contourpy>=1.0.1 in /workspaces/gorilla/raft/.venv/lib/python3.10/site-packages (from matplotlib<4->mlflow<3.0.0->promptflow-evals) (1.2.1)\n",
      "Requirement already satisfied: kiwisolver>=1.3.1 in /workspaces/gorilla/raft/.venv/lib/python3.10/site-packages (from matplotlib<4->mlflow<3.0.0->promptflow-evals) (1.4.5)\n",
      "Requirement already satisfied: cycler>=0.10 in /workspaces/gorilla/raft/.venv/lib/python3.10/site-packages (from matplotlib<4->mlflow<3.0.0->promptflow-evals) (0.12.1)\n",
      "Requirement already satisfied: pyparsing>=2.3.1 in /workspaces/gorilla/raft/.venv/lib/python3.10/site-packages (from matplotlib<4->mlflow<3.0.0->promptflow-evals) (3.1.2)\n",
      "Requirement already satisfied: fonttools>=4.22.0 in /workspaces/gorilla/raft/.venv/lib/python3.10/site-packages (from matplotlib<4->mlflow<3.0.0->promptflow-evals) (4.51.0)\n",
      "Requirement already satisfied: requests-oauthlib>=0.5.0 in /workspaces/gorilla/raft/.venv/lib/python3.10/site-packages (from msrest>=0.6.18->azure-ai-ml>=1.14.0->promptflow-evals) (2.0.0)\n",
      "Requirement already satisfied: googleapis-common-protos~=1.52 in /workspaces/gorilla/raft/.venv/lib/python3.10/site-packages (from opentelemetry-exporter-otlp-proto-http<2.0.0,>=1.22.0->promptflow-devkit<2.0.0->promptflow-evals) (1.63.0)\n",
      "Requirement already satisfied: opentelemetry-proto==1.24.0 in /workspaces/gorilla/raft/.venv/lib/python3.10/site-packages (from opentelemetry-exporter-otlp-proto-http<2.0.0,>=1.22.0->promptflow-devkit<2.0.0->promptflow-evals) (1.24.0)\n",
      "Requirement already satisfied: deprecated>=1.2.6 in /workspaces/gorilla/raft/.venv/lib/python3.10/site-packages (from opentelemetry-exporter-otlp-proto-http<2.0.0,>=1.22.0->promptflow-devkit<2.0.0->promptflow-evals) (1.2.14)\n",
      "Requirement already satisfied: opentelemetry-exporter-otlp-proto-common==1.24.0 in /workspaces/gorilla/raft/.venv/lib/python3.10/site-packages (from opentelemetry-exporter-otlp-proto-http<2.0.0,>=1.22.0->promptflow-devkit<2.0.0->promptflow-evals) (1.24.0)\n",
      "Requirement already satisfied: tzdata>=2022.7 in /workspaces/gorilla/raft/.venv/lib/python3.10/site-packages (from pandas<3->mlflow<3.0.0->promptflow-evals) (2024.1)\n",
      "Requirement already satisfied: charset-normalizer<4,>=2 in /workspaces/gorilla/raft/.venv/lib/python3.10/site-packages (from requests<3,>=2.17.3->mlflow<3.0.0->promptflow-evals) (3.3.2)\n",
      "Requirement already satisfied: ruamel.yaml.clib>=0.2.7 in /workspaces/gorilla/raft/.venv/lib/python3.10/site-packages (from ruamel.yaml<1.0.0,>=0.17.10->promptflow-core<2.0.0->promptflow-evals) (0.2.8)\n",
      "Requirement already satisfied: threadpoolctl>=2.0.0 in /workspaces/gorilla/raft/.venv/lib/python3.10/site-packages (from scikit-learn<2->mlflow<3.0.0->promptflow-evals) (3.5.0)\n",
      "Requirement already satisfied: joblib>=1.2.0 in /workspaces/gorilla/raft/.venv/lib/python3.10/site-packages (from scikit-learn<2->mlflow<3.0.0->promptflow-evals) (1.4.2)\n",
      "Requirement already satisfied: greenlet!=0.4.17 in /workspaces/gorilla/raft/.venv/lib/python3.10/site-packages (from sqlalchemy<3,>=1.4.0->mlflow<3.0.0->promptflow-evals) (3.0.3)\n",
      "Requirement already satisfied: opencensus<1.0.0,>=0.11.4 in /workspaces/gorilla/raft/.venv/lib/python3.10/site-packages (from opencensus-ext-azure->azure-ai-ml>=1.14.0->promptflow-evals) (0.11.4)\n",
      "Requirement already satisfied: aiohttp>=3.0 in /workspaces/gorilla/raft/.venv/lib/python3.10/site-packages (from azure-core>=1.23.0->azure-ai-ml>=1.14.0->promptflow-evals) (3.9.5)\n",
      "Requirement already satisfied: pycparser in /workspaces/gorilla/raft/.venv/lib/python3.10/site-packages (from cffi>=1.12->cryptography->azureml-mlflow<2.0.0->promptflow-evals) (2.22)\n",
      "Requirement already satisfied: wrapt<2,>=1.10 in /workspaces/gorilla/raft/.venv/lib/python3.10/site-packages (from deprecated>=1.2.6->opentelemetry-exporter-otlp-proto-http<2.0.0,>=1.22.0->promptflow-devkit<2.0.0->promptflow-evals) (1.16.0)\n",
      "Requirement already satisfied: dnspython>=2.0.0 in /workspaces/gorilla/raft/.venv/lib/python3.10/site-packages (from email_validator>=2.0.0->fastapi<1.0.0,>=0.109.0->promptflow-core<2.0.0->promptflow-evals) (2.6.1)\n",
      "Requirement already satisfied: typer>=0.12.3 in /workspaces/gorilla/raft/.venv/lib/python3.10/site-packages (from fastapi-cli>=0.0.2->fastapi<1.0.0,>=0.109.0->promptflow-core<2.0.0->promptflow-evals) (0.12.3)\n",
      "Requirement already satisfied: smmap<6,>=3.0.1 in /workspaces/gorilla/raft/.venv/lib/python3.10/site-packages (from gitdb<5,>=4.0.1->gitpython<4,>=3.1.9->mlflow<3.0.0->promptflow-evals) (5.0.1)\n",
      "Requirement already satisfied: portalocker<3,>=1.0 in /workspaces/gorilla/raft/.venv/lib/python3.10/site-packages (from msal-extensions>=0.3.0->azure-identity->azureml-mlflow<2.0.0->promptflow-evals) (2.8.2)\n",
      "Requirement already satisfied: opencensus-context>=0.1.3 in /workspaces/gorilla/raft/.venv/lib/python3.10/site-packages (from opencensus<1.0.0,>=0.11.4->opencensus-ext-azure->azure-ai-ml>=1.14.0->promptflow-evals) (0.1.3)\n",
      "Requirement already satisfied: google-api-core<3.0.0,>=1.0.0 in /workspaces/gorilla/raft/.venv/lib/python3.10/site-packages (from opencensus<1.0.0,>=0.11.4->opencensus-ext-azure->azure-ai-ml>=1.14.0->promptflow-evals) (2.19.0)\n",
      "Requirement already satisfied: opentelemetry-semantic-conventions==0.45b0 in /workspaces/gorilla/raft/.venv/lib/python3.10/site-packages (from opentelemetry-sdk<2.0.0,>=1.22.0->promptflow-tracing==1.10.1->promptflow-core<2.0.0->promptflow-evals) (0.45b0)\n",
      "Requirement already satisfied: pydantic-core==2.18.2 in /workspaces/gorilla/raft/.venv/lib/python3.10/site-packages (from pydantic!=1.8,!=1.8.1,!=2.0.0,!=2.0.1,!=2.1.0,<3.0.0,>=1.7.4->fastapi<1.0.0,>=0.109.0->promptflow-core<2.0.0->promptflow-evals) (2.18.2)\n",
      "Requirement already satisfied: annotated-types>=0.4.0 in /workspaces/gorilla/raft/.venv/lib/python3.10/site-packages (from pydantic!=1.8,!=1.8.1,!=2.0.0,!=2.0.1,!=2.1.0,<3.0.0,>=1.7.4->fastapi<1.0.0,>=0.109.0->promptflow-core<2.0.0->promptflow-evals) (0.6.0)\n",
      "Requirement already satisfied: oauthlib>=3.0.0 in /workspaces/gorilla/raft/.venv/lib/python3.10/site-packages (from requests-oauthlib>=0.5.0->msrest>=0.6.18->azure-ai-ml>=1.14.0->promptflow-evals) (3.2.2)\n",
      "Requirement already satisfied: exceptiongroup>=1.0.2 in /workspaces/gorilla/raft/.venv/lib/python3.10/site-packages (from anyio->httpx>=0.25.1->promptflow-devkit<2.0.0->promptflow-evals) (1.2.1)\n",
      "Requirement already satisfied: regex>=2022.1.18 in /workspaces/gorilla/raft/.venv/lib/python3.10/site-packages (from tiktoken>=0.4.0->promptflow-tracing==1.10.1->promptflow-core<2.0.0->promptflow-evals) (2024.5.10)\n",
      "Requirement already satisfied: httptools>=0.5.0 in /workspaces/gorilla/raft/.venv/lib/python3.10/site-packages (from uvicorn[standard]>=0.12.0->fastapi<1.0.0,>=0.109.0->promptflow-core<2.0.0->promptflow-evals) (0.6.1)\n",
      "Requirement already satisfied: uvloop!=0.15.0,!=0.15.1,>=0.14.0 in /workspaces/gorilla/raft/.venv/lib/python3.10/site-packages (from uvicorn[standard]>=0.12.0->fastapi<1.0.0,>=0.109.0->promptflow-core<2.0.0->promptflow-evals) (0.19.0)\n",
      "Requirement already satisfied: websockets>=10.4 in /workspaces/gorilla/raft/.venv/lib/python3.10/site-packages (from uvicorn[standard]>=0.12.0->fastapi<1.0.0,>=0.109.0->promptflow-core<2.0.0->promptflow-evals) (12.0)\n",
      "Requirement already satisfied: watchfiles>=0.13 in /workspaces/gorilla/raft/.venv/lib/python3.10/site-packages (from uvicorn[standard]>=0.12.0->fastapi<1.0.0,>=0.109.0->promptflow-core<2.0.0->promptflow-evals) (0.21.0)\n",
      "Requirement already satisfied: more-itertools in /workspaces/gorilla/raft/.venv/lib/python3.10/site-packages (from jaraco.classes->keyring<25.0.0,>=24.2.0->promptflow-devkit<2.0.0->promptflow-evals) (10.2.0)\n",
      "Requirement already satisfied: distro<2,>=1.7.0 in /workspaces/gorilla/raft/.venv/lib/python3.10/site-packages (from openai->promptflow-tracing==1.10.1->promptflow-core<2.0.0->promptflow-evals) (1.9.0)\n",
      "Requirement already satisfied: frozenlist>=1.1.1 in /workspaces/gorilla/raft/.venv/lib/python3.10/site-packages (from aiohttp>=3.0->azure-core>=1.23.0->azure-ai-ml>=1.14.0->promptflow-evals) (1.4.1)\n",
      "Requirement already satisfied: async-timeout<5.0,>=4.0 in /workspaces/gorilla/raft/.venv/lib/python3.10/site-packages (from aiohttp>=3.0->azure-core>=1.23.0->azure-ai-ml>=1.14.0->promptflow-evals) (4.0.3)\n",
      "Requirement already satisfied: multidict<7.0,>=4.5 in /workspaces/gorilla/raft/.venv/lib/python3.10/site-packages (from aiohttp>=3.0->azure-core>=1.23.0->azure-ai-ml>=1.14.0->promptflow-evals) (6.0.5)\n",
      "Requirement already satisfied: aiosignal>=1.1.2 in /workspaces/gorilla/raft/.venv/lib/python3.10/site-packages (from aiohttp>=3.0->azure-core>=1.23.0->azure-ai-ml>=1.14.0->promptflow-evals) (1.3.1)\n",
      "Requirement already satisfied: yarl<2.0,>=1.0 in /workspaces/gorilla/raft/.venv/lib/python3.10/site-packages (from aiohttp>=3.0->azure-core>=1.23.0->azure-ai-ml>=1.14.0->promptflow-evals) (1.9.4)\n",
      "Requirement already satisfied: google-auth<3.0.dev0,>=2.14.1 in /workspaces/gorilla/raft/.venv/lib/python3.10/site-packages (from google-api-core<3.0.0,>=1.0.0->opencensus<1.0.0,>=0.11.4->opencensus-ext-azure->azure-ai-ml>=1.14.0->promptflow-evals) (2.29.0)\n",
      "Requirement already satisfied: proto-plus<2.0.0dev,>=1.22.3 in /workspaces/gorilla/raft/.venv/lib/python3.10/site-packages (from google-api-core<3.0.0,>=1.0.0->opencensus<1.0.0,>=0.11.4->opencensus-ext-azure->azure-ai-ml>=1.14.0->promptflow-evals) (1.23.0)\n",
      "Requirement already satisfied: shellingham>=1.3.0 in /workspaces/gorilla/raft/.venv/lib/python3.10/site-packages (from typer>=0.12.3->fastapi-cli>=0.0.2->fastapi<1.0.0,>=0.109.0->promptflow-core<2.0.0->promptflow-evals) (1.5.4)\n",
      "Requirement already satisfied: rich>=10.11.0 in /workspaces/gorilla/raft/.venv/lib/python3.10/site-packages (from typer>=0.12.3->fastapi-cli>=0.0.2->fastapi<1.0.0,>=0.109.0->promptflow-core<2.0.0->promptflow-evals) (13.7.1)\n",
      "Requirement already satisfied: pyasn1-modules>=0.2.1 in /workspaces/gorilla/raft/.venv/lib/python3.10/site-packages (from google-auth<3.0.dev0,>=2.14.1->google-api-core<3.0.0,>=1.0.0->opencensus<1.0.0,>=0.11.4->opencensus-ext-azure->azure-ai-ml>=1.14.0->promptflow-evals) (0.4.0)\n",
      "Requirement already satisfied: cachetools<6.0,>=2.0.0 in /workspaces/gorilla/raft/.venv/lib/python3.10/site-packages (from google-auth<3.0.dev0,>=2.14.1->google-api-core<3.0.0,>=1.0.0->opencensus<1.0.0,>=0.11.4->opencensus-ext-azure->azure-ai-ml>=1.14.0->promptflow-evals) (5.3.3)\n",
      "Requirement already satisfied: rsa<5,>=3.1.4 in /workspaces/gorilla/raft/.venv/lib/python3.10/site-packages (from google-auth<3.0.dev0,>=2.14.1->google-api-core<3.0.0,>=1.0.0->opencensus<1.0.0,>=0.11.4->opencensus-ext-azure->azure-ai-ml>=1.14.0->promptflow-evals) (4.9)\n",
      "Requirement already satisfied: markdown-it-py>=2.2.0 in /workspaces/gorilla/raft/.venv/lib/python3.10/site-packages (from rich>=10.11.0->typer>=0.12.3->fastapi-cli>=0.0.2->fastapi<1.0.0,>=0.109.0->promptflow-core<2.0.0->promptflow-evals) (3.0.0)\n",
      "Requirement already satisfied: pygments<3.0.0,>=2.13.0 in /workspaces/gorilla/raft/.venv/lib/python3.10/site-packages (from rich>=10.11.0->typer>=0.12.3->fastapi-cli>=0.0.2->fastapi<1.0.0,>=0.109.0->promptflow-core<2.0.0->promptflow-evals) (2.18.0)\n",
      "Requirement already satisfied: mdurl~=0.1 in /workspaces/gorilla/raft/.venv/lib/python3.10/site-packages (from markdown-it-py>=2.2.0->rich>=10.11.0->typer>=0.12.3->fastapi-cli>=0.0.2->fastapi<1.0.0,>=0.109.0->promptflow-core<2.0.0->promptflow-evals) (0.1.2)\n",
      "Requirement already satisfied: pyasn1<0.7.0,>=0.4.6 in /workspaces/gorilla/raft/.venv/lib/python3.10/site-packages (from pyasn1-modules>=0.2.1->google-auth<3.0.dev0,>=2.14.1->google-api-core<3.0.0,>=1.0.0->opencensus<1.0.0,>=0.11.4->opencensus-ext-azure->azure-ai-ml>=1.14.0->promptflow-evals) (0.6.0)\n",
      "Installing collected packages: promptflow-core, promptflow-devkit, promptflow-azure, promptflow-evals\n",
      "Successfully installed promptflow-azure-1.10.1 promptflow-core-1.10.1 promptflow-devkit-1.10.1 promptflow-evals-0.2.0.dev0\n",
      "\u001b[33mWARNING: There was an error checking the latest version of pip.\u001b[0m\u001b[33m\n",
      "\u001b[0m"
     ]
    }
   ],
   "source": [
    "# Clearing any old installation\n",
    "# This is important since older version of promptflow has one package.\n",
    "# Now it is split into number of them.\n",
    "! pip uninstall -y promptflow promptflow-cli promptflow-azure promptflow-core promptflow-devkit promptflow-tools promptflow-evals\n",
    "\n",
    "# Install packages in this order\n",
    "! pip install promptflow-evals"
   ]
  },
  {
   "cell_type": "code",
   "execution_count": null,
   "id": "a75440bc",
   "metadata": {},
   "outputs": [],
   "source": [
    "#! pip install azure_ai_ml --extra-index-url https://pkgs.dev.azure.com/azure-sdk/public/_packaging/azure-sdk-for-python/pypi/simple/\n",
    "\n",
    "# Dependencies needed for some of the notebooks\n",
    "#! pip install azure-cli\n",
    "#! pip install bs4\n",
    "#! pip install ipykernel"
   ]
  },
  {
   "cell_type": "markdown",
   "id": "82a40006",
   "metadata": {},
   "source": [
    "Expected env vars\n",
    "\n",
    "```\n",
    "AZURE_OPENAI_API_KEY\n",
    "AZURE_OPENAI_API_VERSION\n",
    "AZURE_OPENAI_DEPLOYMENT\n",
    "AZURE_OPENAI_ENDPOINT\n",
    "```"
   ]
  },
  {
   "cell_type": "code",
   "execution_count": 11,
   "id": "4da43d7e",
   "metadata": {},
   "outputs": [
    {
     "data": {
      "text/plain": [
       "True"
      ]
     },
     "execution_count": 11,
     "metadata": {},
     "output_type": "execute_result"
    }
   ],
   "source": [
    "from dotenv import load_dotenv\n",
    "\n",
    "load_dotenv()  # take environment variables from .env."
   ]
  },
  {
   "cell_type": "markdown",
   "id": "99fcb5a0",
   "metadata": {},
   "source": [
    "## 1. Built-in Evaluators\n",
    "\n",
    "The table below lists all the built-in evaluators we support. In the following sections, we will select a few of these evaluators to demonstrate how to use them.\n",
    "\n",
    "| Category       | Namespace                                        | Evaluator Class           | Notes                                             |\n",
    "|----------------|--------------------------------------------------|---------------------------|---------------------------------------------------|\n",
    "| Quality        | promptflow.evals.evaluators                      | GroundednessEvaluator     |                                                   |\n",
    "|                |                                                  | RelevanceEvaluator        |                                                   |\n",
    "|                |                                                  | CoherenceEvaluator        |                                                   |\n",
    "|                |                                                  | FluencyEvaluator          |                                                   |\n",
    "|                |                                                  | SimilarityEvaluator       |                                                   |\n",
    "|                |                                                  | F1ScoreEvaluator          |                                                   |\n",
    "| Content Safety | promptflow.evals.evaluators.content_safety       | ViolenceEvaluator         |                                                   |\n",
    "|                |                                                  | SexualEvaluator           |                                                   |\n",
    "|                |                                                  | SelfHarmEvaluator         |                                                   |\n",
    "|                |                                                  | HateUnfairnessEvaluator   |                                                   |\n",
    "| Composite      | promptflow.evals.evaluators                      | QAEvaluator               | Built on top of individual quality evaluators.    |\n",
    "|                |                                                  | ChatEvaluator             | Similar to QAEvaluator but designed for evaluating chat messages. |\n",
    "|                |                                                  | ContentSafetyEvaluator    | Built on top of individual content safety evaluators. |\n",
    "\n"
   ]
  },
  {
   "cell_type": "markdown",
   "id": "c5f72d3d",
   "metadata": {},
   "source": [
    "### 1.1 Quality Evaluator"
   ]
  },
  {
   "cell_type": "code",
   "execution_count": 13,
   "id": "a219acb2",
   "metadata": {},
   "outputs": [
    {
     "name": "stdout",
     "output_type": "stream",
     "text": [
      "azure_endpoint=https://ai-cviaiwestus1288043977207.openai.azure.com/\n",
      "azure_deployment=gpt-4-turbo\n",
      "api_version=2023-03-15-preview\n"
     ]
    }
   ],
   "source": [
    "import os\n",
    "from promptflow.core import AzureOpenAIModelConfiguration\n",
    "\n",
    "azure_endpoint=os.environ.get(\"AZURE_OPENAI_ENDPOINT\")\n",
    "api_key=os.environ.get(\"AZURE_OPENAI_API_KEY\")\n",
    "azure_deployment=os.environ.get(\"AZURE_OPENAI_DEPLOYMENT\")\n",
    "api_version=os.environ.get(\"OPENAI_API_VERSION\")\n",
    "\n",
    "print(\"azure_endpoint=\" + azure_endpoint)\n",
    "print(\"azure_deployment=\" + azure_deployment)\n",
    "print(\"api_version=\" + api_version)\n",
    "\n",
    "# Initialize Azure OpenAI Connection\n",
    "model_config = AzureOpenAIModelConfiguration(\n",
    "    azure_endpoint=azure_endpoint,\n",
    "    api_key=api_key,\n",
    "    azure_deployment=azure_deployment,\n",
    "    api_version=api_version,\n",
    ")"
   ]
  },
  {
   "cell_type": "code",
   "execution_count": 14,
   "id": "8965ed9d",
   "metadata": {},
   "outputs": [],
   "source": [
    "from promptflow.evals.evaluators import RelevanceEvaluator\n",
    "\n",
    "# Initialzing Relevance Evaluator\n",
    "relevance_eval = RelevanceEvaluator(model_config)"
   ]
  },
  {
   "cell_type": "code",
   "execution_count": 15,
   "id": "cf075450-1835-4b15-8002-76ae249caab1",
   "metadata": {},
   "outputs": [],
   "source": [
    "# Running Relevance Evaluator on single input row\n",
    "relevance_score = relevance_eval(\n",
    "    answer=\"The Alpine Explorer Tent is the most waterproof.\",\n",
    "    context=\"From the our product list,\"\n",
    "    \" the alpine explorer tent is the most waterproof.\"\n",
    "    \" The Adventure Dining Table has higher weight.\",\n",
    "    question=\"Which tent is the most waterproof?\",\n",
    ")"
   ]
  },
  {
   "cell_type": "code",
   "execution_count": 16,
   "id": "67844e07-57bb-415f-b1af-606b5a67aea1",
   "metadata": {},
   "outputs": [
    {
     "name": "stdout",
     "output_type": "stream",
     "text": [
      "{'gpt_relevance': 5.0}\n"
     ]
    }
   ],
   "source": [
    "print(relevance_score)"
   ]
  },
  {
   "cell_type": "markdown",
   "id": "846babb1-59b5-4d38-bb3a-d6eebd39ebee",
   "metadata": {},
   "source": [
    "## 3. Using Evaluate API to evaluate with data"
   ]
  },
  {
   "cell_type": "markdown",
   "id": "32fe3fa2",
   "metadata": {},
   "source": [
    "In previous sections, we walked you through how to use built-in evaluators to evaluate a single row and how to define your own custom evaluators. Now, we will show you how to use these evaluators with the powerful `evaluate` API to assess an entire dataset."
   ]
  },
  {
   "cell_type": "markdown",
   "id": "71b2265e",
   "metadata": {},
   "source": [
    "First, let's take a peek at what the data looks like."
   ]
  },
  {
   "cell_type": "code",
   "execution_count": null,
   "id": "9d72f5c9",
   "metadata": {},
   "outputs": [],
   "source": [
    "import pandas as pd\n",
    "\n",
    "data_path = \"data.jsonl\"\n",
    "\n",
    "df = pd.read_json(data_path, lines=True)\n",
    "df"
   ]
  },
  {
   "cell_type": "markdown",
   "id": "c8fcfc57",
   "metadata": {},
   "source": [
    "Now, we will invoke the `evaluate` API using a few evaluators that we already initialized\n",
    "\n",
    "Additionally, we have a column mapping to map the `truth` column from the dataset to `ground_truth`, which is accepted by the evaluator."
   ]
  },
  {
   "cell_type": "code",
   "execution_count": null,
   "id": "3b03e557-19bd-4a2a-ae3f-bbaf6846fb33",
   "metadata": {},
   "outputs": [],
   "source": [
    "from promptflow.evals.evaluate import evaluate\n",
    "\n",
    "result = evaluate(\n",
    "    data=\"data.jsonl\",\n",
    "    evaluators={\n",
    "        \"relevance\": relevance_eval\n",
    "    },\n",
    "    # column mapping\n",
    "    evaluator_config={\n",
    "        \"default\": {\n",
    "            \"ground_truth\": \"${data.truth}\"\n",
    "        }\n",
    "    }\n",
    ")"
   ]
  },
  {
   "cell_type": "markdown",
   "id": "f9a0fb00",
   "metadata": {},
   "source": [
    "\n",
    "Finally, let's check the results produced by the evaluate API."
   ]
  },
  {
   "cell_type": "code",
   "execution_count": null,
   "id": "d1dadc4b-495f-4a46-ad15-d4c8a910b1fc",
   "metadata": {},
   "outputs": [],
   "source": [
    "from IPython.display import display, JSON\n",
    "\n",
    "display(JSON(result))"
   ]
  },
  {
   "cell_type": "code",
   "execution_count": null,
   "id": "5cb28f9a-1f9c-4c2e-8b32-e7da51585f92",
   "metadata": {},
   "outputs": [],
   "source": [
    "# Check the results using Azure AI Studio UI\n",
    "print(result[\"studio_url\"])"
   ]
  }
 ],
 "metadata": {
  "kernelspec": {
   "display_name": "Python 3 (ipykernel)",
   "language": "python",
   "name": "python3"
  },
  "language_info": {
   "codemirror_mode": {
    "name": "ipython",
    "version": 3
   },
   "file_extension": ".py",
   "mimetype": "text/x-python",
   "name": "python",
   "nbconvert_exporter": "python",
   "pygments_lexer": "ipython3",
   "version": "3.10.14"
  }
 },
 "nbformat": 4,
 "nbformat_minor": 5
}
