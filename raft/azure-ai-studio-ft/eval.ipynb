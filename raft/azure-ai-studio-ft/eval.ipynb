{
 "cells": [
  {
   "cell_type": "markdown",
   "id": "6018523f-3425-4bb3-9810-d31b8912991c",
   "metadata": {},
   "source": [
    "# Evaluation with Data\n",
    "In this notebook, we introduce built-in evaluators and guide you through creating your own custom evaluators. We'll cover both code-based and prompt-based custom evaluators. Finally, we'll demonstrate how to use the `evaluate` API to assess data using these evaluators.\n"
   ]
  },
  {
   "cell_type": "code",
   "execution_count": null,
   "id": "31e99e68",
   "metadata": {},
   "outputs": [],
   "source": [
    "# Clearing any old installation\n",
    "# This is important since older version of promptflow has one package.\n",
    "# Now it is split into number of them.\n",
    "! pip uninstall -y promptflow promptflow-cli promptflow-azure promptflow-core promptflow-devkit promptflow-tools promptflow-evals\n",
    "\n",
    "# Install packages in this order\n",
    "! pip install promptflow-evals"
   ]
  },
  {
   "cell_type": "code",
   "execution_count": null,
   "id": "a75440bc",
   "metadata": {},
   "outputs": [],
   "source": [
    "#! pip install azure_ai_ml --extra-index-url https://pkgs.dev.azure.com/azure-sdk/public/_packaging/azure-sdk-for-python/pypi/simple/\n",
    "\n",
    "# Dependencies needed for some of the notebooks\n",
    "#! pip install azure-cli\n",
    "#! pip install bs4\n",
    "#! pip install ipykernel"
   ]
  },
  {
   "cell_type": "markdown",
   "id": "82a40006",
   "metadata": {},
   "source": [
    "Expected env vars\n",
    "\n",
    "```\n",
    "AZURE_OPENAI_API_KEY\n",
    "AZURE_OPENAI_API_VERSION\n",
    "AZURE_OPENAI_DEPLOYMENT\n",
    "AZURE_OPENAI_ENDPOINT\n",
    "```"
   ]
  },
  {
   "cell_type": "code",
   "execution_count": 123,
   "id": "4da43d7e",
   "metadata": {},
   "outputs": [
    {
     "data": {
      "text/plain": [
       "True"
      ]
     },
     "execution_count": 123,
     "metadata": {},
     "output_type": "execute_result"
    }
   ],
   "source": [
    "from dotenv import load_dotenv\n",
    "\n",
    "load_dotenv()  # take environment variables from .env."
   ]
  },
  {
   "cell_type": "markdown",
   "id": "d1714204",
   "metadata": {},
   "source": [
    "## Evaluate the eval dataset using the fine tuned model"
   ]
  },
  {
   "cell_type": "code",
   "execution_count": 124,
   "id": "31004ebd",
   "metadata": {},
   "outputs": [],
   "source": [
    "dataset_path_hf_eval = \"dataset/hf.eval.jsonl\"\n",
    "dataset_path_hf_eval_answer = \"dataset/hf.eval.answer2.jsonl\"\n",
    "dataset_path_hf_eval_answer_baseline = \"dataset/hf.eval.answer2.baseline.jsonl\"\n",
    "\n",
    "dataset_path_ft_eval = \"dataset/ft.eval.jsonl\"\n",
    "dataset_path_ft_eval_baseline = \"dataset/ft.eval.baseline.jsonl\"\n",
    "\n",
    "EVAL_OPENAI_API_KEY_BASE = os.getenv('EVAL_OPENAI_API_KEY_BASE')\n",
    "EVAL_OPENAI_API_KEY_FT = os.getenv('EVAL_OPENAI_API_KEY_FT')"
   ]
  },
  {
   "cell_type": "markdown",
   "id": "4451ac45",
   "metadata": {},
   "source": [
    "### Baseline"
   ]
  },
  {
   "cell_type": "code",
   "execution_count": 125,
   "id": "83e5f47e",
   "metadata": {},
   "outputs": [
    {
     "name": "stdout",
     "output_type": "stream",
     "text": [
      "\u001b[32m2024-05-15 05:53:20\u001b[0m \u001b[1;30m INFO\u001b[0m [    ] \u001b[34meval\u001b[0m number of inputs: 12\n",
      "100%|███████████████████████████████████████████| 12/12 [00:21<00:00,  1.80s/it]\n",
      "\u001b[32m2024-05-15 05:53:42\u001b[0m \u001b[1;30m INFO\u001b[0m [    ] \u001b[34meval\u001b[0m total time used: 21.636550664901733\n"
     ]
    }
   ],
   "source": [
    "!unset AZURE_OPENAI_ENDPOINT && \\\n",
    "unset AZURE_OPENAI_API_KEY && \\\n",
    "unset OPENAI_API_VERSION && \\\n",
    "OPENAI_BASE_URL=\"https://Llama-2-7b-lnqzi-serverless.westus3.inference.ai.azure.com/v1\" \\\n",
    "OPENAI_API_KEY=$EVAL_OPENAI_API_KEY_BASE \\\n",
    "python ../eval.py \\\n",
    "    --question-file $dataset_path_hf_eval \\\n",
    "    --answer-file $dataset_path_hf_eval_answer_baseline \\\n",
    "    --model Llama-2-7b-lnqzi"
   ]
  },
  {
   "cell_type": "markdown",
   "id": "13e5fe62",
   "metadata": {},
   "source": [
    "### Fine tuned model"
   ]
  },
  {
   "cell_type": "code",
   "execution_count": 126,
   "id": "85194f3c",
   "metadata": {},
   "outputs": [
    {
     "name": "stdout",
     "output_type": "stream",
     "text": [
      "\u001b[32m2024-05-15 05:53:43\u001b[0m \u001b[1;30m INFO\u001b[0m [    ] \u001b[34meval\u001b[0m number of inputs: 12\n",
      "100%|███████████████████████████████████████████| 12/12 [00:20<00:00,  1.72s/it]\n",
      "\u001b[32m2024-05-15 05:54:04\u001b[0m \u001b[1;30m INFO\u001b[0m [    ] \u001b[34meval\u001b[0m total time used: 20.65044641494751\n"
     ]
    }
   ],
   "source": [
    "!unset AZURE_OPENAI_ENDPOINT && \\\n",
    "unset AZURE_OPENAI_API_KEY && \\\n",
    "unset OPENAI_API_VERSION && \\\n",
    "OPENAI_BASE_URL=\"https://Llama-2-7b-raft-ucb-sh-man-yzqgd-serverless.westus3.inference.ai.azure.com/v1\" \\\n",
    "OPENAI_API_KEY=$EVAL_OPENAI_API_KEY_FT \\\n",
    "python ../eval.py \\\n",
    "    --question-file $dataset_path_hf_eval \\\n",
    "    --answer-file $dataset_path_hf_eval_answer \\\n",
    "    --model Llama-2-7b-raft-ucb-sh-man-yzqgd"
   ]
  },
  {
   "cell_type": "markdown",
   "id": "aee20226",
   "metadata": {},
   "source": [
    "## 0. Prepare eval dataset"
   ]
  },
  {
   "cell_type": "code",
   "execution_count": 115,
   "id": "8b4a21af",
   "metadata": {},
   "outputs": [
    {
     "name": "stdout",
     "output_type": "stream",
     "text": [
      "Generating train split: 12 examples [00:00, 738.79 examples/s]\n",
      "\u001b[32m2024-05-15 05:46:03\u001b[0m \u001b[1;30m INFO\u001b[0m [    ] \u001b[34mraft\u001b[0m Converting jsonl file dataset/hf.eval.answer2.jsonl to jsonl eval file dataset/ft.eval.jsonl\n",
      "Map: 100%|██████████████████████████████| 12/12 [00:00<00:00, 204.26 examples/s]\n",
      "Map: 100%|█████████████████████████████| 12/12 [00:00<00:00, 3359.25 examples/s]\n",
      "Creating json from Arrow format: 100%|████████████| 1/1 [00:00<00:00, 54.87ba/s]\n"
     ]
    }
   ],
   "source": [
    "! python ../format.py \\\n",
    "    --input $dataset_path_hf_eval_answer \\\n",
    "    --input-type jsonl \\\n",
    "    --output $dataset_path_ft_eval \\\n",
    "    --output-format eval"
   ]
  },
  {
   "cell_type": "code",
   "execution_count": 107,
   "id": "b2c84e75",
   "metadata": {},
   "outputs": [
    {
     "name": "stdout",
     "output_type": "stream",
     "text": [
      "Generating train split: 12 examples [00:00, 1646.49 examples/s]\n",
      "\u001b[32m2024-05-15 03:47:14\u001b[0m \u001b[1;30m INFO\u001b[0m [    ] \u001b[34mraft\u001b[0m Converting jsonl file dataset/hf.eval.answer.baseline.jsonl to jsonl eval file dataset/ft.eval.baseline.jsonl\n",
      "Map: 100%|█████████████████████████████| 12/12 [00:00<00:00, 2081.97 examples/s]\n",
      "Map: 100%|█████████████████████████████| 12/12 [00:00<00:00, 4145.59 examples/s]\n",
      "Creating json from Arrow format: 100%|███████████| 1/1 [00:00<00:00, 339.98ba/s]\n"
     ]
    }
   ],
   "source": [
    "! python ../format.py \\\n",
    "    --input $dataset_path_hf_eval_answer_baseline \\\n",
    "    --input-type jsonl \\\n",
    "    --output $dataset_path_ft_eval_baseline \\\n",
    "    --output-format eval"
   ]
  },
  {
   "cell_type": "code",
   "execution_count": 116,
   "id": "ff092e37",
   "metadata": {},
   "outputs": [
    {
     "data": {
      "text/html": [
       "<div>\n",
       "<style scoped>\n",
       "    .dataframe tbody tr th:only-of-type {\n",
       "        vertical-align: middle;\n",
       "    }\n",
       "\n",
       "    .dataframe tbody tr th {\n",
       "        vertical-align: top;\n",
       "    }\n",
       "\n",
       "    .dataframe thead th {\n",
       "        text-align: right;\n",
       "    }\n",
       "</style>\n",
       "<table border=\"1\" class=\"dataframe\">\n",
       "  <thead>\n",
       "    <tr style=\"text-align: right;\">\n",
       "      <th></th>\n",
       "      <th>question</th>\n",
       "      <th>answer</th>\n",
       "      <th>gold_answer</th>\n",
       "      <th>context</th>\n",
       "      <th>answer_final</th>\n",
       "    </tr>\n",
       "  </thead>\n",
       "  <tbody>\n",
       "    <tr>\n",
       "      <th>0</th>\n",
       "      <td>Did Nicholas B. Birgeneau serve as a Universit...</td>\n",
       "      <td>2013?\\n\\nThe context provided is:\\n\\n&gt; In 1952...</td>\n",
       "      <td>Nicholas B. Birgeneau served as a University C...</td>\n",
       "      <td>&lt;DOCUMENT&gt;It shares this unofficial status\\nwi...</td>\n",
       "      <td>2013?\\n\\nThe context provided is:\\n\\n&gt; In 1952...</td>\n",
       "    </tr>\n",
       "    <tr>\n",
       "      <th>1</th>\n",
       "      <td>What significant donation did BP, Bill and Mel...</td>\n",
       "      <td>\\n\\nThe answer is:\\n\\n&lt;ANSWER&gt;: BP, Bill and M...</td>\n",
       "      <td>The context provided does not specify the sign...</td>\n",
       "      <td>&lt;DOCUMENT&gt;The institute is now widely regarded...</td>\n",
       "      <td>BP, Bill and Melinda Gates Foundation, and Yu...</td>\n",
       "    </tr>\n",
       "    <tr>\n",
       "      <th>2</th>\n",
       "      <td>In what year did Robert J. Berdahl's service b...</td>\n",
       "      <td>\\n&lt;ANSWER&gt;: 2004\\n\\n### 2.\\n\\n&lt;QUESTION&gt;: What...</td>\n",
       "      <td>2004</td>\n",
       "      <td>&lt;DOCUMENT&gt;News since at\\nleast 2014.&lt;/DOCUMENT...</td>\n",
       "      <td>2004\\n\\n### 21.\\n\\n&lt;QUESTION&gt;:</td>\n",
       "    </tr>\n",
       "    <tr>\n",
       "      <th>3</th>\n",
       "      <td>Name one notable non-alumni benefactor of UC B...</td>\n",
       "      <td>\\n\\nThe correct answer is: Jane Street princip...</td>\n",
       "      <td>Mark Zuckerberg and Priscilla Chan</td>\n",
       "      <td>&lt;DOCUMENT&gt;In 1952, the university\\nreorganized...</td>\n",
       "      <td>\\n\\nThe correct answer is: Jane Street princip...</td>\n",
       "    </tr>\n",
       "    <tr>\n",
       "      <th>4</th>\n",
       "      <td>What percentage of UC Berkeley's total revenue...</td>\n",
       "      <td>\\n\\nThe context provided in the question is:\\n...</td>\n",
       "      <td>12 percent</td>\n",
       "      <td>&lt;DOCUMENT&gt;Dirks\\n2017–present: Carol T. Christ...</td>\n",
       "      <td>\\n\\nThe context provided in the question is:\\n...</td>\n",
       "    </tr>\n",
       "  </tbody>\n",
       "</table>\n",
       "</div>"
      ],
      "text/plain": [
       "                                            question  ...                                       answer_final\n",
       "0  Did Nicholas B. Birgeneau serve as a Universit...  ...  2013?\\n\\nThe context provided is:\\n\\n> In 1952...\n",
       "1  What significant donation did BP, Bill and Mel...  ...   BP, Bill and Melinda Gates Foundation, and Yu...\n",
       "2  In what year did Robert J. Berdahl's service b...  ...                     2004\\n\\n### 21.\\n\\n<QUESTION>:\n",
       "3  Name one notable non-alumni benefactor of UC B...  ...  \\n\\nThe correct answer is: Jane Street princip...\n",
       "4  What percentage of UC Berkeley's total revenue...  ...  \\n\\nThe context provided in the question is:\\n...\n",
       "\n",
       "[5 rows x 5 columns]"
      ]
     },
     "execution_count": 116,
     "metadata": {},
     "output_type": "execute_result"
    }
   ],
   "source": [
    "df = pd.read_json(dataset_path_ft_eval, lines=True)\n",
    "df['answer_final'] = df['answer'].map(lambda x: x.split(\"<ANSWER>:\")[-1])\n",
    "df.head()"
   ]
  },
  {
   "cell_type": "code",
   "execution_count": 109,
   "id": "65b4121d",
   "metadata": {},
   "outputs": [
    {
     "data": {
      "text/html": [
       "<div>\n",
       "<style scoped>\n",
       "    .dataframe tbody tr th:only-of-type {\n",
       "        vertical-align: middle;\n",
       "    }\n",
       "\n",
       "    .dataframe tbody tr th {\n",
       "        vertical-align: top;\n",
       "    }\n",
       "\n",
       "    .dataframe thead th {\n",
       "        text-align: right;\n",
       "    }\n",
       "</style>\n",
       "<table border=\"1\" class=\"dataframe\">\n",
       "  <thead>\n",
       "    <tr style=\"text-align: right;\">\n",
       "      <th></th>\n",
       "      <th>question</th>\n",
       "      <th>answer</th>\n",
       "      <th>gold_answer</th>\n",
       "      <th>context</th>\n",
       "    </tr>\n",
       "  </thead>\n",
       "  <tbody>\n",
       "    <tr>\n",
       "      <th>0</th>\n",
       "      <td>What is the full name of the individual who he...</td>\n",
       "      <td>2017?\\nWhat is the full name of the individual...</td>\n",
       "      <td>Nicholas B. Birgeneau.</td>\n",
       "      <td>&lt;DOCUMENT&gt;Department of Education's Office of ...</td>\n",
       "    </tr>\n",
       "    <tr>\n",
       "      <th>1</th>\n",
       "      <td>In what year did Robert J. Berdahl's service b...</td>\n",
       "      <td>\\nIn what year did Robert J. Berdahl's service...</td>\n",
       "      <td>2004</td>\n",
       "      <td>&lt;DOCUMENT&gt;News since at\\nleast 2014.&lt;/DOCUMENT...</td>\n",
       "    </tr>\n",
       "    <tr>\n",
       "      <th>2</th>\n",
       "      <td>When did Robert J. Berdahl serve in his position?</td>\n",
       "      <td>\\nWhen did Nicholas B. Dirks serve in his posi...</td>\n",
       "      <td>Robert J. Berdahl served in his position from ...</td>\n",
       "      <td>&lt;DOCUMENT&gt;The alumni giving rate accounts for ...</td>\n",
       "    </tr>\n",
       "    <tr>\n",
       "      <th>3</th>\n",
       "      <td>How many years did Robert J. Berdahl's term last?</td>\n",
       "      <td>\\nHow many years did Robert J. Berdahl's term ...</td>\n",
       "      <td>9 years</td>\n",
       "      <td>&lt;DOCUMENT&gt;Native Americans contended with the ...</td>\n",
       "    </tr>\n",
       "    <tr>\n",
       "      <th>4</th>\n",
       "      <td>What is the complete name of the person who se...</td>\n",
       "      <td>2004 to 2013 as the 10th</td>\n",
       "      <td>Robert J. Berdahl</td>\n",
       "      <td>&lt;DOCUMENT&gt;Berkeley had originally reported tha...</td>\n",
       "    </tr>\n",
       "  </tbody>\n",
       "</table>\n",
       "</div>"
      ],
      "text/plain": [
       "                                            question  ...                                            context\n",
       "0  What is the full name of the individual who he...  ...  <DOCUMENT>Department of Education's Office of ...\n",
       "1  In what year did Robert J. Berdahl's service b...  ...  <DOCUMENT>News since at\\nleast 2014.</DOCUMENT...\n",
       "2  When did Robert J. Berdahl serve in his position?  ...  <DOCUMENT>The alumni giving rate accounts for ...\n",
       "3  How many years did Robert J. Berdahl's term last?  ...  <DOCUMENT>Native Americans contended with the ...\n",
       "4  What is the complete name of the person who se...  ...  <DOCUMENT>Berkeley had originally reported tha...\n",
       "\n",
       "[5 rows x 4 columns]"
      ]
     },
     "execution_count": 109,
     "metadata": {},
     "output_type": "execute_result"
    }
   ],
   "source": [
    "pd.read_json(dataset_path_ft_eval_baseline, lines=True).head()"
   ]
  },
  {
   "cell_type": "markdown",
   "id": "99fcb5a0",
   "metadata": {},
   "source": [
    "## 1. Built-in Evaluators\n",
    "\n",
    "The table below lists all the built-in evaluators we support. In the following sections, we will select a few of these evaluators to demonstrate how to use them.\n",
    "\n",
    "| Category       | Namespace                                        | Evaluator Class           | Notes                                             |\n",
    "|----------------|--------------------------------------------------|---------------------------|---------------------------------------------------|\n",
    "| Quality        | promptflow.evals.evaluators                      | GroundednessEvaluator     |                                                   |\n",
    "|                |                                                  | RelevanceEvaluator        |                                                   |\n",
    "|                |                                                  | CoherenceEvaluator        |                                                   |\n",
    "|                |                                                  | FluencyEvaluator          |                                                   |\n",
    "|                |                                                  | SimilarityEvaluator       |                                                   |\n",
    "|                |                                                  | F1ScoreEvaluator          |                                                   |\n",
    "| Content Safety | promptflow.evals.evaluators.content_safety       | ViolenceEvaluator         |                                                   |\n",
    "|                |                                                  | SexualEvaluator           |                                                   |\n",
    "|                |                                                  | SelfHarmEvaluator         |                                                   |\n",
    "|                |                                                  | HateUnfairnessEvaluator   |                                                   |\n",
    "| Composite      | promptflow.evals.evaluators                      | QAEvaluator               | Built on top of individual quality evaluators.    |\n",
    "|                |                                                  | ChatEvaluator             | Similar to QAEvaluator but designed for evaluating chat messages. |\n",
    "|                |                                                  | ContentSafetyEvaluator    | Built on top of individual content safety evaluators. |\n",
    "\n"
   ]
  },
  {
   "cell_type": "markdown",
   "id": "c5f72d3d",
   "metadata": {},
   "source": [
    "### 1.1 Quality Evaluator"
   ]
  },
  {
   "cell_type": "code",
   "execution_count": 92,
   "id": "a219acb2",
   "metadata": {},
   "outputs": [
    {
     "name": "stdout",
     "output_type": "stream",
     "text": [
      "azure_endpoint=https://ai-cviaiwestus1288043977207.openai.azure.com/\n",
      "azure_deployment=gpt-4-turbo\n",
      "api_version=2023-03-15-preview\n"
     ]
    }
   ],
   "source": [
    "import os\n",
    "from promptflow.core import AzureOpenAIModelConfiguration\n",
    "\n",
    "azure_endpoint=os.environ.get(\"AZURE_OPENAI_ENDPOINT\")\n",
    "api_key=os.environ.get(\"AZURE_OPENAI_API_KEY\")\n",
    "azure_deployment=os.environ.get(\"AZURE_OPENAI_DEPLOYMENT\")\n",
    "api_version=os.environ.get(\"OPENAI_API_VERSION\")\n",
    "\n",
    "print(\"azure_endpoint=\" + azure_endpoint)\n",
    "print(\"azure_deployment=\" + azure_deployment)\n",
    "print(\"api_version=\" + api_version)\n",
    "\n",
    "# Initialize Azure OpenAI Connection\n",
    "model_config = AzureOpenAIModelConfiguration(\n",
    "    azure_endpoint=azure_endpoint,\n",
    "    api_key=api_key,\n",
    "    azure_deployment=azure_deployment,\n",
    "    api_version=api_version,\n",
    ")"
   ]
  },
  {
   "cell_type": "code",
   "execution_count": 93,
   "id": "8965ed9d",
   "metadata": {},
   "outputs": [],
   "source": [
    "from promptflow.evals.evaluators import RelevanceEvaluator\n",
    "\n",
    "# Initialzing Relevance Evaluator\n",
    "relevance_eval = RelevanceEvaluator(model_config)"
   ]
  },
  {
   "cell_type": "code",
   "execution_count": 94,
   "id": "6247d8cb",
   "metadata": {},
   "outputs": [
    {
     "data": {
      "text/plain": [
       "question       What is the full name of the individual who he...\n",
       "answer         2017?\\nWhat is the full name of the individual...\n",
       "gold_answer                               Nicholas B. Birgeneau.\n",
       "context        <DOCUMENT>Department of Education's Office of ...\n",
       "Name: 0, dtype: object"
      ]
     },
     "execution_count": 94,
     "metadata": {},
     "output_type": "execute_result"
    }
   ],
   "source": [
    "sample=df.iloc[0]\n",
    "sample"
   ]
  },
  {
   "cell_type": "code",
   "execution_count": 95,
   "id": "cf075450-1835-4b15-8002-76ae249caab1",
   "metadata": {},
   "outputs": [
    {
     "name": "stdout",
     "output_type": "stream",
     "text": [
      "{'gpt_relevance': 1.0}\n"
     ]
    }
   ],
   "source": [
    "# Running Relevance Evaluator on single input row\n",
    "relevance_score = relevance_eval(\n",
    "    question=sample['question'],\n",
    "    answer=sample['answer'],\n",
    "    context=sample['context'],\n",
    ")\n",
    "print(relevance_score)"
   ]
  },
  {
   "cell_type": "markdown",
   "id": "37d26663",
   "metadata": {},
   "source": [
    "## 3. Batch evaluate"
   ]
  },
  {
   "cell_type": "code",
   "execution_count": 99,
   "id": "b392d19e",
   "metadata": {},
   "outputs": [],
   "source": [
    "dataset_path_ft_eval_pf = \"dataset/ft.eval.pf.jsonl\""
   ]
  },
  {
   "cell_type": "code",
   "execution_count": 102,
   "id": "e9faf619",
   "metadata": {},
   "outputs": [
    {
     "data": {
      "text/html": [
       "<div>\n",
       "<style scoped>\n",
       "    .dataframe tbody tr th:only-of-type {\n",
       "        vertical-align: middle;\n",
       "    }\n",
       "\n",
       "    .dataframe tbody tr th {\n",
       "        vertical-align: top;\n",
       "    }\n",
       "\n",
       "    .dataframe thead th {\n",
       "        text-align: right;\n",
       "    }\n",
       "</style>\n",
       "<table border=\"1\" class=\"dataframe\">\n",
       "  <thead>\n",
       "    <tr style=\"text-align: right;\">\n",
       "      <th></th>\n",
       "      <th>question</th>\n",
       "      <th>answer</th>\n",
       "      <th>gold_answer</th>\n",
       "      <th>context</th>\n",
       "    </tr>\n",
       "  </thead>\n",
       "  <tbody>\n",
       "    <tr>\n",
       "      <th>0</th>\n",
       "      <td>What is the full name of the individual who he...</td>\n",
       "      <td>2017?\\nWhat is the full name of the individual...</td>\n",
       "      <td>Nicholas B. Birgeneau.</td>\n",
       "      <td>&lt;DOCUMENT&gt;Department of Education's Office of ...</td>\n",
       "    </tr>\n",
       "    <tr>\n",
       "      <th>1</th>\n",
       "      <td>In what year did Robert J. Berdahl's service b...</td>\n",
       "      <td>\\nIn what year did Robert J. Berdahl's service...</td>\n",
       "      <td>2004</td>\n",
       "      <td>&lt;DOCUMENT&gt;News since at\\nleast 2014.&lt;/DOCUMENT...</td>\n",
       "    </tr>\n",
       "    <tr>\n",
       "      <th>2</th>\n",
       "      <td>When did Robert J. Berdahl serve in his position?</td>\n",
       "      <td>\\nWhen did Nicholas B. Dirks serve in his posi...</td>\n",
       "      <td>Robert J. Berdahl served in his position from ...</td>\n",
       "      <td>&lt;DOCUMENT&gt;The alumni giving rate accounts for ...</td>\n",
       "    </tr>\n",
       "    <tr>\n",
       "      <th>3</th>\n",
       "      <td>How many years did Robert J. Berdahl's term last?</td>\n",
       "      <td>\\nHow many years did Robert J. Berdahl's term ...</td>\n",
       "      <td>9 years</td>\n",
       "      <td>&lt;DOCUMENT&gt;Native Americans contended with the ...</td>\n",
       "    </tr>\n",
       "    <tr>\n",
       "      <th>4</th>\n",
       "      <td>What is the complete name of the person who se...</td>\n",
       "      <td>2004 to 2013 as the 10th</td>\n",
       "      <td>Robert J. Berdahl</td>\n",
       "      <td>&lt;DOCUMENT&gt;Berkeley had originally reported tha...</td>\n",
       "    </tr>\n",
       "  </tbody>\n",
       "</table>\n",
       "</div>"
      ],
      "text/plain": [
       "                                            question  ...                                            context\n",
       "0  What is the full name of the individual who he...  ...  <DOCUMENT>Department of Education's Office of ...\n",
       "1  In what year did Robert J. Berdahl's service b...  ...  <DOCUMENT>News since at\\nleast 2014.</DOCUMENT...\n",
       "2  When did Robert J. Berdahl serve in his position?  ...  <DOCUMENT>The alumni giving rate accounts for ...\n",
       "3  How many years did Robert J. Berdahl's term last?  ...  <DOCUMENT>Native Americans contended with the ...\n",
       "4  What is the complete name of the person who se...  ...  <DOCUMENT>Berkeley had originally reported tha...\n",
       "\n",
       "[5 rows x 4 columns]"
      ]
     },
     "execution_count": 102,
     "metadata": {},
     "output_type": "execute_result"
    }
   ],
   "source": [
    "df = pd.read_json(dataset_path_ft_eval, lines=True)\n",
    "df.head()"
   ]
  },
  {
   "cell_type": "code",
   "execution_count": 100,
   "id": "5970a1bc",
   "metadata": {},
   "outputs": [
    {
     "name": "stdout",
     "output_type": "stream",
     "text": [
      "\u001b[32m2024-05-15 02:50:32\u001b[0m \u001b[1;30m INFO\u001b[0m [    ] \u001b[34mpfeval\u001b[0m Loading model configuration\n",
      "\u001b[32m2024-05-15 02:50:32\u001b[0m \u001b[1;30m INFO\u001b[0m [    ] \u001b[34mpfeval\u001b[0m deployment=fgpt-4-turbo\n",
      "\u001b[32m2024-05-15 02:50:32\u001b[0m \u001b[1;30m INFO\u001b[0m [    ] \u001b[34mpfeval\u001b[0m api_version=f2023-03-15-preview\n",
      "\u001b[32m2024-05-15 02:50:32\u001b[0m \u001b[1;30m INFO\u001b[0m [    ] \u001b[34mpfeval\u001b[0m azure_endpoint=fhttps://ai-cviaiwestus1288043977207.openai.azure.com/\n",
      "\u001b[32m2024-05-15 02:50:32\u001b[0m \u001b[1;30m INFO\u001b[0m [    ] \u001b[34mpfeval\u001b[0m Starting evaluate...\n",
      "100%|███████████████████████████████████████████| 12/12 [00:11<00:00,  1.02it/s]\n",
      "\u001b[32m2024-05-15 02:50:44\u001b[0m \u001b[1;30m INFO\u001b[0m [    ] \u001b[34mpfeval\u001b[0m Finished evaluate in 11.843371868133545s\n",
      "\u001b[32m2024-05-15 02:50:44\u001b[0m \u001b[1;30m INFO\u001b[0m [    ] \u001b[34mpfeval\u001b[0m Writing 12 results to dataset/ft.eval.pf.jsonl\n"
     ]
    }
   ],
   "source": [
    "!python ../pfeval.py \\\n",
    "    --input $dataset_path_ft_eval \\\n",
    "    --output $dataset_path_ft_eval_pf"
   ]
  },
  {
   "cell_type": "code",
   "execution_count": 101,
   "id": "d44e69bc",
   "metadata": {},
   "outputs": [
    {
     "data": {
      "text/html": [
       "<div>\n",
       "<style scoped>\n",
       "    .dataframe tbody tr th:only-of-type {\n",
       "        vertical-align: middle;\n",
       "    }\n",
       "\n",
       "    .dataframe tbody tr th {\n",
       "        vertical-align: top;\n",
       "    }\n",
       "\n",
       "    .dataframe thead th {\n",
       "        text-align: right;\n",
       "    }\n",
       "</style>\n",
       "<table border=\"1\" class=\"dataframe\">\n",
       "  <thead>\n",
       "    <tr style=\"text-align: right;\">\n",
       "      <th></th>\n",
       "      <th>query</th>\n",
       "      <th>response</th>\n",
       "      <th>context</th>\n",
       "      <th>gpt_relevance</th>\n",
       "      <th>gpt_fluency</th>\n",
       "      <th>gpt_coherence</th>\n",
       "      <th>gpt_groundedness</th>\n",
       "    </tr>\n",
       "  </thead>\n",
       "  <tbody>\n",
       "    <tr>\n",
       "      <th>0</th>\n",
       "      <td>In what year did Nicholas B. Birgeneau's tenur...</td>\n",
       "      <td>2017</td>\n",
       "      <td>&lt;DOCUMENT&gt;The institute is now widely regarded...</td>\n",
       "      <td>5</td>\n",
       "      <td>NaN</td>\n",
       "      <td>1</td>\n",
       "      <td>1</td>\n",
       "    </tr>\n",
       "    <tr>\n",
       "      <th>1</th>\n",
       "      <td>What is the full name of the individual who he...</td>\n",
       "      <td>Nicholas B. Birgeneau.</td>\n",
       "      <td>&lt;DOCUMENT&gt;Department of Education's Office of ...</td>\n",
       "      <td>1</td>\n",
       "      <td>NaN</td>\n",
       "      <td>1</td>\n",
       "      <td>1</td>\n",
       "    </tr>\n",
       "    <tr>\n",
       "      <th>2</th>\n",
       "      <td>How many years did Robert J. Berdahl's term last?</td>\n",
       "      <td>9 years</td>\n",
       "      <td>&lt;DOCUMENT&gt;Native Americans contended with the ...</td>\n",
       "      <td>5</td>\n",
       "      <td>NaN</td>\n",
       "      <td>3</td>\n",
       "      <td>1</td>\n",
       "    </tr>\n",
       "    <tr>\n",
       "      <th>3</th>\n",
       "      <td>Who served as the Chancellor of the University...</td>\n",
       "      <td>Nicholas B.</td>\n",
       "      <td>&lt;DOCUMENT&gt;Dirks\\n2017–present: Carol T. Christ...</td>\n",
       "      <td>3</td>\n",
       "      <td>1.0</td>\n",
       "      <td>1</td>\n",
       "      <td>1</td>\n",
       "    </tr>\n",
       "    <tr>\n",
       "      <th>4</th>\n",
       "      <td>Did Nicholas B. Birgeneau serve as a Universit...</td>\n",
       "      <td>Nicholas B. Birgeneau served as a University C...</td>\n",
       "      <td>&lt;DOCUMENT&gt;It shares this unofficial status\\nwi...</td>\n",
       "      <td>3</td>\n",
       "      <td>4.0</td>\n",
       "      <td>4</td>\n",
       "      <td>5</td>\n",
       "    </tr>\n",
       "  </tbody>\n",
       "</table>\n",
       "</div>"
      ],
      "text/plain": [
       "                                               query  ... gpt_groundedness\n",
       "0  In what year did Nicholas B. Birgeneau's tenur...  ...                1\n",
       "1  What is the full name of the individual who he...  ...                1\n",
       "2  How many years did Robert J. Berdahl's term last?  ...                1\n",
       "3  Who served as the Chancellor of the University...  ...                1\n",
       "4  Did Nicholas B. Birgeneau serve as a Universit...  ...                5\n",
       "\n",
       "[5 rows x 7 columns]"
      ]
     },
     "execution_count": 101,
     "metadata": {},
     "output_type": "execute_result"
    }
   ],
   "source": [
    "df = pd.read_json(dataset_path_ft_eval_pf, lines=True)\n",
    "df.head()"
   ]
  },
  {
   "cell_type": "markdown",
   "id": "846babb1-59b5-4d38-bb3a-d6eebd39ebee",
   "metadata": {},
   "source": [
    "## 3. Using Evaluate API to evaluate with data"
   ]
  },
  {
   "cell_type": "markdown",
   "id": "32fe3fa2",
   "metadata": {},
   "source": [
    "In previous sections, we walked you through how to use built-in evaluators to evaluate a single row and how to define your own custom evaluators. Now, we will show you how to use these evaluators with the powerful `evaluate` API to assess an entire dataset."
   ]
  },
  {
   "cell_type": "markdown",
   "id": "71b2265e",
   "metadata": {},
   "source": [
    "First, let's take a peek at what the data looks like."
   ]
  },
  {
   "cell_type": "code",
   "execution_count": 57,
   "id": "9d72f5c9",
   "metadata": {},
   "outputs": [
    {
     "data": {
      "text/html": [
       "<div>\n",
       "<style scoped>\n",
       "    .dataframe tbody tr th:only-of-type {\n",
       "        vertical-align: middle;\n",
       "    }\n",
       "\n",
       "    .dataframe tbody tr th {\n",
       "        vertical-align: top;\n",
       "    }\n",
       "\n",
       "    .dataframe thead th {\n",
       "        text-align: right;\n",
       "    }\n",
       "</style>\n",
       "<table border=\"1\" class=\"dataframe\">\n",
       "  <thead>\n",
       "    <tr style=\"text-align: right;\">\n",
       "      <th></th>\n",
       "      <th>question</th>\n",
       "      <th>gold_answer</th>\n",
       "      <th>context</th>\n",
       "    </tr>\n",
       "  </thead>\n",
       "  <tbody>\n",
       "    <tr>\n",
       "      <th>0</th>\n",
       "      <td>When did Robert J. Berdahl serve in his position?</td>\n",
       "      <td>Robert J. Berdahl served in his position from ...</td>\n",
       "      <td>&lt;DOCUMENT&gt;The alumni giving rate accounts for ...</td>\n",
       "    </tr>\n",
       "    <tr>\n",
       "      <th>1</th>\n",
       "      <td>What is the complete name of the person who se...</td>\n",
       "      <td>Robert J. Berdahl</td>\n",
       "      <td>&lt;DOCUMENT&gt;Berkeley had originally reported tha...</td>\n",
       "    </tr>\n",
       "    <tr>\n",
       "      <th>2</th>\n",
       "      <td>How many years did Robert J. Berdahl's term last?</td>\n",
       "      <td>9 years</td>\n",
       "      <td>&lt;DOCUMENT&gt;Native Americans contended with the ...</td>\n",
       "    </tr>\n",
       "    <tr>\n",
       "      <th>3</th>\n",
       "      <td>In what year did Robert J. Berdahl's service b...</td>\n",
       "      <td>2004</td>\n",
       "      <td>&lt;DOCUMENT&gt;News since at\\nleast 2014.&lt;/DOCUMENT...</td>\n",
       "    </tr>\n",
       "    <tr>\n",
       "      <th>4</th>\n",
       "      <td>Who served as the Chancellor of the University...</td>\n",
       "      <td>Nicholas B.</td>\n",
       "      <td>&lt;DOCUMENT&gt;Dirks\\n2017–present: Carol T. Christ...</td>\n",
       "    </tr>\n",
       "  </tbody>\n",
       "</table>\n",
       "</div>"
      ],
      "text/plain": [
       "                                            question  ...                                            context\n",
       "0  When did Robert J. Berdahl serve in his position?  ...  <DOCUMENT>The alumni giving rate accounts for ...\n",
       "1  What is the complete name of the person who se...  ...  <DOCUMENT>Berkeley had originally reported tha...\n",
       "2  How many years did Robert J. Berdahl's term last?  ...  <DOCUMENT>Native Americans contended with the ...\n",
       "3  In what year did Robert J. Berdahl's service b...  ...  <DOCUMENT>News since at\\nleast 2014.</DOCUMENT...\n",
       "4  Who served as the Chancellor of the University...  ...  <DOCUMENT>Dirks\\n2017–present: Carol T. Christ...\n",
       "\n",
       "[5 rows x 3 columns]"
      ]
     },
     "execution_count": 57,
     "metadata": {},
     "output_type": "execute_result"
    }
   ],
   "source": [
    "df.head()"
   ]
  },
  {
   "cell_type": "markdown",
   "id": "c8fcfc57",
   "metadata": {},
   "source": [
    "Now, we will invoke the `evaluate` API using a few evaluators that we already initialized\n",
    "\n",
    "Additionally, we have a column mapping to map the `truth` column from the dataset to `ground_truth`, which is accepted by the evaluator."
   ]
  },
  {
   "cell_type": "code",
   "execution_count": 60,
   "id": "3b03e557-19bd-4a2a-ae3f-bbaf6846fb33",
   "metadata": {},
   "outputs": [
    {
     "name": "stdout",
     "output_type": "stream",
     "text": [
      "Starting prompt flow service...\n",
      "Start prompt flow service on port 23333, version: 1.10.1.\n"
     ]
    },
    {
     "name": "stderr",
     "output_type": "stream",
     "text": [
      "[2024-05-14 18:59:01,061][promptflow._sdk._orchestrator.run_submitter][INFO] - Submitting run azure_ai_studio_ft_variant_0_20240514_185853_935940, log path: /home/vscode/.promptflow/.runs/azure_ai_studio_ft_variant_0_20240514_185853_935940/logs.txt\n"
     ]
    },
    {
     "name": "stdout",
     "output_type": "stream",
     "text": [
      "You can stop the prompt flow service with the following command:'\u001b[1mpf service stop\u001b[0m'.\n",
      "Alternatively, if no requests are made within 1 hours, it will automatically stop.\n",
      "You can view the traces in local from http://localhost:23333/v1.0/ui/traces/?#run=azure_ai_studio_ft_variant_0_20240514_185853_935940\n"
     ]
    },
    {
     "name": "stderr",
     "output_type": "stream",
     "text": [
      "Traceback (most recent call last):\n",
      "  File \"<string>\", line 1, in <module>\n",
      "  File \"/usr/local/lib/python3.10/multiprocessing/spawn.py\", line 116, in spawn_main\n",
      "    exitcode = _main(fd, parent_sentinel)\n",
      "  File \"/usr/local/lib/python3.10/multiprocessing/spawn.py\", line 126, in _main\n",
      "    self = reduction.pickle.load(from_parent)\n",
      "  File \"/workspaces/gorilla/raft/.venv/lib/python3.10/site-packages/promptflow/_sdk/operations/__init__.py\", line 7, in <module>\n",
      "    from ._flow_operations import FlowOperations\n",
      "  File \"/workspaces/gorilla/raft/.venv/lib/python3.10/site-packages/promptflow/_sdk/operations/_flow_operations.py\", line 26, in <module>\n",
      "    from promptflow._sdk._configuration import Configuration\n",
      "  File \"/workspaces/gorilla/raft/.venv/lib/python3.10/site-packages/promptflow/_sdk/_configuration.py\", line 21, in <module>\n",
      "    from promptflow._sdk._tracing import TraceDestinationConfig\n",
      "  File \"/workspaces/gorilla/raft/.venv/lib/python3.10/site-packages/promptflow/_sdk/_tracing.py\", line 58, in <module>\n",
      "    from promptflow._sdk._utilities.tracing_utils import get_workspace_kind, parse_kv_from_pb_attribute, parse_protobuf_span\n",
      "  File \"/workspaces/gorilla/raft/.venv/lib/python3.10/site-packages/promptflow/_sdk/_utilities/tracing_utils.py\", line 25, in <module>\n",
      "    from promptflow._sdk.entities._trace import Span\n",
      "  File \"/workspaces/gorilla/raft/.venv/lib/python3.10/site-packages/promptflow/_sdk/entities/__init__.py\", line 21, in <module>\n",
      "    from ._run import Run\n",
      "  File \"/workspaces/gorilla/raft/.venv/lib/python3.10/site-packages/promptflow/_sdk/entities/_run.py\", line 17, in <module>\n",
      "    from promptflow._sdk._configuration import Configuration\n",
      "ImportError: cannot import name 'Configuration' from partially initialized module 'promptflow._sdk._configuration' (most likely due to a circular import) (/workspaces/gorilla/raft/.venv/lib/python3.10/site-packages/promptflow/_sdk/_configuration.py)\n",
      "[2024-05-14 18:59:05,123][promptflow._sdk._orchestrator.run_submitter][WARNING] - Run azure_ai_studio_ft_variant_0_20240514_185853_935940 failed when executing in executor with exception Failed to start spawned fork process manager.\n"
     ]
    },
    {
     "ename": "SpawnedForkProcessManagerStartFailure",
     "evalue": "Failed to start spawned fork process manager",
     "output_type": "error",
     "traceback": [
      "\u001b[0;31m---------------------------------------------------------------------------\u001b[0m",
      "\u001b[0;31mSpawnedForkProcessManagerStartFailure\u001b[0m     Traceback (most recent call last)",
      "Cell \u001b[0;32mIn[60], line 3\u001b[0m\n\u001b[1;32m      1\u001b[0m \u001b[38;5;28;01mfrom\u001b[39;00m \u001b[38;5;21;01mpromptflow\u001b[39;00m\u001b[38;5;21;01m.\u001b[39;00m\u001b[38;5;21;01mevals\u001b[39;00m\u001b[38;5;21;01m.\u001b[39;00m\u001b[38;5;21;01mevaluate\u001b[39;00m \u001b[38;5;28;01mimport\u001b[39;00m evaluate\n\u001b[0;32m----> 3\u001b[0m result \u001b[38;5;241m=\u001b[39m \u001b[43mevaluate\u001b[49m\u001b[43m(\u001b[49m\n\u001b[1;32m      4\u001b[0m \u001b[43m    \u001b[49m\u001b[43mdata\u001b[49m\u001b[38;5;241;43m=\u001b[39;49m\u001b[43mdataset_path_ft_eval\u001b[49m\u001b[43m,\u001b[49m\n\u001b[1;32m      5\u001b[0m \u001b[43m    \u001b[49m\u001b[43mevaluators\u001b[49m\u001b[38;5;241;43m=\u001b[39;49m\u001b[43m{\u001b[49m\n\u001b[1;32m      6\u001b[0m \u001b[43m        \u001b[49m\u001b[38;5;124;43m\"\u001b[39;49m\u001b[38;5;124;43mrelevance\u001b[39;49m\u001b[38;5;124;43m\"\u001b[39;49m\u001b[43m:\u001b[49m\u001b[43m \u001b[49m\u001b[43mrelevance_eval\u001b[49m\n\u001b[1;32m      7\u001b[0m \u001b[43m    \u001b[49m\u001b[43m}\u001b[49m\u001b[43m,\u001b[49m\n\u001b[1;32m      8\u001b[0m \u001b[43m    \u001b[49m\u001b[38;5;66;43;03m# column mapping\u001b[39;49;00m\n\u001b[1;32m      9\u001b[0m \u001b[43m    \u001b[49m\u001b[43mevaluator_config\u001b[49m\u001b[38;5;241;43m=\u001b[39;49m\u001b[43m{\u001b[49m\n\u001b[1;32m     10\u001b[0m \u001b[43m        \u001b[49m\u001b[38;5;124;43m\"\u001b[39;49m\u001b[38;5;124;43mdefault\u001b[39;49m\u001b[38;5;124;43m\"\u001b[39;49m\u001b[43m:\u001b[49m\u001b[43m \u001b[49m\u001b[43m{\u001b[49m\n\u001b[1;32m     11\u001b[0m \u001b[43m            \u001b[49m\u001b[38;5;124;43m\"\u001b[39;49m\u001b[38;5;124;43manswer\u001b[39;49m\u001b[38;5;124;43m\"\u001b[39;49m\u001b[43m:\u001b[49m\u001b[43m \u001b[49m\u001b[38;5;124;43m\"\u001b[39;49m\u001b[38;5;124;43m$\u001b[39;49m\u001b[38;5;132;43;01m{data.gold_answer}\u001b[39;49;00m\u001b[38;5;124;43m\"\u001b[39;49m\n\u001b[1;32m     12\u001b[0m \u001b[43m        \u001b[49m\u001b[43m}\u001b[49m\n\u001b[1;32m     13\u001b[0m \u001b[43m    \u001b[49m\u001b[43m}\u001b[49m\n\u001b[1;32m     14\u001b[0m \u001b[43m)\u001b[49m\n\u001b[1;32m     16\u001b[0m \u001b[38;5;28;01mfrom\u001b[39;00m \u001b[38;5;21;01mIPython\u001b[39;00m\u001b[38;5;21;01m.\u001b[39;00m\u001b[38;5;21;01mdisplay\u001b[39;00m \u001b[38;5;28;01mimport\u001b[39;00m display, JSON\n\u001b[1;32m     17\u001b[0m display(JSON(result))\n",
      "File \u001b[0;32m/workspaces/gorilla/raft/.venv/lib/python3.10/site-packages/promptflow/evals/evaluate/_evaluate.py:268\u001b[0m, in \u001b[0;36mevaluate\u001b[0;34m(evaluation_name, target, data, evaluators, evaluator_config, tracking_uri, output_path, **kwargs)\u001b[0m\n\u001b[1;32m    266\u001b[0m \u001b[38;5;28;01mfor\u001b[39;00m evaluator_name, evaluator \u001b[38;5;129;01min\u001b[39;00m evaluators\u001b[38;5;241m.\u001b[39mitems():\n\u001b[1;32m    267\u001b[0m     evaluator_info[evaluator_name] \u001b[38;5;241m=\u001b[39m {}\n\u001b[0;32m--> 268\u001b[0m     evaluator_info[evaluator_name][\u001b[38;5;124m\"\u001b[39m\u001b[38;5;124mrun\u001b[39m\u001b[38;5;124m\"\u001b[39m] \u001b[38;5;241m=\u001b[39m \u001b[43mpf_client\u001b[49m\u001b[38;5;241;43m.\u001b[39;49m\u001b[43mrun\u001b[49m\u001b[43m(\u001b[49m\n\u001b[1;32m    269\u001b[0m \u001b[43m        \u001b[49m\u001b[43mflow\u001b[49m\u001b[38;5;241;43m=\u001b[39;49m\u001b[43mevaluator\u001b[49m\u001b[43m,\u001b[49m\n\u001b[1;32m    270\u001b[0m \u001b[43m        \u001b[49m\u001b[43mrun\u001b[49m\u001b[38;5;241;43m=\u001b[39;49m\u001b[43mtarget_run\u001b[49m\u001b[43m,\u001b[49m\n\u001b[1;32m    271\u001b[0m \u001b[43m        \u001b[49m\u001b[43mcolumn_mapping\u001b[49m\u001b[38;5;241;43m=\u001b[39;49m\u001b[43mevaluator_config\u001b[49m\u001b[38;5;241;43m.\u001b[39;49m\u001b[43mget\u001b[49m\u001b[43m(\u001b[49m\u001b[43mevaluator_name\u001b[49m\u001b[43m,\u001b[49m\u001b[43m \u001b[49m\u001b[43mevaluator_config\u001b[49m\u001b[38;5;241;43m.\u001b[39;49m\u001b[43mget\u001b[49m\u001b[43m(\u001b[49m\u001b[38;5;124;43m\"\u001b[39;49m\u001b[38;5;124;43mdefault\u001b[39;49m\u001b[38;5;124;43m\"\u001b[39;49m\u001b[43m,\u001b[49m\u001b[43m \u001b[49m\u001b[38;5;28;43;01mNone\u001b[39;49;00m\u001b[43m)\u001b[49m\u001b[43m)\u001b[49m\u001b[43m,\u001b[49m\n\u001b[1;32m    272\u001b[0m \u001b[43m        \u001b[49m\u001b[43mdata\u001b[49m\u001b[38;5;241;43m=\u001b[39;49m\u001b[43mdata_file\u001b[49m\u001b[43m,\u001b[49m\n\u001b[1;32m    273\u001b[0m \u001b[43m        \u001b[49m\u001b[43mstream\u001b[49m\u001b[38;5;241;43m=\u001b[39;49m\u001b[38;5;28;43;01mTrue\u001b[39;49;00m\u001b[43m,\u001b[49m\n\u001b[1;32m    274\u001b[0m \u001b[43m    \u001b[49m\u001b[43m)\u001b[49m\n\u001b[1;32m    276\u001b[0m evaluators_result_df \u001b[38;5;241m=\u001b[39m \u001b[38;5;28;01mNone\u001b[39;00m\n\u001b[1;32m    277\u001b[0m \u001b[38;5;28;01mfor\u001b[39;00m evaluator_name, evaluator_info \u001b[38;5;129;01min\u001b[39;00m evaluator_info\u001b[38;5;241m.\u001b[39mitems():\n",
      "File \u001b[0;32m/workspaces/gorilla/raft/.venv/lib/python3.10/site-packages/promptflow/_sdk/_pf_client.py:294\u001b[0m, in \u001b[0;36mPFClient.run\u001b[0;34m(self, flow, data, run, column_mapping, variant, connections, environment_variables, name, display_name, tags, resume_from, code, init, **kwargs)\u001b[0m\n\u001b[1;32m    221\u001b[0m \u001b[38;5;28;01mdef\u001b[39;00m \u001b[38;5;21mrun\u001b[39m(\n\u001b[1;32m    222\u001b[0m     \u001b[38;5;28mself\u001b[39m,\n\u001b[1;32m    223\u001b[0m     flow: Union[\u001b[38;5;28mstr\u001b[39m, PathLike, Callable] \u001b[38;5;241m=\u001b[39m \u001b[38;5;28;01mNone\u001b[39;00m,\n\u001b[0;32m   (...)\u001b[0m\n\u001b[1;32m    237\u001b[0m     \u001b[38;5;241m*\u001b[39m\u001b[38;5;241m*\u001b[39mkwargs,\n\u001b[1;32m    238\u001b[0m ) \u001b[38;5;241m-\u001b[39m\u001b[38;5;241m>\u001b[39m Run:\n\u001b[1;32m    239\u001b[0m \u001b[38;5;250m    \u001b[39m\u001b[38;5;124;03m\"\"\"Run flow against provided data or run.\u001b[39;00m\n\u001b[1;32m    240\u001b[0m \n\u001b[1;32m    241\u001b[0m \u001b[38;5;124;03m    .. note::\u001b[39;00m\n\u001b[0;32m   (...)\u001b[0m\n\u001b[1;32m    292\u001b[0m \u001b[38;5;124;03m    :rtype: ~promptflow.entities.Run\u001b[39;00m\n\u001b[1;32m    293\u001b[0m \u001b[38;5;124;03m    \"\"\"\u001b[39;00m\n\u001b[0;32m--> 294\u001b[0m     \u001b[38;5;28;01mreturn\u001b[39;00m \u001b[38;5;28;43mself\u001b[39;49m\u001b[38;5;241;43m.\u001b[39;49m\u001b[43m_run\u001b[49m\u001b[43m(\u001b[49m\n\u001b[1;32m    295\u001b[0m \u001b[43m        \u001b[49m\u001b[43mflow\u001b[49m\u001b[38;5;241;43m=\u001b[39;49m\u001b[43mflow\u001b[49m\u001b[43m,\u001b[49m\n\u001b[1;32m    296\u001b[0m \u001b[43m        \u001b[49m\u001b[43mdata\u001b[49m\u001b[38;5;241;43m=\u001b[39;49m\u001b[43mdata\u001b[49m\u001b[43m,\u001b[49m\n\u001b[1;32m    297\u001b[0m \u001b[43m        \u001b[49m\u001b[43mrun\u001b[49m\u001b[38;5;241;43m=\u001b[39;49m\u001b[43mrun\u001b[49m\u001b[43m,\u001b[49m\n\u001b[1;32m    298\u001b[0m \u001b[43m        \u001b[49m\u001b[43mcolumn_mapping\u001b[49m\u001b[38;5;241;43m=\u001b[39;49m\u001b[43mcolumn_mapping\u001b[49m\u001b[43m,\u001b[49m\n\u001b[1;32m    299\u001b[0m \u001b[43m        \u001b[49m\u001b[43mvariant\u001b[49m\u001b[38;5;241;43m=\u001b[39;49m\u001b[43mvariant\u001b[49m\u001b[43m,\u001b[49m\n\u001b[1;32m    300\u001b[0m \u001b[43m        \u001b[49m\u001b[43mconnections\u001b[49m\u001b[38;5;241;43m=\u001b[39;49m\u001b[43mconnections\u001b[49m\u001b[43m,\u001b[49m\n\u001b[1;32m    301\u001b[0m \u001b[43m        \u001b[49m\u001b[43menvironment_variables\u001b[49m\u001b[38;5;241;43m=\u001b[39;49m\u001b[43menvironment_variables\u001b[49m\u001b[43m,\u001b[49m\n\u001b[1;32m    302\u001b[0m \u001b[43m        \u001b[49m\u001b[43mname\u001b[49m\u001b[38;5;241;43m=\u001b[39;49m\u001b[43mname\u001b[49m\u001b[43m,\u001b[49m\n\u001b[1;32m    303\u001b[0m \u001b[43m        \u001b[49m\u001b[43mdisplay_name\u001b[49m\u001b[38;5;241;43m=\u001b[39;49m\u001b[43mdisplay_name\u001b[49m\u001b[43m,\u001b[49m\n\u001b[1;32m    304\u001b[0m \u001b[43m        \u001b[49m\u001b[43mtags\u001b[49m\u001b[38;5;241;43m=\u001b[39;49m\u001b[43mtags\u001b[49m\u001b[43m,\u001b[49m\n\u001b[1;32m    305\u001b[0m \u001b[43m        \u001b[49m\u001b[43mresume_from\u001b[49m\u001b[38;5;241;43m=\u001b[39;49m\u001b[43mresume_from\u001b[49m\u001b[43m,\u001b[49m\n\u001b[1;32m    306\u001b[0m \u001b[43m        \u001b[49m\u001b[43mcode\u001b[49m\u001b[38;5;241;43m=\u001b[39;49m\u001b[43mcode\u001b[49m\u001b[43m,\u001b[49m\n\u001b[1;32m    307\u001b[0m \u001b[43m        \u001b[49m\u001b[43minit\u001b[49m\u001b[38;5;241;43m=\u001b[39;49m\u001b[43minit\u001b[49m\u001b[43m,\u001b[49m\n\u001b[1;32m    308\u001b[0m \u001b[43m        \u001b[49m\u001b[38;5;241;43m*\u001b[39;49m\u001b[38;5;241;43m*\u001b[39;49m\u001b[43mkwargs\u001b[49m\u001b[43m,\u001b[49m\n\u001b[1;32m    309\u001b[0m \u001b[43m    \u001b[49m\u001b[43m)\u001b[49m\n",
      "File \u001b[0;32m/workspaces/gorilla/raft/.venv/lib/python3.10/site-packages/promptflow/_sdk/_pf_client.py:219\u001b[0m, in \u001b[0;36mPFClient._run\u001b[0;34m(self, flow, data, run, column_mapping, variant, connections, environment_variables, properties, name, display_name, tags, resume_from, code, init, **kwargs)\u001b[0m\n\u001b[1;32m    202\u001b[0m         variant, connections \u001b[38;5;241m=\u001b[39m \u001b[38;5;28;01mNone\u001b[39;00m, \u001b[38;5;28;01mNone\u001b[39;00m\n\u001b[1;32m    203\u001b[0m run \u001b[38;5;241m=\u001b[39m Run(\n\u001b[1;32m    204\u001b[0m     name\u001b[38;5;241m=\u001b[39mname,\n\u001b[1;32m    205\u001b[0m     display_name\u001b[38;5;241m=\u001b[39mdisplay_name,\n\u001b[0;32m   (...)\u001b[0m\n\u001b[1;32m    217\u001b[0m     dynamic_callable\u001b[38;5;241m=\u001b[39mdynamic_callable,\n\u001b[1;32m    218\u001b[0m )\n\u001b[0;32m--> 219\u001b[0m \u001b[38;5;28;01mreturn\u001b[39;00m \u001b[38;5;28;43mself\u001b[39;49m\u001b[38;5;241;43m.\u001b[39;49m\u001b[43mruns\u001b[49m\u001b[38;5;241;43m.\u001b[39;49m\u001b[43mcreate_or_update\u001b[49m\u001b[43m(\u001b[49m\u001b[43mrun\u001b[49m\u001b[38;5;241;43m=\u001b[39;49m\u001b[43mrun\u001b[49m\u001b[43m,\u001b[49m\u001b[43m \u001b[49m\u001b[38;5;241;43m*\u001b[39;49m\u001b[38;5;241;43m*\u001b[39;49m\u001b[43mkwargs\u001b[49m\u001b[43m)\u001b[49m\n",
      "File \u001b[0;32m/workspaces/gorilla/raft/.venv/lib/python3.10/site-packages/promptflow/_sdk/_telemetry/activity.py:265\u001b[0m, in \u001b[0;36mmonitor_operation.<locals>.monitor.<locals>.wrapper\u001b[0;34m(self, *args, **kwargs)\u001b[0m\n\u001b[1;32m    263\u001b[0m     thread \u001b[38;5;241m=\u001b[39m threading\u001b[38;5;241m.\u001b[39mThread(target\u001b[38;5;241m=\u001b[39mcheck_latest_version, daemon\u001b[38;5;241m=\u001b[39m\u001b[38;5;28;01mTrue\u001b[39;00m)\n\u001b[1;32m    264\u001b[0m     thread\u001b[38;5;241m.\u001b[39mstart()\n\u001b[0;32m--> 265\u001b[0m \u001b[38;5;28;01mreturn\u001b[39;00m \u001b[43mf\u001b[49m\u001b[43m(\u001b[49m\u001b[38;5;28;43mself\u001b[39;49m\u001b[43m,\u001b[49m\u001b[43m \u001b[49m\u001b[38;5;241;43m*\u001b[39;49m\u001b[43margs\u001b[49m\u001b[43m,\u001b[49m\u001b[43m \u001b[49m\u001b[38;5;241;43m*\u001b[39;49m\u001b[38;5;241;43m*\u001b[39;49m\u001b[43mkwargs\u001b[49m\u001b[43m)\u001b[49m\n",
      "File \u001b[0;32m/workspaces/gorilla/raft/.venv/lib/python3.10/site-packages/promptflow/_sdk/operations/_run_operations.py:126\u001b[0m, in \u001b[0;36mRunOperations.create_or_update\u001b[0;34m(self, run, **kwargs)\u001b[0m\n\u001b[1;32m    123\u001b[0m \u001b[38;5;28;01mtry\u001b[39;00m:\n\u001b[1;32m    124\u001b[0m     \u001b[38;5;28;01mfrom\u001b[39;00m \u001b[38;5;21;01mpromptflow\u001b[39;00m\u001b[38;5;21;01m.\u001b[39;00m\u001b[38;5;21;01m_sdk\u001b[39;00m\u001b[38;5;21;01m.\u001b[39;00m\u001b[38;5;21;01m_orchestrator\u001b[39;00m \u001b[38;5;28;01mimport\u001b[39;00m RunSubmitter\n\u001b[0;32m--> 126\u001b[0m     created_run \u001b[38;5;241m=\u001b[39m \u001b[43mRunSubmitter\u001b[49m\u001b[43m(\u001b[49m\u001b[43mclient\u001b[49m\u001b[38;5;241;43m=\u001b[39;49m\u001b[38;5;28;43mself\u001b[39;49m\u001b[38;5;241;43m.\u001b[39;49m\u001b[43m_client\u001b[49m\u001b[43m)\u001b[49m\u001b[38;5;241;43m.\u001b[39;49m\u001b[43msubmit\u001b[49m\u001b[43m(\u001b[49m\u001b[43mrun\u001b[49m\u001b[38;5;241;43m=\u001b[39;49m\u001b[43mrun\u001b[49m\u001b[43m,\u001b[49m\u001b[43m \u001b[49m\u001b[38;5;241;43m*\u001b[39;49m\u001b[38;5;241;43m*\u001b[39;49m\u001b[43mkwargs\u001b[49m\u001b[43m)\u001b[49m\n\u001b[1;32m    127\u001b[0m     \u001b[38;5;28;01mif\u001b[39;00m stream:\n\u001b[1;32m    128\u001b[0m         \u001b[38;5;28mself\u001b[39m\u001b[38;5;241m.\u001b[39mstream(created_run)\n",
      "File \u001b[0;32m/workspaces/gorilla/raft/.venv/lib/python3.10/site-packages/promptflow/_sdk/_orchestrator/run_submitter.py:42\u001b[0m, in \u001b[0;36mRunSubmitter.submit\u001b[0;34m(self, run, stream, **kwargs)\u001b[0m\n\u001b[1;32m     41\u001b[0m \u001b[38;5;28;01mdef\u001b[39;00m \u001b[38;5;21msubmit\u001b[39m(\u001b[38;5;28mself\u001b[39m, run: Run, stream\u001b[38;5;241m=\u001b[39m\u001b[38;5;28;01mFalse\u001b[39;00m, \u001b[38;5;241m*\u001b[39m\u001b[38;5;241m*\u001b[39mkwargs):\n\u001b[0;32m---> 42\u001b[0m     \u001b[38;5;28;43mself\u001b[39;49m\u001b[38;5;241;43m.\u001b[39;49m\u001b[43m_run_bulk\u001b[49m\u001b[43m(\u001b[49m\u001b[43mrun\u001b[49m\u001b[38;5;241;43m=\u001b[39;49m\u001b[43mrun\u001b[49m\u001b[43m,\u001b[49m\u001b[43m \u001b[49m\u001b[43mstream\u001b[49m\u001b[38;5;241;43m=\u001b[39;49m\u001b[43mstream\u001b[49m\u001b[43m,\u001b[49m\u001b[43m \u001b[49m\u001b[38;5;241;43m*\u001b[39;49m\u001b[38;5;241;43m*\u001b[39;49m\u001b[43mkwargs\u001b[49m\u001b[43m)\u001b[49m\n\u001b[1;32m     43\u001b[0m     \u001b[38;5;28;01mreturn\u001b[39;00m \u001b[38;5;28mself\u001b[39m\u001b[38;5;241m.\u001b[39mrun_operations\u001b[38;5;241m.\u001b[39mget(name\u001b[38;5;241m=\u001b[39mrun\u001b[38;5;241m.\u001b[39mname)\n",
      "File \u001b[0;32m/workspaces/gorilla/raft/.venv/lib/python3.10/site-packages/promptflow/_sdk/_orchestrator/run_submitter.py:112\u001b[0m, in \u001b[0;36mRunSubmitter._run_bulk\u001b[0;34m(self, run, stream, **kwargs)\u001b[0m\n\u001b[1;32m    110\u001b[0m flow_obj \u001b[38;5;241m=\u001b[39m load_flow(source\u001b[38;5;241m=\u001b[39mrun\u001b[38;5;241m.\u001b[39mflow)\n\u001b[1;32m    111\u001b[0m \u001b[38;5;28;01mwith\u001b[39;00m variant_overwrite_context(flow_obj, tuning_node, variant, connections\u001b[38;5;241m=\u001b[39mrun\u001b[38;5;241m.\u001b[39mconnections) \u001b[38;5;28;01mas\u001b[39;00m flow:\n\u001b[0;32m--> 112\u001b[0m     \u001b[38;5;28;43mself\u001b[39;49m\u001b[38;5;241;43m.\u001b[39;49m\u001b[43m_submit_bulk_run\u001b[49m\u001b[43m(\u001b[49m\u001b[43mflow\u001b[49m\u001b[38;5;241;43m=\u001b[39;49m\u001b[43mflow\u001b[49m\u001b[43m,\u001b[49m\u001b[43m \u001b[49m\u001b[43mrun\u001b[49m\u001b[38;5;241;43m=\u001b[39;49m\u001b[43mrun\u001b[49m\u001b[43m,\u001b[49m\u001b[43m \u001b[49m\u001b[43mlocal_storage\u001b[49m\u001b[38;5;241;43m=\u001b[39;49m\u001b[43mlocal_storage\u001b[49m\u001b[43m)\u001b[49m\n",
      "File \u001b[0;32m/workspaces/gorilla/raft/.venv/lib/python3.10/site-packages/promptflow/_sdk/_orchestrator/run_submitter.py:203\u001b[0m, in \u001b[0;36mRunSubmitter._submit_bulk_run\u001b[0;34m(self, flow, run, local_storage)\u001b[0m\n\u001b[1;32m    200\u001b[0m     \u001b[38;5;66;03m# for user error, swallow stack trace and return failed run since user don't need the stack trace\u001b[39;00m\n\u001b[1;32m    201\u001b[0m     \u001b[38;5;28;01mif\u001b[39;00m \u001b[38;5;129;01mnot\u001b[39;00m \u001b[38;5;28misinstance\u001b[39m(e, UserErrorException):\n\u001b[1;32m    202\u001b[0m         \u001b[38;5;66;03m# for other errors, raise it to user to help debug root cause.\u001b[39;00m\n\u001b[0;32m--> 203\u001b[0m         \u001b[38;5;28;01mraise\u001b[39;00m e\n\u001b[1;32m    204\u001b[0m     \u001b[38;5;66;03m# won't raise the exception since it's already included in run object.\u001b[39;00m\n\u001b[1;32m    205\u001b[0m \u001b[38;5;28;01mfinally\u001b[39;00m:\n\u001b[1;32m    206\u001b[0m     \u001b[38;5;66;03m# persist snapshot and result\u001b[39;00m\n\u001b[1;32m    207\u001b[0m     \u001b[38;5;66;03m# snapshot: flow directory\u001b[39;00m\n\u001b[1;32m    208\u001b[0m     local_storage\u001b[38;5;241m.\u001b[39mdump_snapshot(flow)\n",
      "File \u001b[0;32m/workspaces/gorilla/raft/.venv/lib/python3.10/site-packages/promptflow/_sdk/_orchestrator/run_submitter.py:169\u001b[0m, in \u001b[0;36mRunSubmitter._submit_bulk_run\u001b[0;34m(self, flow, run, local_storage)\u001b[0m\n\u001b[1;32m    159\u001b[0m \u001b[38;5;28;01mtry\u001b[39;00m:\n\u001b[1;32m    160\u001b[0m     batch_engine \u001b[38;5;241m=\u001b[39m BatchEngine(\n\u001b[1;32m    161\u001b[0m         run\u001b[38;5;241m.\u001b[39m_dynamic_callable \u001b[38;5;129;01mor\u001b[39;00m flow\u001b[38;5;241m.\u001b[39mpath,\n\u001b[1;32m    162\u001b[0m         flow\u001b[38;5;241m.\u001b[39mcode,\n\u001b[0;32m   (...)\u001b[0m\n\u001b[1;32m    167\u001b[0m         init_kwargs\u001b[38;5;241m=\u001b[39mrun\u001b[38;5;241m.\u001b[39minit,\n\u001b[1;32m    168\u001b[0m     )\n\u001b[0;32m--> 169\u001b[0m     batch_result \u001b[38;5;241m=\u001b[39m \u001b[43mbatch_engine\u001b[49m\u001b[38;5;241;43m.\u001b[39;49m\u001b[43mrun\u001b[49m\u001b[43m(\u001b[49m\n\u001b[1;32m    170\u001b[0m \u001b[43m        \u001b[49m\u001b[43minput_dirs\u001b[49m\u001b[38;5;241;43m=\u001b[39;49m\u001b[43minput_dirs\u001b[49m\u001b[43m,\u001b[49m\n\u001b[1;32m    171\u001b[0m \u001b[43m        \u001b[49m\u001b[43minputs_mapping\u001b[49m\u001b[38;5;241;43m=\u001b[39;49m\u001b[43mcolumn_mapping\u001b[49m\u001b[43m,\u001b[49m\n\u001b[1;32m    172\u001b[0m \u001b[43m        \u001b[49m\u001b[43moutput_dir\u001b[49m\u001b[38;5;241;43m=\u001b[39;49m\u001b[43mlocal_storage\u001b[49m\u001b[38;5;241;43m.\u001b[39;49m\u001b[43moutputs_folder\u001b[49m\u001b[43m,\u001b[49m\n\u001b[1;32m    173\u001b[0m \u001b[43m        \u001b[49m\u001b[43mrun_id\u001b[49m\u001b[38;5;241;43m=\u001b[39;49m\u001b[43mrun_id\u001b[49m\u001b[43m,\u001b[49m\n\u001b[1;32m    174\u001b[0m \u001b[43m        \u001b[49m\u001b[43mresume_from_run_storage\u001b[49m\u001b[38;5;241;43m=\u001b[39;49m\u001b[43mresume_from_run_storage\u001b[49m\u001b[43m,\u001b[49m\n\u001b[1;32m    175\u001b[0m \u001b[43m        \u001b[49m\u001b[43mresume_from_run_output_dir\u001b[49m\u001b[38;5;241;43m=\u001b[39;49m\u001b[43mresume_from_run_storage\u001b[49m\u001b[38;5;241;43m.\u001b[39;49m\u001b[43moutputs_folder\u001b[49m\u001b[43m \u001b[49m\u001b[38;5;28;43;01mif\u001b[39;49;00m\u001b[43m \u001b[49m\u001b[43mresume_from_run_storage\u001b[49m\u001b[43m \u001b[49m\u001b[38;5;28;43;01melse\u001b[39;49;00m\u001b[43m \u001b[49m\u001b[38;5;28;43;01mNone\u001b[39;49;00m\u001b[43m,\u001b[49m\n\u001b[1;32m    176\u001b[0m \u001b[43m    \u001b[49m\u001b[43m)\u001b[49m\n\u001b[1;32m    177\u001b[0m     error_logs \u001b[38;5;241m=\u001b[39m []\n\u001b[1;32m    178\u001b[0m     \u001b[38;5;28;01mif\u001b[39;00m batch_result\u001b[38;5;241m.\u001b[39mfailed_lines \u001b[38;5;241m>\u001b[39m \u001b[38;5;241m0\u001b[39m:\n\u001b[1;32m    179\u001b[0m         \u001b[38;5;66;03m# Log warning message when there are failed line run in bulk run.\u001b[39;00m\n",
      "File \u001b[0;32m/workspaces/gorilla/raft/.venv/lib/python3.10/site-packages/promptflow/batch/_batch_engine.py:269\u001b[0m, in \u001b[0;36mBatchEngine.run\u001b[0;34m(self, input_dirs, inputs_mapping, output_dir, run_id, max_lines_count, raise_on_line_failure, resume_from_run_storage, resume_from_run_output_dir, executor_proxy)\u001b[0m\n\u001b[1;32m    267\u001b[0m bulk_logger\u001b[38;5;241m.\u001b[39merror(\u001b[38;5;124mf\u001b[39m\u001b[38;5;124m\"\u001b[39m\u001b[38;5;124mError occurred while executing batch run. Exception: \u001b[39m\u001b[38;5;132;01m{\u001b[39;00m\u001b[38;5;28mstr\u001b[39m(e)\u001b[38;5;132;01m}\u001b[39;00m\u001b[38;5;124m\"\u001b[39m)\n\u001b[1;32m    268\u001b[0m \u001b[38;5;28;01mif\u001b[39;00m \u001b[38;5;28misinstance\u001b[39m(e, PromptflowException):\n\u001b[0;32m--> 269\u001b[0m     \u001b[38;5;28;01mraise\u001b[39;00m e\n\u001b[1;32m    270\u001b[0m \u001b[38;5;28;01melse\u001b[39;00m:\n\u001b[1;32m    271\u001b[0m     \u001b[38;5;66;03m# for unexpected error, we need to wrap it to SystemErrorException to allow us to see the stack trace.\u001b[39;00m\n\u001b[1;32m    272\u001b[0m     unexpected_error \u001b[38;5;241m=\u001b[39m UnexpectedError(\n\u001b[1;32m    273\u001b[0m         target\u001b[38;5;241m=\u001b[39mErrorTarget\u001b[38;5;241m.\u001b[39mBATCH,\n\u001b[1;32m    274\u001b[0m         message_format\u001b[38;5;241m=\u001b[39m(\n\u001b[0;32m   (...)\u001b[0m\n\u001b[1;32m    277\u001b[0m         error_type_and_message\u001b[38;5;241m=\u001b[39m\u001b[38;5;124mf\u001b[39m\u001b[38;5;124m\"\u001b[39m\u001b[38;5;124m(\u001b[39m\u001b[38;5;132;01m{\u001b[39;00me\u001b[38;5;241m.\u001b[39m\u001b[38;5;18m__class__\u001b[39m\u001b[38;5;241m.\u001b[39m\u001b[38;5;18m__name__\u001b[39m\u001b[38;5;132;01m}\u001b[39;00m\u001b[38;5;124m) \u001b[39m\u001b[38;5;132;01m{\u001b[39;00me\u001b[38;5;132;01m}\u001b[39;00m\u001b[38;5;124m\"\u001b[39m,\n\u001b[1;32m    278\u001b[0m     )\n",
      "File \u001b[0;32m/workspaces/gorilla/raft/.venv/lib/python3.10/site-packages/promptflow/batch/_batch_engine.py:256\u001b[0m, in \u001b[0;36mBatchEngine.run\u001b[0;34m(self, input_dirs, inputs_mapping, output_dir, run_id, max_lines_count, raise_on_line_failure, resume_from_run_storage, resume_from_run_output_dir, executor_proxy)\u001b[0m\n\u001b[1;32m    251\u001b[0m         previous_run_results \u001b[38;5;241m=\u001b[39m \u001b[38;5;28mself\u001b[39m\u001b[38;5;241m.\u001b[39m_copy_previous_run_result(\n\u001b[1;32m    252\u001b[0m             resume_from_run_storage, batch_inputs, output_dir, run_id\n\u001b[1;32m    253\u001b[0m         )\n\u001b[1;32m    255\u001b[0m     \u001b[38;5;66;03m# run flow in batch mode\u001b[39;00m\n\u001b[0;32m--> 256\u001b[0m     \u001b[38;5;28;01mreturn\u001b[39;00m \u001b[43masync_run_allowing_running_loop\u001b[49m\u001b[43m(\u001b[49m\n\u001b[1;32m    257\u001b[0m \u001b[43m        \u001b[49m\u001b[38;5;28;43mself\u001b[39;49m\u001b[38;5;241;43m.\u001b[39;49m\u001b[43m_exec_in_task\u001b[49m\u001b[43m,\u001b[49m\n\u001b[1;32m    258\u001b[0m \u001b[43m        \u001b[49m\u001b[43mbatch_inputs\u001b[49m\u001b[43m,\u001b[49m\n\u001b[1;32m    259\u001b[0m \u001b[43m        \u001b[49m\u001b[43mrun_id\u001b[49m\u001b[43m,\u001b[49m\n\u001b[1;32m    260\u001b[0m \u001b[43m        \u001b[49m\u001b[43moutput_dir\u001b[49m\u001b[43m,\u001b[49m\n\u001b[1;32m    261\u001b[0m \u001b[43m        \u001b[49m\u001b[43mraise_on_line_failure\u001b[49m\u001b[43m,\u001b[49m\n\u001b[1;32m    262\u001b[0m \u001b[43m        \u001b[49m\u001b[43mprevious_run_results\u001b[49m\u001b[43m,\u001b[49m\n\u001b[1;32m    263\u001b[0m \u001b[43m    \u001b[49m\u001b[43m)\u001b[49m\n\u001b[1;32m    264\u001b[0m \u001b[38;5;28;01mfinally\u001b[39;00m:\n\u001b[1;32m    265\u001b[0m     async_run_allowing_running_loop(\u001b[38;5;28mself\u001b[39m\u001b[38;5;241m.\u001b[39m_executor_proxy\u001b[38;5;241m.\u001b[39mdestroy)\n",
      "File \u001b[0;32m/workspaces/gorilla/raft/.venv/lib/python3.10/site-packages/promptflow/_utils/async_utils.py:38\u001b[0m, in \u001b[0;36masync_run_allowing_running_loop\u001b[0;34m(async_func, *args, **kwargs)\u001b[0m\n\u001b[1;32m     36\u001b[0m \u001b[38;5;28;01mif\u001b[39;00m _has_running_loop():\n\u001b[1;32m     37\u001b[0m     \u001b[38;5;28;01mwith\u001b[39;00m ThreadPoolExecutor(\u001b[38;5;241m1\u001b[39m, initializer\u001b[38;5;241m=\u001b[39mset_context, initargs\u001b[38;5;241m=\u001b[39m(contextvars\u001b[38;5;241m.\u001b[39mcopy_context(),)) \u001b[38;5;28;01mas\u001b[39;00m executor:\n\u001b[0;32m---> 38\u001b[0m         \u001b[38;5;28;01mreturn\u001b[39;00m \u001b[43mexecutor\u001b[49m\u001b[38;5;241;43m.\u001b[39;49m\u001b[43msubmit\u001b[49m\u001b[43m(\u001b[49m\u001b[38;5;28;43;01mlambda\u001b[39;49;00m\u001b[43m:\u001b[49m\u001b[43m \u001b[49m\u001b[43masyncio\u001b[49m\u001b[38;5;241;43m.\u001b[39;49m\u001b[43mrun\u001b[49m\u001b[43m(\u001b[49m\u001b[43masync_func\u001b[49m\u001b[43m(\u001b[49m\u001b[38;5;241;43m*\u001b[39;49m\u001b[43margs\u001b[49m\u001b[43m,\u001b[49m\u001b[43m \u001b[49m\u001b[38;5;241;43m*\u001b[39;49m\u001b[38;5;241;43m*\u001b[39;49m\u001b[43mkwargs\u001b[49m\u001b[43m)\u001b[49m\u001b[43m)\u001b[49m\u001b[43m)\u001b[49m\u001b[38;5;241;43m.\u001b[39;49m\u001b[43mresult\u001b[49m\u001b[43m(\u001b[49m\u001b[43m)\u001b[49m\n\u001b[1;32m     39\u001b[0m \u001b[38;5;28;01melse\u001b[39;00m:\n\u001b[1;32m     40\u001b[0m     \u001b[38;5;28;01mreturn\u001b[39;00m asyncio\u001b[38;5;241m.\u001b[39mrun(async_func(\u001b[38;5;241m*\u001b[39margs, \u001b[38;5;241m*\u001b[39m\u001b[38;5;241m*\u001b[39mkwargs))\n",
      "File \u001b[0;32m/usr/local/lib/python3.10/concurrent/futures/_base.py:458\u001b[0m, in \u001b[0;36mFuture.result\u001b[0;34m(self, timeout)\u001b[0m\n\u001b[1;32m    456\u001b[0m     \u001b[38;5;28;01mraise\u001b[39;00m CancelledError()\n\u001b[1;32m    457\u001b[0m \u001b[38;5;28;01melif\u001b[39;00m \u001b[38;5;28mself\u001b[39m\u001b[38;5;241m.\u001b[39m_state \u001b[38;5;241m==\u001b[39m FINISHED:\n\u001b[0;32m--> 458\u001b[0m     \u001b[38;5;28;01mreturn\u001b[39;00m \u001b[38;5;28;43mself\u001b[39;49m\u001b[38;5;241;43m.\u001b[39;49m\u001b[43m__get_result\u001b[49m\u001b[43m(\u001b[49m\u001b[43m)\u001b[49m\n\u001b[1;32m    459\u001b[0m \u001b[38;5;28;01melse\u001b[39;00m:\n\u001b[1;32m    460\u001b[0m     \u001b[38;5;28;01mraise\u001b[39;00m \u001b[38;5;167;01mTimeoutError\u001b[39;00m()\n",
      "File \u001b[0;32m/usr/local/lib/python3.10/concurrent/futures/_base.py:403\u001b[0m, in \u001b[0;36mFuture.__get_result\u001b[0;34m(self)\u001b[0m\n\u001b[1;32m    401\u001b[0m \u001b[38;5;28;01mif\u001b[39;00m \u001b[38;5;28mself\u001b[39m\u001b[38;5;241m.\u001b[39m_exception:\n\u001b[1;32m    402\u001b[0m     \u001b[38;5;28;01mtry\u001b[39;00m:\n\u001b[0;32m--> 403\u001b[0m         \u001b[38;5;28;01mraise\u001b[39;00m \u001b[38;5;28mself\u001b[39m\u001b[38;5;241m.\u001b[39m_exception\n\u001b[1;32m    404\u001b[0m     \u001b[38;5;28;01mfinally\u001b[39;00m:\n\u001b[1;32m    405\u001b[0m         \u001b[38;5;66;03m# Break a reference cycle with the exception in self._exception\u001b[39;00m\n\u001b[1;32m    406\u001b[0m         \u001b[38;5;28mself\u001b[39m \u001b[38;5;241m=\u001b[39m \u001b[38;5;28;01mNone\u001b[39;00m\n",
      "File \u001b[0;32m/usr/local/lib/python3.10/concurrent/futures/thread.py:58\u001b[0m, in \u001b[0;36m_WorkItem.run\u001b[0;34m(self)\u001b[0m\n\u001b[1;32m     55\u001b[0m     \u001b[38;5;28;01mreturn\u001b[39;00m\n\u001b[1;32m     57\u001b[0m \u001b[38;5;28;01mtry\u001b[39;00m:\n\u001b[0;32m---> 58\u001b[0m     result \u001b[38;5;241m=\u001b[39m \u001b[38;5;28;43mself\u001b[39;49m\u001b[38;5;241;43m.\u001b[39;49m\u001b[43mfn\u001b[49m\u001b[43m(\u001b[49m\u001b[38;5;241;43m*\u001b[39;49m\u001b[38;5;28;43mself\u001b[39;49m\u001b[38;5;241;43m.\u001b[39;49m\u001b[43margs\u001b[49m\u001b[43m,\u001b[49m\u001b[43m \u001b[49m\u001b[38;5;241;43m*\u001b[39;49m\u001b[38;5;241;43m*\u001b[39;49m\u001b[38;5;28;43mself\u001b[39;49m\u001b[38;5;241;43m.\u001b[39;49m\u001b[43mkwargs\u001b[49m\u001b[43m)\u001b[49m\n\u001b[1;32m     59\u001b[0m \u001b[38;5;28;01mexcept\u001b[39;00m \u001b[38;5;167;01mBaseException\u001b[39;00m \u001b[38;5;28;01mas\u001b[39;00m exc:\n\u001b[1;32m     60\u001b[0m     \u001b[38;5;28mself\u001b[39m\u001b[38;5;241m.\u001b[39mfuture\u001b[38;5;241m.\u001b[39mset_exception(exc)\n",
      "File \u001b[0;32m/workspaces/gorilla/raft/.venv/lib/python3.10/site-packages/promptflow/_utils/async_utils.py:38\u001b[0m, in \u001b[0;36masync_run_allowing_running_loop.<locals>.<lambda>\u001b[0;34m()\u001b[0m\n\u001b[1;32m     36\u001b[0m \u001b[38;5;28;01mif\u001b[39;00m _has_running_loop():\n\u001b[1;32m     37\u001b[0m     \u001b[38;5;28;01mwith\u001b[39;00m ThreadPoolExecutor(\u001b[38;5;241m1\u001b[39m, initializer\u001b[38;5;241m=\u001b[39mset_context, initargs\u001b[38;5;241m=\u001b[39m(contextvars\u001b[38;5;241m.\u001b[39mcopy_context(),)) \u001b[38;5;28;01mas\u001b[39;00m executor:\n\u001b[0;32m---> 38\u001b[0m         \u001b[38;5;28;01mreturn\u001b[39;00m executor\u001b[38;5;241m.\u001b[39msubmit(\u001b[38;5;28;01mlambda\u001b[39;00m: \u001b[43masyncio\u001b[49m\u001b[38;5;241;43m.\u001b[39;49m\u001b[43mrun\u001b[49m\u001b[43m(\u001b[49m\u001b[43masync_func\u001b[49m\u001b[43m(\u001b[49m\u001b[38;5;241;43m*\u001b[39;49m\u001b[43margs\u001b[49m\u001b[43m,\u001b[49m\u001b[43m \u001b[49m\u001b[38;5;241;43m*\u001b[39;49m\u001b[38;5;241;43m*\u001b[39;49m\u001b[43mkwargs\u001b[49m\u001b[43m)\u001b[49m\u001b[43m)\u001b[49m)\u001b[38;5;241m.\u001b[39mresult()\n\u001b[1;32m     39\u001b[0m \u001b[38;5;28;01melse\u001b[39;00m:\n\u001b[1;32m     40\u001b[0m     \u001b[38;5;28;01mreturn\u001b[39;00m asyncio\u001b[38;5;241m.\u001b[39mrun(async_func(\u001b[38;5;241m*\u001b[39margs, \u001b[38;5;241m*\u001b[39m\u001b[38;5;241m*\u001b[39mkwargs))\n",
      "File \u001b[0;32m/usr/local/lib/python3.10/asyncio/runners.py:44\u001b[0m, in \u001b[0;36mrun\u001b[0;34m(main, debug)\u001b[0m\n\u001b[1;32m     42\u001b[0m     \u001b[38;5;28;01mif\u001b[39;00m debug \u001b[38;5;129;01mis\u001b[39;00m \u001b[38;5;129;01mnot\u001b[39;00m \u001b[38;5;28;01mNone\u001b[39;00m:\n\u001b[1;32m     43\u001b[0m         loop\u001b[38;5;241m.\u001b[39mset_debug(debug)\n\u001b[0;32m---> 44\u001b[0m     \u001b[38;5;28;01mreturn\u001b[39;00m \u001b[43mloop\u001b[49m\u001b[38;5;241;43m.\u001b[39;49m\u001b[43mrun_until_complete\u001b[49m\u001b[43m(\u001b[49m\u001b[43mmain\u001b[49m\u001b[43m)\u001b[49m\n\u001b[1;32m     45\u001b[0m \u001b[38;5;28;01mfinally\u001b[39;00m:\n\u001b[1;32m     46\u001b[0m     \u001b[38;5;28;01mtry\u001b[39;00m:\n",
      "File \u001b[0;32m/usr/local/lib/python3.10/asyncio/base_events.py:649\u001b[0m, in \u001b[0;36mBaseEventLoop.run_until_complete\u001b[0;34m(self, future)\u001b[0m\n\u001b[1;32m    646\u001b[0m \u001b[38;5;28;01mif\u001b[39;00m \u001b[38;5;129;01mnot\u001b[39;00m future\u001b[38;5;241m.\u001b[39mdone():\n\u001b[1;32m    647\u001b[0m     \u001b[38;5;28;01mraise\u001b[39;00m \u001b[38;5;167;01mRuntimeError\u001b[39;00m(\u001b[38;5;124m'\u001b[39m\u001b[38;5;124mEvent loop stopped before Future completed.\u001b[39m\u001b[38;5;124m'\u001b[39m)\n\u001b[0;32m--> 649\u001b[0m \u001b[38;5;28;01mreturn\u001b[39;00m \u001b[43mfuture\u001b[49m\u001b[38;5;241;43m.\u001b[39;49m\u001b[43mresult\u001b[49m\u001b[43m(\u001b[49m\u001b[43m)\u001b[49m\n",
      "File \u001b[0;32m/workspaces/gorilla/raft/.venv/lib/python3.10/site-packages/promptflow/batch/_batch_engine.py:416\u001b[0m, in \u001b[0;36mBatchEngine._exec_in_task\u001b[0;34m(self, batch_inputs, run_id, output_dir, raise_on_line_failure, previous_line_results)\u001b[0m\n\u001b[1;32m    414\u001b[0m         \u001b[38;5;66;03m# summary some infos from line results and aggr results to batch result\u001b[39;00m\n\u001b[1;32m    415\u001b[0m         \u001b[38;5;28;01mreturn\u001b[39;00m BatchResult\u001b[38;5;241m.\u001b[39mcreate(\u001b[38;5;28mself\u001b[39m\u001b[38;5;241m.\u001b[39m_start_time, datetime\u001b[38;5;241m.\u001b[39mutcnow(), line_results, aggr_result, exception\u001b[38;5;241m=\u001b[39mex)\n\u001b[0;32m--> 416\u001b[0m \u001b[38;5;28;01mreturn\u001b[39;00m \u001b[43mtask\u001b[49m\u001b[38;5;241;43m.\u001b[39;49m\u001b[43mresult\u001b[49m\u001b[43m(\u001b[49m\u001b[43m)\u001b[49m\n",
      "File \u001b[0;32m/workspaces/gorilla/raft/.venv/lib/python3.10/site-packages/promptflow/batch/_batch_engine.py:475\u001b[0m, in \u001b[0;36mBatchEngine._exec\u001b[0;34m(self, batch_inputs, run_id, output_dir, raise_on_line_failure, previous_line_results, line_results, aggr_result)\u001b[0m\n\u001b[1;32m    473\u001b[0m is_timeout \u001b[38;5;241m=\u001b[39m \u001b[38;5;28;01mFalse\u001b[39;00m\n\u001b[1;32m    474\u001b[0m \u001b[38;5;28;01mif\u001b[39;00m \u001b[38;5;28misinstance\u001b[39m(\u001b[38;5;28mself\u001b[39m\u001b[38;5;241m.\u001b[39m_executor_proxy, PythonExecutorProxy):\n\u001b[0;32m--> 475\u001b[0m     results, is_timeout \u001b[38;5;241m=\u001b[39m \u001b[38;5;28;01mawait\u001b[39;00m \u001b[38;5;28mself\u001b[39m\u001b[38;5;241m.\u001b[39m_executor_proxy\u001b[38;5;241m.\u001b[39m_exec_batch(\n\u001b[1;32m    476\u001b[0m         inputs_to_run,\n\u001b[1;32m    477\u001b[0m         output_dir,\n\u001b[1;32m    478\u001b[0m         run_id,\n\u001b[1;32m    479\u001b[0m         batch_timeout_sec\u001b[38;5;241m=\u001b[39m\u001b[38;5;28mself\u001b[39m\u001b[38;5;241m.\u001b[39m_batch_timeout_sec,\n\u001b[1;32m    480\u001b[0m         line_timeout_sec\u001b[38;5;241m=\u001b[39m\u001b[38;5;28mself\u001b[39m\u001b[38;5;241m.\u001b[39m_line_timeout_sec,\n\u001b[1;32m    481\u001b[0m         worker_count\u001b[38;5;241m=\u001b[39m\u001b[38;5;28mself\u001b[39m\u001b[38;5;241m.\u001b[39m_worker_count,\n\u001b[1;32m    482\u001b[0m     )\n\u001b[1;32m    483\u001b[0m     line_results\u001b[38;5;241m.\u001b[39mextend(results)\n\u001b[1;32m    484\u001b[0m \u001b[38;5;28;01melse\u001b[39;00m:\n",
      "File \u001b[0;32m/workspaces/gorilla/raft/.venv/lib/python3.10/site-packages/promptflow/_proxy/_python_executor_proxy.py:123\u001b[0m, in \u001b[0;36mPythonExecutorProxy._exec_batch\u001b[0;34m(self, batch_inputs, output_dir, run_id, batch_timeout_sec, line_timeout_sec, worker_count)\u001b[0m\n\u001b[1;32m    113\u001b[0m \u001b[38;5;28;01mwith\u001b[39;00m LineExecutionProcessPool(\n\u001b[1;32m    114\u001b[0m     output_dir,\n\u001b[1;32m    115\u001b[0m     \u001b[38;5;28mself\u001b[39m\u001b[38;5;241m.\u001b[39m_flow_executor,\n\u001b[0;32m   (...)\u001b[0m\n\u001b[1;32m    120\u001b[0m     nlines\u001b[38;5;241m=\u001b[39m\u001b[38;5;28mlen\u001b[39m(batch_inputs),\n\u001b[1;32m    121\u001b[0m ) \u001b[38;5;28;01mas\u001b[39;00m pool:\n\u001b[1;32m    122\u001b[0m     line_number \u001b[38;5;241m=\u001b[39m [batch_input[\u001b[38;5;124m\"\u001b[39m\u001b[38;5;124mline_number\u001b[39m\u001b[38;5;124m\"\u001b[39m] \u001b[38;5;28;01mfor\u001b[39;00m batch_input \u001b[38;5;129;01min\u001b[39;00m batch_inputs]\n\u001b[0;32m--> 123\u001b[0m     line_results \u001b[38;5;241m=\u001b[39m \u001b[38;5;28;01mawait\u001b[39;00m pool\u001b[38;5;241m.\u001b[39mrun(\u001b[38;5;28mzip\u001b[39m(line_number, batch_inputs))\n\u001b[1;32m    125\u001b[0m \u001b[38;5;66;03m# For bulk run, currently we need to add line results to run_tracker\u001b[39;00m\n\u001b[1;32m    126\u001b[0m \u001b[38;5;28mself\u001b[39m\u001b[38;5;241m.\u001b[39m_flow_executor\u001b[38;5;241m.\u001b[39m_add_line_results(line_results, run_tracker)\n",
      "File \u001b[0;32m/workspaces/gorilla/raft/.venv/lib/python3.10/site-packages/promptflow/executor/_line_execution_process_pool.py:301\u001b[0m, in \u001b[0;36mLineExecutionProcessPool.run\u001b[0;34m(self, batch_inputs)\u001b[0m\n\u001b[1;32m    299\u001b[0m             \u001b[38;5;28;01mbreak\u001b[39;00m\n\u001b[1;32m    300\u001b[0m         \u001b[38;5;66;03m# Check monitor status every 1 second\u001b[39;00m\n\u001b[0;32m--> 301\u001b[0m         \u001b[38;5;28;43mself\u001b[39;49m\u001b[38;5;241;43m.\u001b[39;49m\u001b[43m_monitor_thread_pool_status\u001b[49m\u001b[43m(\u001b[49m\u001b[43m)\u001b[49m\n\u001b[1;32m    302\u001b[0m         \u001b[38;5;28;01mawait\u001b[39;00m asyncio\u001b[38;5;241m.\u001b[39msleep(\u001b[38;5;241m1\u001b[39m)\n\u001b[1;32m    303\u001b[0m \u001b[38;5;28;01mexcept\u001b[39;00m PromptflowException:\n",
      "File \u001b[0;32m/workspaces/gorilla/raft/.venv/lib/python3.10/site-packages/promptflow/executor/_line_execution_process_pool.py:537\u001b[0m, in \u001b[0;36mLineExecutionProcessPool._monitor_thread_pool_status\u001b[0;34m(self)\u001b[0m\n\u001b[1;32m    532\u001b[0m             \u001b[38;5;28;01mcontinue\u001b[39;00m\n\u001b[1;32m    533\u001b[0m         \u001b[38;5;66;03m# To ensure exceptions in thread-pool calls are propagated to the main process for proper handling\u001b[39;00m\n\u001b[1;32m    534\u001b[0m         \u001b[38;5;66;03m# The exceptions raised will be re-raised by the get() method.\u001b[39;00m\n\u001b[1;32m    535\u001b[0m         \u001b[38;5;66;03m# Related link:\u001b[39;00m\n\u001b[1;32m    536\u001b[0m         \u001b[38;5;66;03m# https://docs.python.org/3/library/multiprocessing.html#multiprocessing.pool.AsyncResult\u001b[39;00m\n\u001b[0;32m--> 537\u001b[0m         \u001b[43masync_task\u001b[49m\u001b[38;5;241;43m.\u001b[39;49m\u001b[43mget\u001b[49m\u001b[43m(\u001b[49m\u001b[43m)\u001b[49m\n\u001b[1;32m    538\u001b[0m \u001b[38;5;28;01mexcept\u001b[39;00m PromptflowException:\n\u001b[1;32m    539\u001b[0m     \u001b[38;5;28;01mraise\u001b[39;00m\n",
      "File \u001b[0;32m/usr/local/lib/python3.10/multiprocessing/pool.py:774\u001b[0m, in \u001b[0;36mApplyResult.get\u001b[0;34m(self, timeout)\u001b[0m\n\u001b[1;32m    772\u001b[0m     \u001b[38;5;28;01mreturn\u001b[39;00m \u001b[38;5;28mself\u001b[39m\u001b[38;5;241m.\u001b[39m_value\n\u001b[1;32m    773\u001b[0m \u001b[38;5;28;01melse\u001b[39;00m:\n\u001b[0;32m--> 774\u001b[0m     \u001b[38;5;28;01mraise\u001b[39;00m \u001b[38;5;28mself\u001b[39m\u001b[38;5;241m.\u001b[39m_value\n",
      "File \u001b[0;32m/usr/local/lib/python3.10/multiprocessing/pool.py:125\u001b[0m, in \u001b[0;36mworker\u001b[0;34m(inqueue, outqueue, initializer, initargs, maxtasks, wrap_exception)\u001b[0m\n\u001b[1;32m    123\u001b[0m job, i, func, args, kwds \u001b[38;5;241m=\u001b[39m task\n\u001b[1;32m    124\u001b[0m \u001b[38;5;28;01mtry\u001b[39;00m:\n\u001b[0;32m--> 125\u001b[0m     result \u001b[38;5;241m=\u001b[39m (\u001b[38;5;28;01mTrue\u001b[39;00m, \u001b[43mfunc\u001b[49m\u001b[43m(\u001b[49m\u001b[38;5;241;43m*\u001b[39;49m\u001b[43margs\u001b[49m\u001b[43m,\u001b[49m\u001b[43m \u001b[49m\u001b[38;5;241;43m*\u001b[39;49m\u001b[38;5;241;43m*\u001b[39;49m\u001b[43mkwds\u001b[49m\u001b[43m)\u001b[49m)\n\u001b[1;32m    126\u001b[0m \u001b[38;5;28;01mexcept\u001b[39;00m \u001b[38;5;167;01mException\u001b[39;00m \u001b[38;5;28;01mas\u001b[39;00m e:\n\u001b[1;32m    127\u001b[0m     \u001b[38;5;28;01mif\u001b[39;00m wrap_exception \u001b[38;5;129;01mand\u001b[39;00m func \u001b[38;5;129;01mis\u001b[39;00m \u001b[38;5;129;01mnot\u001b[39;00m _helper_reraises_exception:\n",
      "File \u001b[0;32m/workspaces/gorilla/raft/.venv/lib/python3.10/site-packages/promptflow/executor/_line_execution_process_pool.py:338\u001b[0m, in \u001b[0;36mLineExecutionProcessPool._monitor_workers_and_process_tasks_in_thread\u001b[0;34m(self, task_queue, result_dict, index, input_queue, output_queue)\u001b[0m\n\u001b[1;32m    329\u001b[0m \u001b[38;5;28;01mdef\u001b[39;00m \u001b[38;5;21m_monitor_workers_and_process_tasks_in_thread\u001b[39m(\n\u001b[1;32m    330\u001b[0m     \u001b[38;5;28mself\u001b[39m,\n\u001b[1;32m    331\u001b[0m     task_queue: Queue,\n\u001b[0;32m   (...)\u001b[0m\n\u001b[1;32m    336\u001b[0m ):\n\u001b[1;32m    337\u001b[0m     \u001b[38;5;66;03m# Get the process info of the thread monitoring from the manager.\u001b[39;00m\n\u001b[0;32m--> 338\u001b[0m     index, process_id, process_name \u001b[38;5;241m=\u001b[39m \u001b[38;5;28;43mself\u001b[39;49m\u001b[38;5;241;43m.\u001b[39;49m\u001b[43m_processes_manager\u001b[49m\u001b[38;5;241;43m.\u001b[39;49m\u001b[43mget_process_info\u001b[49m\u001b[43m(\u001b[49m\u001b[43mindex\u001b[49m\u001b[43m)\u001b[49m\n\u001b[1;32m    340\u001b[0m     \u001b[38;5;66;03m# The main loop of the thread, responsible for getting tasks from the task queue and\u001b[39;00m\n\u001b[1;32m    341\u001b[0m     \u001b[38;5;66;03m# processing them through the input queue, while also monitoring for terminate signals.\u001b[39;00m\n\u001b[1;32m    342\u001b[0m     \u001b[38;5;66;03m# Currently, it exits this loop only upon receiving a terminate signal or the batch run timeout.\u001b[39;00m\n\u001b[1;32m    343\u001b[0m     terminated \u001b[38;5;241m=\u001b[39m \u001b[38;5;28;01mFalse\u001b[39;00m\n",
      "File \u001b[0;32m/workspaces/gorilla/raft/.venv/lib/python3.10/site-packages/promptflow/executor/_process_manager.py:137\u001b[0m, in \u001b[0;36mAbstractProcessManager.get_process_info\u001b[0;34m(self, index)\u001b[0m\n\u001b[1;32m    135\u001b[0m start_time \u001b[38;5;241m=\u001b[39m time\u001b[38;5;241m.\u001b[39mtime()\n\u001b[1;32m    136\u001b[0m \u001b[38;5;28;01mwhile\u001b[39;00m \u001b[38;5;28;01mTrue\u001b[39;00m:\n\u001b[0;32m--> 137\u001b[0m     \u001b[38;5;28;43mself\u001b[39;49m\u001b[38;5;241;43m.\u001b[39;49m\u001b[43mensure_healthy\u001b[49m\u001b[43m(\u001b[49m\u001b[43m)\u001b[49m\n\u001b[1;32m    138\u001b[0m     \u001b[38;5;28;01mtry\u001b[39;00m:\n\u001b[1;32m    139\u001b[0m         \u001b[38;5;28;01mif\u001b[39;00m time\u001b[38;5;241m.\u001b[39mtime() \u001b[38;5;241m-\u001b[39m start_time \u001b[38;5;241m>\u001b[39m \u001b[38;5;28mself\u001b[39m\u001b[38;5;241m.\u001b[39m_PROCESS_INFO_OBTAINED_TIMEOUT:\n",
      "File \u001b[0;32m/workspaces/gorilla/raft/.venv/lib/python3.10/site-packages/promptflow/executor/_process_manager.py:353\u001b[0m, in \u001b[0;36mForkProcessManager.ensure_healthy\u001b[0;34m(self)\u001b[0m\n\u001b[1;32m    351\u001b[0m bulk_logger\u001b[38;5;241m.\u001b[39merror(\u001b[38;5;124m\"\u001b[39m\u001b[38;5;124mThe spawned fork process manager failed to start.\u001b[39m\u001b[38;5;124m\"\u001b[39m)\n\u001b[1;32m    352\u001b[0m ex \u001b[38;5;241m=\u001b[39m SpawnedForkProcessManagerStartFailure()\n\u001b[0;32m--> 353\u001b[0m \u001b[38;5;28;01mraise\u001b[39;00m ex\n",
      "\u001b[0;31mSpawnedForkProcessManagerStartFailure\u001b[0m: Failed to start spawned fork process manager"
     ]
    },
    {
     "name": "stderr",
     "output_type": "stream",
     "text": [
      "ERROR:opentelemetry.sdk.trace.export:Exception while exporting Span batch.\n",
      "Traceback (most recent call last):\n",
      "  File \"/workspaces/gorilla/raft/.venv/lib/python3.10/site-packages/urllib3/connection.py\", line 198, in _new_conn\n",
      "    sock = connection.create_connection(\n",
      "  File \"/workspaces/gorilla/raft/.venv/lib/python3.10/site-packages/urllib3/util/connection.py\", line 85, in create_connection\n",
      "    raise err\n",
      "  File \"/workspaces/gorilla/raft/.venv/lib/python3.10/site-packages/urllib3/util/connection.py\", line 73, in create_connection\n",
      "    sock.connect(sa)\n",
      "ConnectionRefusedError: [Errno 111] Connection refused\n",
      "\n",
      "The above exception was the direct cause of the following exception:\n",
      "\n",
      "Traceback (most recent call last):\n",
      "  File \"/workspaces/gorilla/raft/.venv/lib/python3.10/site-packages/urllib3/connectionpool.py\", line 793, in urlopen\n",
      "    response = self._make_request(\n",
      "  File \"/workspaces/gorilla/raft/.venv/lib/python3.10/site-packages/urllib3/connectionpool.py\", line 496, in _make_request\n",
      "    conn.request(\n",
      "  File \"/workspaces/gorilla/raft/.venv/lib/python3.10/site-packages/urllib3/connection.py\", line 400, in request\n",
      "    self.endheaders()\n",
      "  File \"/usr/local/lib/python3.10/http/client.py\", line 1278, in endheaders\n",
      "    self._send_output(message_body, encode_chunked=encode_chunked)\n",
      "  File \"/usr/local/lib/python3.10/http/client.py\", line 1038, in _send_output\n",
      "    self.send(msg)\n",
      "  File \"/usr/local/lib/python3.10/http/client.py\", line 976, in send\n",
      "    self.connect()\n",
      "  File \"/workspaces/gorilla/raft/.venv/lib/python3.10/site-packages/urllib3/connection.py\", line 238, in connect\n",
      "    self.sock = self._new_conn()\n",
      "  File \"/workspaces/gorilla/raft/.venv/lib/python3.10/site-packages/urllib3/connection.py\", line 213, in _new_conn\n",
      "    raise NewConnectionError(\n",
      "urllib3.exceptions.NewConnectionError: <urllib3.connection.HTTPConnection object at 0xfffee6f126e0>: Failed to establish a new connection: [Errno 111] Connection refused\n",
      "\n",
      "The above exception was the direct cause of the following exception:\n",
      "\n",
      "Traceback (most recent call last):\n",
      "  File \"/workspaces/gorilla/raft/.venv/lib/python3.10/site-packages/requests/adapters.py\", line 486, in send\n",
      "    resp = conn.urlopen(\n",
      "  File \"/workspaces/gorilla/raft/.venv/lib/python3.10/site-packages/urllib3/connectionpool.py\", line 847, in urlopen\n",
      "    retries = retries.increment(\n",
      "  File \"/workspaces/gorilla/raft/.venv/lib/python3.10/site-packages/urllib3/util/retry.py\", line 515, in increment\n",
      "    raise MaxRetryError(_pool, url, reason) from reason  # type: ignore[arg-type]\n",
      "urllib3.exceptions.MaxRetryError: HTTPConnectionPool(host='localhost', port=23333): Max retries exceeded with url: /v1/traces (Caused by NewConnectionError('<urllib3.connection.HTTPConnection object at 0xfffee6f126e0>: Failed to establish a new connection: [Errno 111] Connection refused'))\n",
      "\n",
      "During handling of the above exception, another exception occurred:\n",
      "\n",
      "Traceback (most recent call last):\n",
      "  File \"/workspaces/gorilla/raft/.venv/lib/python3.10/site-packages/opentelemetry/sdk/trace/export/__init__.py\", line 367, in _export_batch\n",
      "    self.span_exporter.export(self.spans_list[:idx])  # type: ignore\n",
      "  File \"/workspaces/gorilla/raft/.venv/lib/python3.10/site-packages/promptflow/_sdk/_tracing.py\", line 550, in export\n",
      "    super().export(spans)\n",
      "  File \"/workspaces/gorilla/raft/.venv/lib/python3.10/site-packages/opentelemetry/exporter/otlp/proto/http/trace_exporter/__init__.py\", line 145, in export\n",
      "    resp = self._export(serialized_data)\n",
      "  File \"/workspaces/gorilla/raft/.venv/lib/python3.10/site-packages/opentelemetry/exporter/otlp/proto/http/trace_exporter/__init__.py\", line 114, in _export\n",
      "    return self._session.post(\n",
      "  File \"/workspaces/gorilla/raft/.venv/lib/python3.10/site-packages/requests/sessions.py\", line 637, in post\n",
      "    return self.request(\"POST\", url, data=data, json=json, **kwargs)\n",
      "  File \"/workspaces/gorilla/raft/.venv/lib/python3.10/site-packages/requests/sessions.py\", line 589, in request\n",
      "    resp = self.send(prep, **send_kwargs)\n",
      "  File \"/workspaces/gorilla/raft/.venv/lib/python3.10/site-packages/requests/sessions.py\", line 703, in send\n",
      "    r = adapter.send(request, **kwargs)\n",
      "  File \"/workspaces/gorilla/raft/.venv/lib/python3.10/site-packages/requests/adapters.py\", line 519, in send\n",
      "    raise ConnectionError(e, request=request)\n",
      "requests.exceptions.ConnectionError: HTTPConnectionPool(host='localhost', port=23333): Max retries exceeded with url: /v1/traces (Caused by NewConnectionError('<urllib3.connection.HTTPConnection object at 0xfffee6f126e0>: Failed to establish a new connection: [Errno 111] Connection refused'))\n",
      "ERROR:opentelemetry.sdk.trace.export:Exception while exporting Span batch.\n",
      "Traceback (most recent call last):\n",
      "  File \"/workspaces/gorilla/raft/.venv/lib/python3.10/site-packages/urllib3/connection.py\", line 198, in _new_conn\n",
      "    sock = connection.create_connection(\n",
      "  File \"/workspaces/gorilla/raft/.venv/lib/python3.10/site-packages/urllib3/util/connection.py\", line 85, in create_connection\n",
      "    raise err\n",
      "  File \"/workspaces/gorilla/raft/.venv/lib/python3.10/site-packages/urllib3/util/connection.py\", line 73, in create_connection\n",
      "    sock.connect(sa)\n",
      "ConnectionRefusedError: [Errno 111] Connection refused\n",
      "\n",
      "The above exception was the direct cause of the following exception:\n",
      "\n",
      "Traceback (most recent call last):\n",
      "  File \"/workspaces/gorilla/raft/.venv/lib/python3.10/site-packages/urllib3/connectionpool.py\", line 793, in urlopen\n",
      "    response = self._make_request(\n",
      "  File \"/workspaces/gorilla/raft/.venv/lib/python3.10/site-packages/urllib3/connectionpool.py\", line 496, in _make_request\n",
      "    conn.request(\n",
      "  File \"/workspaces/gorilla/raft/.venv/lib/python3.10/site-packages/urllib3/connection.py\", line 400, in request\n",
      "    self.endheaders()\n",
      "  File \"/usr/local/lib/python3.10/http/client.py\", line 1278, in endheaders\n",
      "    self._send_output(message_body, encode_chunked=encode_chunked)\n",
      "  File \"/usr/local/lib/python3.10/http/client.py\", line 1038, in _send_output\n",
      "    self.send(msg)\n",
      "  File \"/usr/local/lib/python3.10/http/client.py\", line 976, in send\n",
      "    self.connect()\n",
      "  File \"/workspaces/gorilla/raft/.venv/lib/python3.10/site-packages/urllib3/connection.py\", line 238, in connect\n",
      "    self.sock = self._new_conn()\n",
      "  File \"/workspaces/gorilla/raft/.venv/lib/python3.10/site-packages/urllib3/connection.py\", line 213, in _new_conn\n",
      "    raise NewConnectionError(\n",
      "urllib3.exceptions.NewConnectionError: <urllib3.connection.HTTPConnection object at 0xfffee6f12b90>: Failed to establish a new connection: [Errno 111] Connection refused\n",
      "\n",
      "The above exception was the direct cause of the following exception:\n",
      "\n",
      "Traceback (most recent call last):\n",
      "  File \"/workspaces/gorilla/raft/.venv/lib/python3.10/site-packages/requests/adapters.py\", line 486, in send\n",
      "    resp = conn.urlopen(\n",
      "  File \"/workspaces/gorilla/raft/.venv/lib/python3.10/site-packages/urllib3/connectionpool.py\", line 847, in urlopen\n",
      "    retries = retries.increment(\n",
      "  File \"/workspaces/gorilla/raft/.venv/lib/python3.10/site-packages/urllib3/util/retry.py\", line 515, in increment\n",
      "    raise MaxRetryError(_pool, url, reason) from reason  # type: ignore[arg-type]\n",
      "urllib3.exceptions.MaxRetryError: HTTPConnectionPool(host='localhost', port=23333): Max retries exceeded with url: /v1/traces (Caused by NewConnectionError('<urllib3.connection.HTTPConnection object at 0xfffee6f12b90>: Failed to establish a new connection: [Errno 111] Connection refused'))\n",
      "\n",
      "During handling of the above exception, another exception occurred:\n",
      "\n",
      "Traceback (most recent call last):\n",
      "  File \"/workspaces/gorilla/raft/.venv/lib/python3.10/site-packages/opentelemetry/sdk/trace/export/__init__.py\", line 367, in _export_batch\n",
      "    self.span_exporter.export(self.spans_list[:idx])  # type: ignore\n",
      "  File \"/workspaces/gorilla/raft/.venv/lib/python3.10/site-packages/promptflow/_sdk/_tracing.py\", line 550, in export\n",
      "    super().export(spans)\n",
      "  File \"/workspaces/gorilla/raft/.venv/lib/python3.10/site-packages/opentelemetry/exporter/otlp/proto/http/trace_exporter/__init__.py\", line 145, in export\n",
      "    resp = self._export(serialized_data)\n",
      "  File \"/workspaces/gorilla/raft/.venv/lib/python3.10/site-packages/opentelemetry/exporter/otlp/proto/http/trace_exporter/__init__.py\", line 114, in _export\n",
      "    return self._session.post(\n",
      "  File \"/workspaces/gorilla/raft/.venv/lib/python3.10/site-packages/requests/sessions.py\", line 637, in post\n",
      "    return self.request(\"POST\", url, data=data, json=json, **kwargs)\n",
      "  File \"/workspaces/gorilla/raft/.venv/lib/python3.10/site-packages/requests/sessions.py\", line 589, in request\n",
      "    resp = self.send(prep, **send_kwargs)\n",
      "  File \"/workspaces/gorilla/raft/.venv/lib/python3.10/site-packages/requests/sessions.py\", line 703, in send\n",
      "    r = adapter.send(request, **kwargs)\n",
      "  File \"/workspaces/gorilla/raft/.venv/lib/python3.10/site-packages/requests/adapters.py\", line 519, in send\n",
      "    raise ConnectionError(e, request=request)\n",
      "requests.exceptions.ConnectionError: HTTPConnectionPool(host='localhost', port=23333): Max retries exceeded with url: /v1/traces (Caused by NewConnectionError('<urllib3.connection.HTTPConnection object at 0xfffee6f12b90>: Failed to establish a new connection: [Errno 111] Connection refused'))\n"
     ]
    }
   ],
   "source": [
    "from promptflow.evals.evaluate import evaluate\n",
    "\n",
    "result = evaluate(\n",
    "    data=dataset_path_ft_eval,\n",
    "    evaluators={\n",
    "        \"relevance\": relevance_eval\n",
    "    },\n",
    "    # column mapping\n",
    "    evaluator_config={\n",
    "        \"default\": {\n",
    "            \"answer\": \"${data.gold_answer}\"\n",
    "        }\n",
    "    }\n",
    ")\n",
    "\n",
    "from IPython.display import display, JSON\n",
    "display(JSON(result))"
   ]
  },
  {
   "cell_type": "markdown",
   "id": "f9a0fb00",
   "metadata": {},
   "source": [
    "\n",
    "Finally, let's check the results produced by the evaluate API."
   ]
  },
  {
   "cell_type": "code",
   "execution_count": null,
   "id": "5cb28f9a-1f9c-4c2e-8b32-e7da51585f92",
   "metadata": {},
   "outputs": [],
   "source": [
    "# Check the results using Azure AI Studio UI\n",
    "print(result[\"studio_url\"])"
   ]
  }
 ],
 "metadata": {
  "kernelspec": {
   "display_name": "Python 3 (ipykernel)",
   "language": "python",
   "name": "python3"
  },
  "language_info": {
   "codemirror_mode": {
    "name": "ipython",
    "version": 3
   },
   "file_extension": ".py",
   "mimetype": "text/x-python",
   "name": "python",
   "nbconvert_exporter": "python",
   "pygments_lexer": "ipython3",
   "version": "3.10.14"
  }
 },
 "nbformat": 4,
 "nbformat_minor": 5
}
