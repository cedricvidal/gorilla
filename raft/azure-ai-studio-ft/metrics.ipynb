{
 "cells": [
  {
   "cell_type": "code",
   "execution_count": 3,
   "id": "87287dc7",
   "metadata": {},
   "outputs": [],
   "source": [
    "import pandas as pd"
   ]
  },
  {
   "cell_type": "code",
   "execution_count": 4,
   "id": "faa357b3",
   "metadata": {},
   "outputs": [
    {
     "data": {
      "text/html": [
       "<div>\n",
       "<style scoped>\n",
       "    .dataframe tbody tr th:only-of-type {\n",
       "        vertical-align: middle;\n",
       "    }\n",
       "\n",
       "    .dataframe tbody tr th {\n",
       "        vertical-align: top;\n",
       "    }\n",
       "\n",
       "    .dataframe thead th {\n",
       "        text-align: right;\n",
       "    }\n",
       "</style>\n",
       "<table border=\"1\" class=\"dataframe\">\n",
       "  <thead>\n",
       "    <tr style=\"text-align: right;\">\n",
       "      <th></th>\n",
       "      <th>question</th>\n",
       "      <th>answer</th>\n",
       "      <th>gold_final_answer</th>\n",
       "      <th>final_answer</th>\n",
       "      <th>context</th>\n",
       "      <th>gpt_groundedness</th>\n",
       "      <th>gpt_similarity</th>\n",
       "      <th>error</th>\n",
       "    </tr>\n",
       "  </thead>\n",
       "  <tbody>\n",
       "    <tr>\n",
       "      <th>0</th>\n",
       "      <td>What is the name of the character that appears...</td>\n",
       "      <td>To answer the question, we need to identify th...</td>\n",
       "      <td>Sherlock Holmes</td>\n",
       "      <td>Dracula</td>\n",
       "      <td>&lt;DOCUMENT&gt;Further exterior shots followed in L...</td>\n",
       "      <td>3.0</td>\n",
       "      <td>NaN</td>\n",
       "      <td>NaN</td>\n",
       "    </tr>\n",
       "    <tr>\n",
       "      <th>1</th>\n",
       "      <td>Who is the character that appears in more film...</td>\n",
       "      <td>To answer the question, we need to identify th...</td>\n",
       "      <td>Sherlock Holmes</td>\n",
       "      <td>Sherlock Holmes</td>\n",
       "      <td>&lt;DOCUMENT&gt;At rest, theymay wrap their wings ar...</td>\n",
       "      <td>3.0</td>\n",
       "      <td>5.0</td>\n",
       "      <td>NaN</td>\n",
       "    </tr>\n",
       "    <tr>\n",
       "      <th>2</th>\n",
       "      <td>What kind of vision do most microbats have?</td>\n",
       "      <td>To answer the question, we need to identify th...</td>\n",
       "      <td>Mesopic vision</td>\n",
       "      <td>Mesopic vision</td>\n",
       "      <td>&lt;DOCUMENT&gt;These bats must dealwith changes in ...</td>\n",
       "      <td>5.0</td>\n",
       "      <td>5.0</td>\n",
       "      <td>NaN</td>\n",
       "    </tr>\n",
       "    <tr>\n",
       "      <th>3</th>\n",
       "      <td>What is the name of the industries that the va...</td>\n",
       "      <td>To answer the question, we need to identify th...</td>\n",
       "      <td>film, television, and gaming industries.</td>\n",
       "      <td>film, television, and gaming</td>\n",
       "      <td>&lt;DOCUMENT&gt;Drac and Johnny begin to bond and ha...</td>\n",
       "      <td>3.0</td>\n",
       "      <td>NaN</td>\n",
       "      <td>NaN</td>\n",
       "    </tr>\n",
       "    <tr>\n",
       "      <th>4</th>\n",
       "      <td>What is the title of the novel that many early...</td>\n",
       "      <td>To answer the question, we need to identify th...</td>\n",
       "      <td>Dracula</td>\n",
       "      <td>Dracula</td>\n",
       "      <td>&lt;DOCUMENT&gt;World Champion from 1976 to1979, Ove...</td>\n",
       "      <td>1.0</td>\n",
       "      <td>5.0</td>\n",
       "      <td>NaN</td>\n",
       "    </tr>\n",
       "  </tbody>\n",
       "</table>\n",
       "</div>"
      ],
      "text/plain": [
       "                                            question  \\\n",
       "0  What is the name of the character that appears...   \n",
       "1  Who is the character that appears in more film...   \n",
       "2        What kind of vision do most microbats have?   \n",
       "3  What is the name of the industries that the va...   \n",
       "4  What is the title of the novel that many early...   \n",
       "\n",
       "                                              answer  \\\n",
       "0  To answer the question, we need to identify th...   \n",
       "1  To answer the question, we need to identify th...   \n",
       "2  To answer the question, we need to identify th...   \n",
       "3  To answer the question, we need to identify th...   \n",
       "4  To answer the question, we need to identify th...   \n",
       "\n",
       "                          gold_final_answer                  final_answer  \\\n",
       "0                           Sherlock Holmes                       Dracula   \n",
       "1                           Sherlock Holmes               Sherlock Holmes   \n",
       "2                            Mesopic vision                Mesopic vision   \n",
       "3  film, television, and gaming industries.  film, television, and gaming   \n",
       "4                                   Dracula                       Dracula   \n",
       "\n",
       "                                             context  gpt_groundedness  \\\n",
       "0  <DOCUMENT>Further exterior shots followed in L...               3.0   \n",
       "1  <DOCUMENT>At rest, theymay wrap their wings ar...               3.0   \n",
       "2  <DOCUMENT>These bats must dealwith changes in ...               5.0   \n",
       "3  <DOCUMENT>Drac and Johnny begin to bond and ha...               3.0   \n",
       "4  <DOCUMENT>World Champion from 1976 to1979, Ove...               1.0   \n",
       "\n",
       "   gpt_similarity error  \n",
       "0             NaN   NaN  \n",
       "1             5.0   NaN  \n",
       "2             5.0   NaN  \n",
       "3             NaN   NaN  \n",
       "4             5.0   NaN  "
      ]
     },
     "execution_count": 4,
     "metadata": {},
     "output_type": "execute_result"
    }
   ],
   "source": [
    "dataset_path_ft_eval_score = \"dataset/vampire-bats-6-files/vampire-bats-6-ft.eval.answer.1864.score.jsonl\"\n",
    "ft_df = pd.read_json(dataset_path_ft_eval_score, lines=True)\n",
    "ft_df.head()"
   ]
  },
  {
   "cell_type": "code",
   "execution_count": 6,
   "id": "65d6d80a",
   "metadata": {},
   "outputs": [
    {
     "data": {
      "text/plain": [
       "1864"
      ]
     },
     "execution_count": 6,
     "metadata": {},
     "output_type": "execute_result"
    }
   ],
   "source": [
    "len(ft_df)"
   ]
  },
  {
   "cell_type": "code",
   "execution_count": 13,
   "id": "f2e9192d",
   "metadata": {},
   "outputs": [
    {
     "data": {
      "text/plain": [
       "gpt_similarity      4.768159\n",
       "gpt_groundedness    3.169822\n",
       "dtype: float64"
      ]
     },
     "execution_count": 13,
     "metadata": {},
     "output_type": "execute_result"
    }
   ],
   "source": [
    "ft_df[['gpt_similarity', 'gpt_groundedness']].mean()"
   ]
  },
  {
   "cell_type": "code",
   "execution_count": 7,
   "id": "9f1a1691",
   "metadata": {},
   "outputs": [
    {
     "data": {
      "text/html": [
       "<div>\n",
       "<style scoped>\n",
       "    .dataframe tbody tr th:only-of-type {\n",
       "        vertical-align: middle;\n",
       "    }\n",
       "\n",
       "    .dataframe tbody tr th {\n",
       "        vertical-align: top;\n",
       "    }\n",
       "\n",
       "    .dataframe thead th {\n",
       "        text-align: right;\n",
       "    }\n",
       "</style>\n",
       "<table border=\"1\" class=\"dataframe\">\n",
       "  <thead>\n",
       "    <tr style=\"text-align: right;\">\n",
       "      <th></th>\n",
       "      <th>inputs.question</th>\n",
       "      <th>inputs.answer</th>\n",
       "      <th>inputs.context</th>\n",
       "      <th>inputs.ground_truth</th>\n",
       "      <th>gpt_similarity</th>\n",
       "      <th>gpt_groundedness</th>\n",
       "      <th>index</th>\n",
       "      <th>status</th>\n",
       "    </tr>\n",
       "  </thead>\n",
       "  <tbody>\n",
       "    <tr>\n",
       "      <th>0</th>\n",
       "      <td>What kind of vision do most microbats have?</td>\n",
       "      <td>Most microbats have mesopic vision. $ answer =...</td>\n",
       "      <td>&lt;DOCUMENT&gt;These bats must dealwith changes in ...</td>\n",
       "      <td>Mesopic vision</td>\n",
       "      <td>5.0</td>\n",
       "      <td>5.0</td>\n",
       "      <td>0</td>\n",
       "      <td>Completed</td>\n",
       "    </tr>\n",
       "    <tr>\n",
       "      <th>1</th>\n",
       "      <td>What year was Anne Rice's Vampire Chronicles p...</td>\n",
       "      <td>1976.</td>\n",
       "      <td>&lt;DOCUMENT&gt;Huntingtonbrought surfing to the Cal...</td>\n",
       "      <td>1976</td>\n",
       "      <td>5.0</td>\n",
       "      <td>1.0</td>\n",
       "      <td>1</td>\n",
       "      <td>Completed</td>\n",
       "    </tr>\n",
       "    <tr>\n",
       "      <th>2</th>\n",
       "      <td>In how many films has Dracula appeared?</td>\n",
       "      <td>Unknown.</td>\n",
       "      <td>&lt;DOCUMENT&gt;This formula was followed in novelis...</td>\n",
       "      <td>The exact number of films is not specified in ...</td>\n",
       "      <td>5.0</td>\n",
       "      <td>1.0</td>\n",
       "      <td>2</td>\n",
       "      <td>Completed</td>\n",
       "    </tr>\n",
       "  </tbody>\n",
       "</table>\n",
       "</div>"
      ],
      "text/plain": [
       "                                     inputs.question  \\\n",
       "0        What kind of vision do most microbats have?   \n",
       "1  What year was Anne Rice's Vampire Chronicles p...   \n",
       "2            In how many films has Dracula appeared?   \n",
       "\n",
       "                                       inputs.answer  \\\n",
       "0  Most microbats have mesopic vision. $ answer =...   \n",
       "1                                              1976.   \n",
       "2                                           Unknown.   \n",
       "\n",
       "                                      inputs.context  \\\n",
       "0  <DOCUMENT>These bats must dealwith changes in ...   \n",
       "1  <DOCUMENT>Huntingtonbrought surfing to the Cal...   \n",
       "2  <DOCUMENT>This formula was followed in novelis...   \n",
       "\n",
       "                                 inputs.ground_truth  gpt_similarity  \\\n",
       "0                                     Mesopic vision             5.0   \n",
       "1                                               1976             5.0   \n",
       "2  The exact number of films is not specified in ...             5.0   \n",
       "\n",
       "   gpt_groundedness  index     status  \n",
       "0               5.0      0  Completed  \n",
       "1               1.0      1  Completed  \n",
       "2               1.0      2  Completed  "
      ]
     },
     "execution_count": 7,
     "metadata": {},
     "output_type": "execute_result"
    }
   ],
   "source": [
    "dataset_path_base_eval_score = \"dataset/large_data_evaluate_base_model_Output_Table_05-23-2024-09-54.csv\"\n",
    "base_df = pd.read_csv(dataset_path_base_eval_score)\n",
    "base_df.head(3)"
   ]
  },
  {
   "cell_type": "code",
   "execution_count": 12,
   "id": "5ab1147b",
   "metadata": {},
   "outputs": [
    {
     "data": {
      "text/plain": [
       "gpt_similarity      2.730619\n",
       "gpt_groundedness    2.740844\n",
       "dtype: float64"
      ]
     },
     "execution_count": 12,
     "metadata": {},
     "output_type": "execute_result"
    }
   ],
   "source": [
    "base_df[['gpt_similarity', 'gpt_groundedness']].mean()"
   ]
  },
  {
   "cell_type": "code",
   "execution_count": null,
   "id": "f660922e",
   "metadata": {},
   "outputs": [],
   "source": []
  }
 ],
 "metadata": {
  "kernelspec": {
   "display_name": "Python 3 (ipykernel)",
   "language": "python",
   "name": "python3"
  },
  "language_info": {
   "codemirror_mode": {
    "name": "ipython",
    "version": 3
   },
   "file_extension": ".py",
   "mimetype": "text/x-python",
   "name": "python",
   "nbconvert_exporter": "python",
   "pygments_lexer": "ipython3",
   "version": "3.10.14"
  }
 },
 "nbformat": 4,
 "nbformat_minor": 5
}
