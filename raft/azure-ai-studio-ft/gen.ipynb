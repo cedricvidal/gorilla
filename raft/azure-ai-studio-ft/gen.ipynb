{
 "cells": [
  {
   "cell_type": "markdown",
   "metadata": {},
   "source": [
    "# RAFT"
   ]
  },
  {
   "cell_type": "code",
   "execution_count": 1,
   "metadata": {},
   "outputs": [
    {
     "name": "stdout",
     "output_type": "stream",
     "text": [
      "Requirement already satisfied: datasets==2.16.1 in /workspaces/gorilla/raft/.venv/lib/python3.10/site-packages (from -r ../requirements.txt (line 1)) (2.16.1)\n",
      "Requirement already satisfied: openai==1.30.1 in /workspaces/gorilla/raft/.venv/lib/python3.10/site-packages (from -r ../requirements.txt (line 2)) (1.30.1)\n",
      "Requirement already satisfied: PyPDF2==3.0.1 in /workspaces/gorilla/raft/.venv/lib/python3.10/site-packages (from -r ../requirements.txt (line 3)) (3.0.1)\n",
      "Requirement already satisfied: transformers==4.37.2 in /workspaces/gorilla/raft/.venv/lib/python3.10/site-packages (from -r ../requirements.txt (line 4)) (4.37.2)\n",
      "Requirement already satisfied: langchain_experimental in /workspaces/gorilla/raft/.venv/lib/python3.10/site-packages (from -r ../requirements.txt (line 5)) (0.0.58)\n",
      "Requirement already satisfied: langchain_openai in /workspaces/gorilla/raft/.venv/lib/python3.10/site-packages (from -r ../requirements.txt (line 6)) (0.1.5)\n",
      "Requirement already satisfied: python-dotenv==1.0.1 in /workspaces/gorilla/raft/.venv/lib/python3.10/site-packages (from -r ../requirements.txt (line 7)) (1.0.1)\n",
      "Requirement already satisfied: pyyaml==6.0.1 in /workspaces/gorilla/raft/.venv/lib/python3.10/site-packages (from -r ../requirements.txt (line 8)) (6.0.1)\n",
      "Requirement already satisfied: coloredlogs==15.0.1 in /workspaces/gorilla/raft/.venv/lib/python3.10/site-packages (from -r ../requirements.txt (line 9)) (15.0.1)\n",
      "Requirement already satisfied: mdc==1.2.1 in /workspaces/gorilla/raft/.venv/lib/python3.10/site-packages (from -r ../requirements.txt (line 10)) (1.2.1)\n",
      "Requirement already satisfied: pytest==8.1.2 in /workspaces/gorilla/raft/.venv/lib/python3.10/site-packages (from -r ../requirements.txt (line 11)) (8.1.2)\n",
      "Requirement already satisfied: huggingface-hub>=0.19.4 in /workspaces/gorilla/raft/.venv/lib/python3.10/site-packages (from datasets==2.16.1->-r ../requirements.txt (line 1)) (0.23.0)\n",
      "Requirement already satisfied: filelock in /workspaces/gorilla/raft/.venv/lib/python3.10/site-packages (from datasets==2.16.1->-r ../requirements.txt (line 1)) (3.14.0)\n",
      "Requirement already satisfied: aiohttp in /workspaces/gorilla/raft/.venv/lib/python3.10/site-packages (from datasets==2.16.1->-r ../requirements.txt (line 1)) (3.9.5)\n",
      "Requirement already satisfied: xxhash in /workspaces/gorilla/raft/.venv/lib/python3.10/site-packages (from datasets==2.16.1->-r ../requirements.txt (line 1)) (3.4.1)\n",
      "Requirement already satisfied: fsspec[http]<=2023.10.0,>=2023.1.0 in /workspaces/gorilla/raft/.venv/lib/python3.10/site-packages (from datasets==2.16.1->-r ../requirements.txt (line 1)) (2023.10.0)\n",
      "Requirement already satisfied: numpy>=1.17 in /workspaces/gorilla/raft/.venv/lib/python3.10/site-packages (from datasets==2.16.1->-r ../requirements.txt (line 1)) (1.26.4)\n",
      "Requirement already satisfied: pyarrow>=8.0.0 in /workspaces/gorilla/raft/.venv/lib/python3.10/site-packages (from datasets==2.16.1->-r ../requirements.txt (line 1)) (15.0.2)\n",
      "Requirement already satisfied: requests>=2.19.0 in /workspaces/gorilla/raft/.venv/lib/python3.10/site-packages (from datasets==2.16.1->-r ../requirements.txt (line 1)) (2.31.0)\n",
      "Requirement already satisfied: multiprocess in /workspaces/gorilla/raft/.venv/lib/python3.10/site-packages (from datasets==2.16.1->-r ../requirements.txt (line 1)) (0.70.14)\n",
      "Requirement already satisfied: tqdm>=4.62.1 in /workspaces/gorilla/raft/.venv/lib/python3.10/site-packages (from datasets==2.16.1->-r ../requirements.txt (line 1)) (4.66.4)\n",
      "Requirement already satisfied: pyarrow-hotfix in /workspaces/gorilla/raft/.venv/lib/python3.10/site-packages (from datasets==2.16.1->-r ../requirements.txt (line 1)) (0.6)\n",
      "Requirement already satisfied: packaging in /workspaces/gorilla/raft/.venv/lib/python3.10/site-packages (from datasets==2.16.1->-r ../requirements.txt (line 1)) (23.2)\n",
      "Requirement already satisfied: dill<0.3.8,>=0.3.0 in /workspaces/gorilla/raft/.venv/lib/python3.10/site-packages (from datasets==2.16.1->-r ../requirements.txt (line 1)) (0.3.6)\n",
      "Requirement already satisfied: pandas in /workspaces/gorilla/raft/.venv/lib/python3.10/site-packages (from datasets==2.16.1->-r ../requirements.txt (line 1)) (2.2.2)\n",
      "Requirement already satisfied: pydantic<3,>=1.9.0 in /workspaces/gorilla/raft/.venv/lib/python3.10/site-packages (from openai==1.30.1->-r ../requirements.txt (line 2)) (2.7.1)\n",
      "Requirement already satisfied: distro<2,>=1.7.0 in /workspaces/gorilla/raft/.venv/lib/python3.10/site-packages (from openai==1.30.1->-r ../requirements.txt (line 2)) (1.9.0)\n",
      "Requirement already satisfied: anyio<5,>=3.5.0 in /workspaces/gorilla/raft/.venv/lib/python3.10/site-packages (from openai==1.30.1->-r ../requirements.txt (line 2)) (4.3.0)\n",
      "Requirement already satisfied: typing-extensions<5,>=4.7 in /workspaces/gorilla/raft/.venv/lib/python3.10/site-packages (from openai==1.30.1->-r ../requirements.txt (line 2)) (4.11.0)\n",
      "Requirement already satisfied: sniffio in /workspaces/gorilla/raft/.venv/lib/python3.10/site-packages (from openai==1.30.1->-r ../requirements.txt (line 2)) (1.3.1)\n",
      "Requirement already satisfied: httpx<1,>=0.23.0 in /workspaces/gorilla/raft/.venv/lib/python3.10/site-packages (from openai==1.30.1->-r ../requirements.txt (line 2)) (0.27.0)\n",
      "Requirement already satisfied: safetensors>=0.4.1 in /workspaces/gorilla/raft/.venv/lib/python3.10/site-packages (from transformers==4.37.2->-r ../requirements.txt (line 4)) (0.4.3)\n",
      "Requirement already satisfied: tokenizers<0.19,>=0.14 in /workspaces/gorilla/raft/.venv/lib/python3.10/site-packages (from transformers==4.37.2->-r ../requirements.txt (line 4)) (0.15.2)\n",
      "Requirement already satisfied: regex!=2019.12.17 in /workspaces/gorilla/raft/.venv/lib/python3.10/site-packages (from transformers==4.37.2->-r ../requirements.txt (line 4)) (2024.5.10)\n",
      "Requirement already satisfied: humanfriendly>=9.1 in /workspaces/gorilla/raft/.venv/lib/python3.10/site-packages (from coloredlogs==15.0.1->-r ../requirements.txt (line 9)) (10.0)\n",
      "Requirement already satisfied: future in /workspaces/gorilla/raft/.venv/lib/python3.10/site-packages (from mdc==1.2.1->-r ../requirements.txt (line 10)) (1.0.0)\n",
      "Requirement already satisfied: python-json-logger in /workspaces/gorilla/raft/.venv/lib/python3.10/site-packages (from mdc==1.2.1->-r ../requirements.txt (line 10)) (2.0.7)\n",
      "Requirement already satisfied: iniconfig in /workspaces/gorilla/raft/.venv/lib/python3.10/site-packages (from pytest==8.1.2->-r ../requirements.txt (line 11)) (2.0.0)\n",
      "Requirement already satisfied: exceptiongroup>=1.0.0rc8 in /workspaces/gorilla/raft/.venv/lib/python3.10/site-packages (from pytest==8.1.2->-r ../requirements.txt (line 11)) (1.2.1)\n",
      "Requirement already satisfied: tomli>=1 in /workspaces/gorilla/raft/.venv/lib/python3.10/site-packages (from pytest==8.1.2->-r ../requirements.txt (line 11)) (2.0.1)\n",
      "Requirement already satisfied: pluggy<2.0,>=1.4 in /workspaces/gorilla/raft/.venv/lib/python3.10/site-packages (from pytest==8.1.2->-r ../requirements.txt (line 11)) (1.5.0)\n",
      "Requirement already satisfied: langchain-core<0.2.0,>=0.1.52 in /workspaces/gorilla/raft/.venv/lib/python3.10/site-packages (from langchain_experimental->-r ../requirements.txt (line 5)) (0.1.52)\n",
      "Requirement already satisfied: langchain<0.2.0,>=0.1.17 in /workspaces/gorilla/raft/.venv/lib/python3.10/site-packages (from langchain_experimental->-r ../requirements.txt (line 5)) (0.1.20)\n",
      "Requirement already satisfied: tiktoken<1,>=0.5.2 in /workspaces/gorilla/raft/.venv/lib/python3.10/site-packages (from langchain_openai->-r ../requirements.txt (line 6)) (0.6.0)\n",
      "Requirement already satisfied: idna>=2.8 in /workspaces/gorilla/raft/.venv/lib/python3.10/site-packages (from anyio<5,>=3.5.0->openai==1.30.1->-r ../requirements.txt (line 2)) (3.7)\n",
      "Requirement already satisfied: attrs>=17.3.0 in /workspaces/gorilla/raft/.venv/lib/python3.10/site-packages (from aiohttp->datasets==2.16.1->-r ../requirements.txt (line 1)) (23.2.0)\n",
      "Requirement already satisfied: multidict<7.0,>=4.5 in /workspaces/gorilla/raft/.venv/lib/python3.10/site-packages (from aiohttp->datasets==2.16.1->-r ../requirements.txt (line 1)) (6.0.5)\n",
      "Requirement already satisfied: yarl<2.0,>=1.0 in /workspaces/gorilla/raft/.venv/lib/python3.10/site-packages (from aiohttp->datasets==2.16.1->-r ../requirements.txt (line 1)) (1.9.4)\n",
      "Requirement already satisfied: aiosignal>=1.1.2 in /workspaces/gorilla/raft/.venv/lib/python3.10/site-packages (from aiohttp->datasets==2.16.1->-r ../requirements.txt (line 1)) (1.3.1)\n",
      "Requirement already satisfied: frozenlist>=1.1.1 in /workspaces/gorilla/raft/.venv/lib/python3.10/site-packages (from aiohttp->datasets==2.16.1->-r ../requirements.txt (line 1)) (1.4.1)\n",
      "Requirement already satisfied: async-timeout<5.0,>=4.0 in /workspaces/gorilla/raft/.venv/lib/python3.10/site-packages (from aiohttp->datasets==2.16.1->-r ../requirements.txt (line 1)) (4.0.3)\n",
      "Requirement already satisfied: httpcore==1.* in /workspaces/gorilla/raft/.venv/lib/python3.10/site-packages (from httpx<1,>=0.23.0->openai==1.30.1->-r ../requirements.txt (line 2)) (1.0.5)\n",
      "Requirement already satisfied: certifi in /workspaces/gorilla/raft/.venv/lib/python3.10/site-packages (from httpx<1,>=0.23.0->openai==1.30.1->-r ../requirements.txt (line 2)) (2024.2.2)\n",
      "Requirement already satisfied: h11<0.15,>=0.13 in /workspaces/gorilla/raft/.venv/lib/python3.10/site-packages (from httpcore==1.*->httpx<1,>=0.23.0->openai==1.30.1->-r ../requirements.txt (line 2)) (0.14.0)\n",
      "Requirement already satisfied: dataclasses-json<0.7,>=0.5.7 in /workspaces/gorilla/raft/.venv/lib/python3.10/site-packages (from langchain<0.2.0,>=0.1.17->langchain_experimental->-r ../requirements.txt (line 5)) (0.6.6)\n",
      "Requirement already satisfied: langchain-text-splitters<0.1,>=0.0.1 in /workspaces/gorilla/raft/.venv/lib/python3.10/site-packages (from langchain<0.2.0,>=0.1.17->langchain_experimental->-r ../requirements.txt (line 5)) (0.0.1)\n",
      "Requirement already satisfied: SQLAlchemy<3,>=1.4 in /workspaces/gorilla/raft/.venv/lib/python3.10/site-packages (from langchain<0.2.0,>=0.1.17->langchain_experimental->-r ../requirements.txt (line 5)) (2.0.30)\n",
      "Requirement already satisfied: tenacity<9.0.0,>=8.1.0 in /workspaces/gorilla/raft/.venv/lib/python3.10/site-packages (from langchain<0.2.0,>=0.1.17->langchain_experimental->-r ../requirements.txt (line 5)) (8.3.0)\n",
      "Requirement already satisfied: langsmith<0.2.0,>=0.1.17 in /workspaces/gorilla/raft/.venv/lib/python3.10/site-packages (from langchain<0.2.0,>=0.1.17->langchain_experimental->-r ../requirements.txt (line 5)) (0.1.56)\n",
      "Requirement already satisfied: langchain-community<0.1,>=0.0.38 in /workspaces/gorilla/raft/.venv/lib/python3.10/site-packages (from langchain<0.2.0,>=0.1.17->langchain_experimental->-r ../requirements.txt (line 5)) (0.0.38)\n",
      "Requirement already satisfied: jsonpatch<2.0,>=1.33 in /workspaces/gorilla/raft/.venv/lib/python3.10/site-packages (from langchain-core<0.2.0,>=0.1.52->langchain_experimental->-r ../requirements.txt (line 5)) (1.33)\n",
      "Requirement already satisfied: pydantic-core==2.18.2 in /workspaces/gorilla/raft/.venv/lib/python3.10/site-packages (from pydantic<3,>=1.9.0->openai==1.30.1->-r ../requirements.txt (line 2)) (2.18.2)\n",
      "Requirement already satisfied: annotated-types>=0.4.0 in /workspaces/gorilla/raft/.venv/lib/python3.10/site-packages (from pydantic<3,>=1.9.0->openai==1.30.1->-r ../requirements.txt (line 2)) (0.6.0)\n",
      "Requirement already satisfied: urllib3<3,>=1.21.1 in /workspaces/gorilla/raft/.venv/lib/python3.10/site-packages (from requests>=2.19.0->datasets==2.16.1->-r ../requirements.txt (line 1)) (2.2.1)\n",
      "Requirement already satisfied: charset-normalizer<4,>=2 in /workspaces/gorilla/raft/.venv/lib/python3.10/site-packages (from requests>=2.19.0->datasets==2.16.1->-r ../requirements.txt (line 1)) (3.3.2)\n",
      "Requirement already satisfied: pytz>=2020.1 in /workspaces/gorilla/raft/.venv/lib/python3.10/site-packages (from pandas->datasets==2.16.1->-r ../requirements.txt (line 1)) (2024.1)\n",
      "Requirement already satisfied: tzdata>=2022.7 in /workspaces/gorilla/raft/.venv/lib/python3.10/site-packages (from pandas->datasets==2.16.1->-r ../requirements.txt (line 1)) (2024.1)\n",
      "Requirement already satisfied: python-dateutil>=2.8.2 in /workspaces/gorilla/raft/.venv/lib/python3.10/site-packages (from pandas->datasets==2.16.1->-r ../requirements.txt (line 1)) (2.9.0.post0)\n",
      "Requirement already satisfied: marshmallow<4.0.0,>=3.18.0 in /workspaces/gorilla/raft/.venv/lib/python3.10/site-packages (from dataclasses-json<0.7,>=0.5.7->langchain<0.2.0,>=0.1.17->langchain_experimental->-r ../requirements.txt (line 5)) (3.21.2)\n",
      "Requirement already satisfied: typing-inspect<1,>=0.4.0 in /workspaces/gorilla/raft/.venv/lib/python3.10/site-packages (from dataclasses-json<0.7,>=0.5.7->langchain<0.2.0,>=0.1.17->langchain_experimental->-r ../requirements.txt (line 5)) (0.9.0)\n",
      "Requirement already satisfied: jsonpointer>=1.9 in /workspaces/gorilla/raft/.venv/lib/python3.10/site-packages (from jsonpatch<2.0,>=1.33->langchain-core<0.2.0,>=0.1.52->langchain_experimental->-r ../requirements.txt (line 5)) (2.4)\n",
      "Requirement already satisfied: orjson<4.0.0,>=3.9.14 in /workspaces/gorilla/raft/.venv/lib/python3.10/site-packages (from langsmith<0.2.0,>=0.1.17->langchain<0.2.0,>=0.1.17->langchain_experimental->-r ../requirements.txt (line 5)) (3.10.3)\n",
      "Requirement already satisfied: six>=1.5 in /workspaces/gorilla/raft/.venv/lib/python3.10/site-packages (from python-dateutil>=2.8.2->pandas->datasets==2.16.1->-r ../requirements.txt (line 1)) (1.16.0)\n",
      "Requirement already satisfied: greenlet!=0.4.17 in /workspaces/gorilla/raft/.venv/lib/python3.10/site-packages (from SQLAlchemy<3,>=1.4->langchain<0.2.0,>=0.1.17->langchain_experimental->-r ../requirements.txt (line 5)) (3.0.3)\n",
      "Requirement already satisfied: mypy-extensions>=0.3.0 in /workspaces/gorilla/raft/.venv/lib/python3.10/site-packages (from typing-inspect<1,>=0.4.0->dataclasses-json<0.7,>=0.5.7->langchain<0.2.0,>=0.1.17->langchain_experimental->-r ../requirements.txt (line 5)) (1.0.0)\n",
      "\u001b[33mWARNING: There was an error checking the latest version of pip.\u001b[0m\u001b[33m\n",
      "\u001b[0m"
     ]
    }
   ],
   "source": [
    "! pip install -r ../requirements.txt"
   ]
  },
  {
   "cell_type": "markdown",
   "metadata": {},
   "source": [
    "## Synthetic data generation phase\n",
    "\n",
    "### Select the documents"
   ]
  },
  {
   "cell_type": "code",
   "execution_count": 2,
   "metadata": {},
   "outputs": [
    {
     "name": "stdout",
     "output_type": "stream",
     "text": [
      "Creating dataset: ucb-DEMO\n"
     ]
    }
   ],
   "source": [
    "import pandas as pd\n",
    "ds_name = \"ucb-DEMO\"\n",
    "doc_path = \"../sample_data/UC_Berkeley_short.pdf\"\n",
    "ds_path = f\"dataset/{ds_name}\"\n",
    "print(\"Creating dataset: \" + ds_name)"
   ]
  },
  {
   "cell_type": "markdown",
   "metadata": {},
   "source": [
    "### Clean up the DEMO folder"
   ]
  },
  {
   "cell_type": "code",
   "execution_count": 3,
   "metadata": {},
   "outputs": [
    {
     "name": "stdout",
     "output_type": "stream",
     "text": [
      "Cleaning demo folder dataset/ucb-DEMO\n",
      "Cleaning demo checkpoints folder dataset/ucb-DEMO\n"
     ]
    }
   ],
   "source": [
    "# Clean up demo folder only if it's a DEMO dataset\n",
    "if ds_path.endswith(\"DEMO\"):\n",
    "    import shutil\n",
    "    print(f\"Cleaning demo folder {ds_path}\")\n",
    "    shutil.rmtree(ds_path, ignore_errors=True)\n",
    "    print(f\"Cleaning demo checkpoints folder {ds_path}\")\n",
    "    shutil.rmtree(ds_path + \"-checkpoints\", ignore_errors=True)"
   ]
  },
  {
   "cell_type": "markdown",
   "metadata": {},
   "source": [
    "### Generate Q/A/CoT fine-tuning dataset using RAFT from the domain specific documents"
   ]
  },
  {
   "cell_type": "code",
   "execution_count": 4,
   "metadata": {},
   "outputs": [
    {
     "name": "stdout",
     "output_type": "stream",
     "text": [
      "None of PyTorch, TensorFlow >= 2.0, or Flax have been found. Models won't be available and only tokenizers, configuration and file/data utilities can be used.\n",
      "\u001b[32m2024-05-29 01:09:41\u001b[0m \u001b[1;30m INFO\u001b[0m [  0%] \u001b[34mraft\u001b[0m Using checkpoint chunks /workspaces/gorilla/raft/azure-ai-studio-ft/dataset/ucb-DEMO-checkpoints/chunks\n",
      "\u001b[32m2024-05-29 01:09:41\u001b[0m \u001b[1;30m INFO\u001b[0m [  0%] \u001b[34mraft\u001b[0m Retrieving chunks from ../sample_data/UC_Berkeley_short.pdf of type pdf using the text-embedding-ada-002 model.\n",
      "Chunking: 100%|██████████████████████| 1/1 [00:01<00:00,  1.48s/file, chunks=30]\n",
      "\u001b[32m2024-05-29 01:09:43\u001b[0m \u001b[1;30m INFO\u001b[0m [  0%] \u001b[34mraft\u001b[0m Using system prompt key llama\n",
      "\u001b[32m2024-05-29 01:09:43\u001b[0m \u001b[1;30m INFO\u001b[0m [  0%] \u001b[34mraft\u001b[0m Using 2 worker threads\n",
      "Generating: 100%|█| 30/30 [03:05<00:00,  6.18s/chunk, qa=30, last tok/s=1.05e+4,\n",
      "\u001b[32m2024-05-29 01:12:50\u001b[0m \u001b[1;30m INFO\u001b[0m [  0%] \u001b[34mraft\u001b[0m Consumed 24964 prompt tokens, 5776 completion tokens, 30740 total tokens\n",
      "Saving the dataset (1/1 shards): 100%|██| 30/30 [00:00<00:00, 942.94 examples/s]\n",
      "Creating json from Arrow format: 100%|████████████| 1/1 [00:00<00:00, 40.36ba/s]\n",
      "\u001b[32m2024-05-29 01:12:50\u001b[0m \u001b[1;30m INFO\u001b[0m [  0%] \u001b[34mraft\u001b[0m Generated 30 question/answer/CoT/documents samples\n",
      "\u001b[32m2024-05-29 01:12:50\u001b[0m \u001b[1;30m INFO\u001b[0m [  0%] \u001b[34mraft\u001b[0m Dataset saved to /workspaces/gorilla/raft/azure-ai-studio-ft/dataset/ucb-DEMO\n",
      "\u001b[32m2024-05-29 01:12:50\u001b[0m \u001b[1;30m INFO\u001b[0m [  0%] \u001b[34mraft\u001b[0m Done in 188.70s\n"
     ]
    }
   ],
   "source": [
    "! python3 ../raft.py \\\n",
    "    --datapath \"$doc_path\" \\\n",
    "    --output $ds_path \\\n",
    "    --distractors 3 \\\n",
    "    --doctype pdf \\\n",
    "    --chunk_size 512 \\\n",
    "    --questions 1 \\\n",
    "    --workers 2 \\\n",
    "    --system-prompt-key llama \\\n",
    "    --completion_model Meta-Llama-3-70B-Instruct \\\n",
    "    --embedding_model text-embedding-ada-002"
   ]
  },
  {
   "cell_type": "markdown",
   "metadata": {},
   "source": [
    "## Prepare training, validation and evaluation splits"
   ]
  },
  {
   "cell_type": "code",
   "execution_count": 3,
   "metadata": {},
   "outputs": [
    {
     "name": "stdout",
     "output_type": "stream",
     "text": [
      "Reading arrow file dataset/ucb-DEMO/data-00000-of-00001.arrow\n"
     ]
    }
   ],
   "source": [
    "raft_arrow_file = f\"{ds_path}/data-00000-of-00001.arrow\"\n",
    "dataset_path = f\"{ds_path}-files/{ds_name}-full.jsonl\"\n",
    "dataset_path_hf = f\"{ds_path}-files/{ds_name}-hf.full.jsonl\"\n",
    "\n",
    "dataset_path_hf_train = f\"{ds_path}-files/{ds_name}-hf.train.jsonl\"\n",
    "dataset_path_hf_valid = f\"{ds_path}-files/{ds_name}-hf.valid.jsonl\"\n",
    "dataset_path_hf_eval = f\"{ds_path}-files/{ds_name}-hf.eval.jsonl\"\n",
    "\n",
    "dataset_path_ft_train = f\"{ds_path}-files/{ds_name}-ft.train.jsonl\"\n",
    "dataset_path_ft_valid = f\"{ds_path}-files/{ds_name}-ft.valid.jsonl\"\n",
    "dataset_path_ft_eval = f\"{ds_path}-files/{ds_name}-ft.eval.jsonl\"\n",
    "\n",
    "print(f\"Reading arrow file {raft_arrow_file}\")"
   ]
  },
  {
   "cell_type": "markdown",
   "metadata": {},
   "source": [
    "### Export dataset to JSONL"
   ]
  },
  {
   "cell_type": "code",
   "execution_count": 4,
   "metadata": {},
   "outputs": [
    {
     "name": "stdout",
     "output_type": "stream",
     "text": [
      "\u001b[32m2024-05-29 01:44:48\u001b[0m \u001b[1;30m INFO\u001b[0m [    ] \u001b[34mraft\u001b[0m Dataset has 30 rows\n",
      "\u001b[32m2024-05-29 01:44:48\u001b[0m \u001b[1;30m INFO\u001b[0m [    ] \u001b[34mraft\u001b[0m Converting arrow file dataset/ucb-DEMO/data-00000-of-00001.arrow to jsonl hf file dataset/ucb-DEMO-files/ucb-DEMO-hf.full.jsonl\n",
      "Creating json from Arrow format: 100%|████████████| 1/1 [00:00<00:00, 37.33ba/s]\n"
     ]
    }
   ],
   "source": [
    "! python ../format.py \\\n",
    "    --input $raft_arrow_file \\\n",
    "    --output $dataset_path_hf \\\n",
    "    --output-format hf"
   ]
  },
  {
   "cell_type": "code",
   "execution_count": 5,
   "metadata": {},
   "outputs": [
    {
     "data": {
      "text/html": [
       "<div>\n",
       "<style scoped>\n",
       "    .dataframe tbody tr th:only-of-type {\n",
       "        vertical-align: middle;\n",
       "    }\n",
       "\n",
       "    .dataframe tbody tr th {\n",
       "        vertical-align: top;\n",
       "    }\n",
       "\n",
       "    .dataframe thead th {\n",
       "        text-align: right;\n",
       "    }\n",
       "</style>\n",
       "<table border=\"1\" class=\"dataframe\">\n",
       "  <thead>\n",
       "    <tr style=\"text-align: right;\">\n",
       "      <th></th>\n",
       "      <th>id</th>\n",
       "      <th>type</th>\n",
       "      <th>question</th>\n",
       "      <th>context</th>\n",
       "      <th>oracle_context</th>\n",
       "      <th>cot_answer</th>\n",
       "      <th>instruction</th>\n",
       "    </tr>\n",
       "  </thead>\n",
       "  <tbody>\n",
       "    <tr>\n",
       "      <th>0</th>\n",
       "      <td>daec9f54-28e1-4c1a-80ca-5de787542796</td>\n",
       "      <td>general</td>\n",
       "      <td>What was the reason for Jack Weinberg's arrest...</td>\n",
       "      <td>{'sentences': [['The school\n",
       "later told U.S. Ne...</td>\n",
       "      <td>In 1964, the Free\\nSpeech Movement organized s...</td>\n",
       "      <td>To answer the question, we need to identify th...</td>\n",
       "      <td>&lt;DOCUMENT&gt;The school\\nlater told U.S. News the...</td>\n",
       "    </tr>\n",
       "    <tr>\n",
       "      <th>1</th>\n",
       "      <td>f3dbd73d-ef4f-4abd-9446-efcec12712ec</td>\n",
       "      <td>general</td>\n",
       "      <td>What was Berkeley's originally reported two-ye...</td>\n",
       "      <td>{'sentences': [['Physics professor J.', 'Unive...</td>\n",
       "      <td>Berkeley had originally reported that its two-...</td>\n",
       "      <td>To answer the question, we need to identify Be...</td>\n",
       "      <td>&lt;DOCUMENT&gt;Physics professor J.&lt;/DOCUMENT&gt;\\n&lt;DO...</td>\n",
       "    </tr>\n",
       "  </tbody>\n",
       "</table>\n",
       "</div>"
      ],
      "text/plain": [
       "                                     id     type  \\\n",
       "0  daec9f54-28e1-4c1a-80ca-5de787542796  general   \n",
       "1  f3dbd73d-ef4f-4abd-9446-efcec12712ec  general   \n",
       "\n",
       "                                            question  \\\n",
       "0  What was the reason for Jack Weinberg's arrest...   \n",
       "1  What was Berkeley's originally reported two-ye...   \n",
       "\n",
       "                                             context  \\\n",
       "0  {'sentences': [['The school\n",
       "later told U.S. Ne...   \n",
       "1  {'sentences': [['Physics professor J.', 'Unive...   \n",
       "\n",
       "                                      oracle_context  \\\n",
       "0  In 1964, the Free\\nSpeech Movement organized s...   \n",
       "1  Berkeley had originally reported that its two-...   \n",
       "\n",
       "                                          cot_answer  \\\n",
       "0  To answer the question, we need to identify th...   \n",
       "1  To answer the question, we need to identify Be...   \n",
       "\n",
       "                                         instruction  \n",
       "0  <DOCUMENT>The school\\nlater told U.S. News the...  \n",
       "1  <DOCUMENT>Physics professor J.</DOCUMENT>\\n<DO...  "
      ]
     },
     "execution_count": 5,
     "metadata": {},
     "output_type": "execute_result"
    }
   ],
   "source": [
    "hf_full_df = pd.read_json(dataset_path_hf, lines=True)\n",
    "hf_full_df.head(2)"
   ]
  },
  {
   "cell_type": "markdown",
   "metadata": {},
   "source": [
    "### Do the splitting"
   ]
  },
  {
   "cell_type": "code",
   "execution_count": 6,
   "metadata": {},
   "outputs": [
    {
     "name": "stderr",
     "output_type": "stream",
     "text": [
      "/workspaces/gorilla/raft/.venv/lib/python3.10/site-packages/numpy/core/fromnumeric.py:59: FutureWarning: 'DataFrame.swapaxes' is deprecated and will be removed in a future version. Please use 'DataFrame.transpose' instead.\n",
      "  return bound(*args, **kwds)\n"
     ]
    }
   ],
   "source": [
    "# split dataset into 80%/10%/10%\n",
    "import numpy as np\n",
    "samples_count = len(hf_full_df)\n",
    "hf_train_df, hf_valid_df, hf_eval_df = np.split(hf_full_df, [int(.8*samples_count), int(.9*samples_count)])\n",
    "hf_train_df.to_json(dataset_path_hf_train, orient=\"records\", lines=True)\n",
    "hf_valid_df.to_json(dataset_path_hf_valid, orient=\"records\", lines=True)\n",
    "hf_eval_df.to_json(dataset_path_hf_eval, orient=\"records\", lines=True)"
   ]
  },
  {
   "cell_type": "markdown",
   "metadata": {},
   "source": [
    "### Export training and validation datasets into JSONL format"
   ]
  },
  {
   "cell_type": "code",
   "execution_count": 7,
   "metadata": {},
   "outputs": [
    {
     "name": "stdout",
     "output_type": "stream",
     "text": [
      "Generating train split: 24 examples [00:00, 4515.87 examples/s]\n",
      "\u001b[32m2024-05-29 01:44:56\u001b[0m \u001b[1;30m INFO\u001b[0m [    ] \u001b[34mraft\u001b[0m Dataset has 24 rows\n",
      "\u001b[32m2024-05-29 01:44:56\u001b[0m \u001b[1;30m INFO\u001b[0m [    ] \u001b[34mraft\u001b[0m Converting jsonl file dataset/ucb-DEMO-files/ucb-DEMO-hf.train.jsonl to jsonl completion file dataset/ucb-DEMO-files/ucb-DEMO-ft.train.jsonl\n",
      "Filter out empty examples: 100%|███████| 24/24 [00:00<00:00, 4229.73 examples/s]\n",
      "Rename fields and add <STOP> token: 100%|█| 24/24 [00:00<00:00, 8546.72 examples\n",
      "Creating json from Arrow format: 100%|███████████| 1/1 [00:00<00:00, 368.99ba/s]\n"
     ]
    }
   ],
   "source": [
    "! python ../format.py \\\n",
    "    --input $dataset_path_hf_train \\\n",
    "    --input-type jsonl \\\n",
    "    --output $dataset_path_ft_train \\\n",
    "    --output-format completion \\\n",
    "    --output-completion-prompt-column text\\\n",
    "    --output-completion-completion-column ground_truth"
   ]
  },
  {
   "cell_type": "code",
   "execution_count": 8,
   "metadata": {},
   "outputs": [
    {
     "name": "stdout",
     "output_type": "stream",
     "text": [
      "Generating train split: 3 examples [00:00, 656.01 examples/s]\n",
      "\u001b[32m2024-05-29 01:44:59\u001b[0m \u001b[1;30m INFO\u001b[0m [    ] \u001b[34mraft\u001b[0m Dataset has 3 rows\n",
      "\u001b[32m2024-05-29 01:44:59\u001b[0m \u001b[1;30m INFO\u001b[0m [    ] \u001b[34mraft\u001b[0m Converting jsonl file dataset/ucb-DEMO-files/ucb-DEMO-hf.valid.jsonl to jsonl completion file dataset/ucb-DEMO-files/ucb-DEMO-ft.valid.jsonl\n",
      "Filter out empty examples: 100%|██████████| 3/3 [00:00<00:00, 641.36 examples/s]\n",
      "Rename fields and add <STOP> token: 100%|█| 3/3 [00:00<00:00, 1126.69 examples/s\n",
      "Creating json from Arrow format: 100%|███████████| 1/1 [00:00<00:00, 302.75ba/s]\n"
     ]
    }
   ],
   "source": [
    "! python ../format.py \\\n",
    "    --input $dataset_path_hf_valid \\\n",
    "    --input-type jsonl \\\n",
    "    --output $dataset_path_ft_valid \\\n",
    "    --output-format completion \\\n",
    "    --output-completion-prompt-column text\\\n",
    "    --output-completion-completion-column ground_truth"
   ]
  },
  {
   "cell_type": "code",
   "execution_count": 9,
   "metadata": {},
   "outputs": [
    {
     "data": {
      "text/html": [
       "<div>\n",
       "<style scoped>\n",
       "    .dataframe tbody tr th:only-of-type {\n",
       "        vertical-align: middle;\n",
       "    }\n",
       "\n",
       "    .dataframe tbody tr th {\n",
       "        vertical-align: top;\n",
       "    }\n",
       "\n",
       "    .dataframe thead th {\n",
       "        text-align: right;\n",
       "    }\n",
       "</style>\n",
       "<table border=\"1\" class=\"dataframe\">\n",
       "  <thead>\n",
       "    <tr style=\"text-align: right;\">\n",
       "      <th></th>\n",
       "      <th>text</th>\n",
       "      <th>ground_truth</th>\n",
       "    </tr>\n",
       "  </thead>\n",
       "  <tbody>\n",
       "    <tr>\n",
       "      <th>0</th>\n",
       "      <td>&lt;DOCUMENT&gt;Holden\\n1888–1890 Horace Davis\\n1890...</td>\n",
       "      <td>To answer the question, we need to identify th...</td>\n",
       "    </tr>\n",
       "    <tr>\n",
       "      <th>1</th>\n",
       "      <td>&lt;DOCUMENT&gt;Strong\\n1965–1965 Martin E.&lt;/DOCUMEN...</td>\n",
       "      <td>To answer the question, we need to identify th...</td>\n",
       "    </tr>\n",
       "  </tbody>\n",
       "</table>\n",
       "</div>"
      ],
      "text/plain": [
       "                                                text  \\\n",
       "0  <DOCUMENT>Holden\\n1888–1890 Horace Davis\\n1890...   \n",
       "1  <DOCUMENT>Strong\\n1965–1965 Martin E.</DOCUMEN...   \n",
       "\n",
       "                                        ground_truth  \n",
       "0  To answer the question, we need to identify th...  \n",
       "1  To answer the question, we need to identify th...  "
      ]
     },
     "execution_count": 9,
     "metadata": {},
     "output_type": "execute_result"
    }
   ],
   "source": [
    "dataset_path_ft_valid_df = pd.read_json(dataset_path_ft_valid, lines=True)\n",
    "dataset_path_ft_valid_df.head(2)"
   ]
  },
  {
   "cell_type": "markdown",
   "metadata": {},
   "source": [
    "### Export evaluation dataset into JSONL format"
   ]
  },
  {
   "cell_type": "code",
   "execution_count": 10,
   "metadata": {},
   "outputs": [
    {
     "name": "stdout",
     "output_type": "stream",
     "text": [
      "Generating train split: 3 examples [00:00, 651.90 examples/s]\n",
      "\u001b[32m2024-05-29 01:45:09\u001b[0m \u001b[1;30m INFO\u001b[0m [    ] \u001b[34mraft\u001b[0m Dataset has 3 rows\n",
      "\u001b[32m2024-05-29 01:45:09\u001b[0m \u001b[1;30m INFO\u001b[0m [    ] \u001b[34mraft\u001b[0m Converting jsonl file dataset/ucb-DEMO-files/ucb-DEMO-hf.eval.jsonl to jsonl eval file dataset/ucb-DEMO-files/ucb-DEMO-ft.eval.jsonl\n",
      "Filter out empty examples: 100%|██████████| 3/3 [00:00<00:00, 471.08 examples/s]\n",
      "Map: 100%|████████████████████████████████| 3/3 [00:00<00:00, 974.21 examples/s]\n",
      "Map: 100%|███████████████████████████████| 3/3 [00:00<00:00, 1309.49 examples/s]\n",
      "Creating json from Arrow format: 100%|████████████| 1/1 [00:00<00:00, 50.96ba/s]\n"
     ]
    }
   ],
   "source": [
    "! python ../format.py \\\n",
    "    --input $dataset_path_hf_eval \\\n",
    "    --input-type jsonl \\\n",
    "    --output $dataset_path_ft_eval \\\n",
    "    --output-format eval"
   ]
  },
  {
   "cell_type": "code",
   "execution_count": 11,
   "metadata": {},
   "outputs": [
    {
     "data": {
      "text/html": [
       "<div>\n",
       "<style scoped>\n",
       "    .dataframe tbody tr th:only-of-type {\n",
       "        vertical-align: middle;\n",
       "    }\n",
       "\n",
       "    .dataframe tbody tr th {\n",
       "        vertical-align: top;\n",
       "    }\n",
       "\n",
       "    .dataframe thead th {\n",
       "        text-align: right;\n",
       "    }\n",
       "</style>\n",
       "<table border=\"1\" class=\"dataframe\">\n",
       "  <thead>\n",
       "    <tr style=\"text-align: right;\">\n",
       "      <th></th>\n",
       "      <th>question</th>\n",
       "      <th>gold_final_answer</th>\n",
       "      <th>context</th>\n",
       "    </tr>\n",
       "  </thead>\n",
       "  <tbody>\n",
       "    <tr>\n",
       "      <th>0</th>\n",
       "      <td>What is considered the unofficial flagship of ...</td>\n",
       "      <td>Berkeley</td>\n",
       "      <td>&lt;DOCUMENT&gt;Although the University of Californi...</td>\n",
       "    </tr>\n",
       "    <tr>\n",
       "      <th>1</th>\n",
       "      <td>In what year was the Simons Institute for the ...</td>\n",
       "      <td>2012</td>\n",
       "      <td>&lt;DOCUMENT&gt;Birgeneau\\n2013–2017 Nicholas B.&lt;/DO...</td>\n",
       "    </tr>\n",
       "  </tbody>\n",
       "</table>\n",
       "</div>"
      ],
      "text/plain": [
       "                                            question gold_final_answer  \\\n",
       "0  What is considered the unofficial flagship of ...          Berkeley   \n",
       "1  In what year was the Simons Institute for the ...              2012   \n",
       "\n",
       "                                             context  \n",
       "0  <DOCUMENT>Although the University of Californi...  \n",
       "1  <DOCUMENT>Birgeneau\\n2013–2017 Nicholas B.</DO...  "
      ]
     },
     "execution_count": 11,
     "metadata": {},
     "output_type": "execute_result"
    }
   ],
   "source": [
    "dataset_path_ft_eval_df = pd.read_json(dataset_path_ft_eval, lines=True)\n",
    "dataset_path_ft_eval_df.head(2)"
   ]
  },
  {
   "cell_type": "code",
   "execution_count": null,
   "metadata": {},
   "outputs": [],
   "source": []
  }
 ],
 "metadata": {
  "kernelspec": {
   "display_name": "Python 3 (ipykernel)",
   "language": "python",
   "name": "python3"
  },
  "language_info": {
   "codemirror_mode": {
    "name": "ipython",
    "version": 3
   },
   "file_extension": ".py",
   "mimetype": "text/x-python",
   "name": "python",
   "nbconvert_exporter": "python",
   "pygments_lexer": "ipython3",
   "version": "3.10.14"
  }
 },
 "nbformat": 4,
 "nbformat_minor": 4
}
